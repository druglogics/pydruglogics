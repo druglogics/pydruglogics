{
 "cells": [
  {
   "cell_type": "markdown",
   "id": "fe6bffb7-a7dd-470b-91c0-0cd53abba721",
   "metadata": {},
   "source": [
    "# Tutorial for PyDruglogics\n"
   ]
  },
  {
   "cell_type": "markdown",
   "id": "6a468c93-2d56-4519-830b-87a8e561dee5",
   "metadata": {},
   "source": [
    "This tutorial demonstrates the use of PyDruglogics for optimizing of Boolean Models and predict drug synergy effects.\n",
    "The PyDruglogics pipeline implementation on based on: [Å. Flobak, J. Zobolas (2023): Fine tuning a logical model of cancer cells to predict drug synergies: combining manual curation and automated parameterization](https://www.frontiersin.org/journals/systems-biology/articles/10.3389/fsysb.2023.1252961/full).\n",
    "\n",
    "More information about the package on [GitHub](https://github.com/druglogics/pydruglogics).\n",
    "\n",
    "### Core Features\n",
    "- Construct Boolean Model from `.sif` file\n",
    "- Optimize Boolean Model\n",
    "- Generate perturbed models\n",
    "- Evaluate drug synergies\n"
   ]
  },
  {
   "cell_type": "markdown",
   "id": "87847983-f04e-4525-8060-49906ad7fdfa",
   "metadata": {},
   "source": [
    "## Initialization, loading files"
   ]
  },
  {
   "cell_type": "markdown",
   "id": "9c4cc708-e284-4aa9-8080-d3f594391f4e",
   "metadata": {},
   "source": [
    "The parameters and the initialization of the pipeline are summarized in this section. These are the neccesary components for constructing, training, and applying predictive models effectively."
   ]
  },
  {
   "cell_type": "code",
   "execution_count": 161,
   "id": "034f3848-b938-4907-a62c-9e9fb3948b12",
   "metadata": {},
   "outputs": [],
   "source": [
    "import pydruglogics"
   ]
  },
  {
   "cell_type": "code",
   "execution_count": 162,
   "id": "0e18a2c6-f896-4fe4-b08d-64335963a2a1",
   "metadata": {},
   "outputs": [],
   "source": [
    "from pydruglogics.model.BooleanModel import BooleanModel\n",
    "from pydruglogics.model.InteractionModel import InteractionModel\n",
    "from pydruglogics.input.ModelOutputs import ModelOutputs\n",
    "from pydruglogics.input.TrainingData import TrainingData\n",
    "from pydruglogics.input.Perturbations import Perturbation"
   ]
  },
  {
   "cell_type": "markdown",
   "id": "0efb70d9-9122-4889-9796-c6a0418d593b",
   "metadata": {},
   "source": [
    "#### Model Outputs\n",
    "Defines the network nodes and their respective weights used to calculate a global output response for the Boolean Model. \\\n",
    "**Initialization:**\n",
    "1. **From a File**: Load target states from a file that specifies node-state pairs.\n",
    "2. **From a Dictionary**: Define directly using a dictionary where each key-value pair represents a node and its integer weight."
   ]
  },
  {
   "cell_type": "code",
   "execution_count": 163,
   "id": "8c7cf343-02b2-4ad7-80e8-14b5c995fc70",
   "metadata": {},
   "outputs": [
    {
     "name": "stdout",
     "output_type": "stream",
     "text": [
      "2024-11-19 14:36:53,452 - INFO - Model outputs are initialized from dictionary.\n"
     ]
    }
   ],
   "source": [
    "model_outputs_dict = {\n",
    "        \"RSK_f\": 1.0,\n",
    "        \"MYC\": 1.0,\n",
    "        \"TCF7_f\": 1.0,\n",
    "        \"CASP8\": -1.0,\n",
    "        \"CASP9\": -1.0,\n",
    "        \"FOXO_f\": -1.0\n",
    "    }\n",
    "model_outputs = ModelOutputs(input_dictionary=model_outputs_dict)"
   ]
  },
  {
   "cell_type": "code",
   "execution_count": 164,
   "id": "05540493-7aa3-4051-8614-3e12c7b8bc15",
   "metadata": {},
   "outputs": [
    {
     "name": "stdout",
     "output_type": "stream",
     "text": [
      "Model output: RSK_f, weight: 1.0\n",
      "Model output: MYC, weight: 1.0\n",
      "Model output: TCF7_f, weight: 1.0\n",
      "Model output: CASP8, weight: -1.0\n",
      "Model output: CASP9, weight: -1.0\n",
      "Model output: FOXO_f, weight: -1.0\n"
     ]
    }
   ],
   "source": [
    "model_outputs.print()"
   ]
  },
  {
   "cell_type": "markdown",
   "id": "d88d10e7-9190-4206-96cc-0cb127629a8d",
   "metadata": {},
   "source": [
    "#### Training Data\n",
    "Inclues condition-response pairs (observations) and a weight number used to calculate the weighted average fitness of the Boolean Models.\\\n",
    "**Initialization:**"
   ]
  },
  {
   "cell_type": "markdown",
   "id": "1c2cc120-2d32-4073-87bb-cdfcc427d334",
   "metadata": {},
   "source": [
    "1. **From a File**: Load target states from a structured file."
   ]
  },
  {
   "cell_type": "code",
   "execution_count": 165,
   "id": "2a78dc9a-8d0e-4dc6-8258-d4c7d8255c6d",
   "metadata": {},
   "outputs": [
    {
     "name": "stdout",
     "output_type": "stream",
     "text": [
      "2024-11-19 14:36:53,463 - INFO - Training data loaded from file: training.\n"
     ]
    }
   ],
   "source": [
    "training_data_file = 'training'\n",
    "training_data = TrainingData(input_file=training_data_file)"
   ]
  },
  {
   "cell_type": "markdown",
   "id": "841ee427-d93a-4d1a-8998-af2bedc8e5ac",
   "metadata": {},
   "source": [
    "2. **From a Dictionary**: Define directly using a dictionary."
   ]
  },
  {
   "cell_type": "code",
   "execution_count": 166,
   "id": "6bd8c296-a08f-42b8-8b58-d75fa6d85179",
   "metadata": {},
   "outputs": [],
   "source": [
    " observations = [([\"CASP3:0\", \"CASP8:0\",\"CASP9:0\",\"FOXO_f:0\",\"RSK_f:1\",\"CCND1:1\",\n",
    "                      \"MYC:1\",\"RAC_f:1\",\"JNK_f:0\",\"MAPK14:0\",\"AKT_f:1\",\"MMP_f:1\",\n",
    "                      \"PTEN:0\",\"ERK_f:1\",\"KRAS:1\",\"PIK3CA:1\",\"S6K_f:1\",\"GSK3_f:0\",\n",
    "                      \"TP53:0\",\"BAX:0\",\"BCL2:1\",\"CTNNB1:1\",\"TCF7_f:1\",\"NFKB_f:1\"], 1.0)]"
   ]
  },
  {
   "cell_type": "code",
   "execution_count": 167,
   "id": "6ccf4586-5946-4a1a-9d3f-7978b13b1fdb",
   "metadata": {},
   "outputs": [
    {
     "name": "stdout",
     "output_type": "stream",
     "text": [
      "2024-11-19 14:36:53,472 - INFO - Training data initialized from list.\n"
     ]
    }
   ],
   "source": [
    "training_data = TrainingData(observations=observations)"
   ]
  },
  {
   "cell_type": "code",
   "execution_count": 168,
   "id": "763da94b-803d-4967-a55f-bfa886d56a3e",
   "metadata": {},
   "outputs": [
    {
     "name": "stdout",
     "output_type": "stream",
     "text": [
      "Observation:\n",
      "Condition: -\n",
      "Response: CASP3:0, CASP8:0, CASP9:0, FOXO_f:0, RSK_f:1, CCND1:1, MYC:1, RAC_f:1, JNK_f:0, MAPK14:0, AKT_f:1, MMP_f:1, PTEN:0, ERK_f:1, KRAS:1, PIK3CA:1, S6K_f:1, GSK3_f:0, TP53:0, BAX:0, BCL2:1, CTNNB1:1, TCF7_f:1, NFKB_f:1\n",
      "Weight: 1.0\n",
      "\n"
     ]
    }
   ],
   "source": [
    "training_data.print()"
   ]
  },
  {
   "cell_type": "markdown",
   "id": "c1c0a36c-e7c2-45de-9281-95fe636655e4",
   "metadata": {},
   "source": [
    "#### Perturbations\n",
    "Defines the drugs and the perturbations applied to the Boolean Models, affecting the nodes in the network.\n",
    "\n",
    "Initialization **From Dictionary**:\n",
    "1. **Define** a `drug_data` **and** `perturbation_data`: Provide a list of drugs with their name, targets, and effect (Options:  `inhibits` (default) or `activates`). Specify a list of perturbations, where each entry is a drug combination.\n",
    "\n",
    "3. **Define only** `drug_data`: If no `perturbation_data` is given, perturbations will be generated automatically by creating all possible single-drug and two-drug combinations from the drug panel."
   ]
  },
  {
   "cell_type": "code",
   "execution_count": 169,
   "id": "e7c09258-4d82-45a6-b01f-c8d8f61a5cbd",
   "metadata": {},
   "outputs": [],
   "source": [
    " drug_data = [\n",
    "        ['PI', 'PIK3CA', 'inhibits'],\n",
    "        ['PD', 'MEK_f'],\n",
    "        ['CT','GSK3_f'],\n",
    "        ['BI', 'MAPK14'],\n",
    "        ['PK', 'CTNNB1'],\n",
    "        ['AK', 'AKT_f'],\n",
    "        ['5Z', 'MAP3K7']\n",
    "    ]"
   ]
  },
  {
   "cell_type": "markdown",
   "id": "839c4ddc-9c92-4bbd-9993-0174ade55c53",
   "metadata": {},
   "source": [
    "**Note**: The `perturbation_data` is **optional**. If only the `drug_data` is given, all perturbations are calculated."
   ]
  },
  {
   "cell_type": "code",
   "execution_count": 170,
   "id": "1c4e617c-3585-44d8-b607-369621b26b11",
   "metadata": {},
   "outputs": [],
   "source": [
    "perturbation_data = [\n",
    "        ['PI'],\n",
    "        ['PD'],\n",
    "        ['CT'],\n",
    "        ['BI'],\n",
    "        ['PK'],\n",
    "        ['AK'],\n",
    "        ['5Z'],\n",
    "        ['PI', 'PD'],\n",
    "        ['PI', 'CT'],\n",
    "        ['PI', 'BI'],\n",
    "        ['PI', 'PK'],\n",
    "        ['PI', 'AK'],\n",
    "        ['PI', '5Z'],\n",
    "        ['PD', 'CT'],\n",
    "        ['PD', 'BI'],\n",
    "        ['PD', 'PK'],\n",
    "        ['PD', 'AK'],\n",
    "        ['PD', '5Z'],\n",
    "        ['CT', 'BI'],\n",
    "        ['CT', 'PK'],\n",
    "        ['CT', 'AK'],\n",
    "        ['CT', '5Z'],\n",
    "        ['BI', 'PK'],\n",
    "        ['BI', 'AK'],\n",
    "        ['BI', '5Z'],\n",
    "        ['PK', 'AK'],\n",
    "        ['PK', '5Z'],\n",
    "        ['AK', '5Z']]"
   ]
  },
  {
   "cell_type": "code",
   "execution_count": 171,
   "id": "1a613933-db52-44f6-a2e3-7aad1894b635",
   "metadata": {},
   "outputs": [
    {
     "name": "stdout",
     "output_type": "stream",
     "text": [
      "2024-11-19 14:36:53,526 - INFO - Drug panel data initialized from list.\n",
      "2024-11-19 14:36:53,527 - INFO - Drug perturbations initialized.\n"
     ]
    }
   ],
   "source": [
    "perturbations = Perturbation(drug_data=drug_data, perturbation_data=perturbation_data)"
   ]
  },
  {
   "cell_type": "code",
   "execution_count": 172,
   "id": "fa1061c4-3cec-4298-891a-8a26cf9c632c",
   "metadata": {},
   "outputs": [
    {
     "name": "stdout",
     "output_type": "stream",
     "text": [
      "[PI (targets: PIK3CA)]\n",
      "[PD (targets: MEK_f)]\n",
      "[CT (targets: GSK3_f)]\n",
      "[BI (targets: MAPK14)]\n",
      "[PK (targets: CTNNB1)]\n",
      "[AK (targets: AKT_f)]\n",
      "[5Z (targets: MAP3K7)]\n",
      "[PI (targets: PIK3CA), PD (targets: MEK_f)]\n",
      "[PI (targets: PIK3CA), CT (targets: GSK3_f)]\n",
      "[PI (targets: PIK3CA), BI (targets: MAPK14)]\n",
      "[PI (targets: PIK3CA), PK (targets: CTNNB1)]\n",
      "[PI (targets: PIK3CA), AK (targets: AKT_f)]\n",
      "[PI (targets: PIK3CA), 5Z (targets: MAP3K7)]\n",
      "[PD (targets: MEK_f), CT (targets: GSK3_f)]\n",
      "[PD (targets: MEK_f), BI (targets: MAPK14)]\n",
      "[PD (targets: MEK_f), PK (targets: CTNNB1)]\n",
      "[PD (targets: MEK_f), AK (targets: AKT_f)]\n",
      "[PD (targets: MEK_f), 5Z (targets: MAP3K7)]\n",
      "[CT (targets: GSK3_f), BI (targets: MAPK14)]\n",
      "[CT (targets: GSK3_f), PK (targets: CTNNB1)]\n",
      "[CT (targets: GSK3_f), AK (targets: AKT_f)]\n",
      "[CT (targets: GSK3_f), 5Z (targets: MAP3K7)]\n",
      "[BI (targets: MAPK14), PK (targets: CTNNB1)]\n",
      "[BI (targets: MAPK14), AK (targets: AKT_f)]\n",
      "[BI (targets: MAPK14), 5Z (targets: MAP3K7)]\n",
      "[PK (targets: CTNNB1), AK (targets: AKT_f)]\n",
      "[PK (targets: CTNNB1), 5Z (targets: MAP3K7)]\n",
      "[AK (targets: AKT_f), 5Z (targets: MAP3K7)]\n"
     ]
    }
   ],
   "source": [
    "perturbations.print()"
   ]
  },
  {
   "cell_type": "markdown",
   "id": "b64a7782-fadc-40dd-8e07-ca472453ba1b",
   "metadata": {},
   "source": [
    "### Initialize Boolean Model\n",
    "A `BooleanModel` defines the network and logical rules for node interactions, used for generating predictions and simulations.\\\n",
    "There are **two ways** for the initialization:"
   ]
  },
  {
   "cell_type": "markdown",
   "id": "d5413a26-8fd6-4d64-a21b-1541e3ff7247",
   "metadata": {},
   "source": [
    "#### Initialize Boolean Model from `.sif` file"
   ]
  },
  {
   "cell_type": "markdown",
   "id": "fbd69b30-b1d3-4fbe-a5a4-476db123f392",
   "metadata": {},
   "source": [
    "##### Creating an `InteractionModel`, that can be initialized:\n",
    "  - `interaction_file` (required): The path to the `.sif` file.\n",
    "    \n",
    "  - `model_name`: name of the model, by default the `.sif` file name will be set.\n",
    "\n",
    "  - `remove_self_regulated_interactions`: Remove self regulated interactions. The default is `False`.\n",
    "\n",
    "  - `remove_inputs`: Trim inputs from the model. The deafult is `False`.\n",
    "\n",
    "  - `remove_outputs`: Trim ouputs from the model. The default is `False`.\n",
    "##### Creating a `BooleanModel`, that can be initialized:\n",
    "  - `model` (required): Interaction Model\n",
    "\n",
    "  - `model_name`: The name of the model, by default the `.sif` file name will be set.\n",
    "\n",
    "  - `mutation_type`: There are 3 options: `topology`, `mixed`, `balanced`. The default is `balanced`.\n",
    "\n",
    "  - `attractor_tool`: There are 2 options: `mpbn` or `pyboolnet` The default is `mpbn`. More infotmation [here](https://mpbn.readthedocs.io/) about MPBN (Most Permissive Boolean Networks) and more information [here](https://pyboolnet.readthedocs.io/en/master/) about PyBoolNet.\n",
    "\n",
    "  - `attractor_type`: There are 2 options: `stable_states` or `trapspaces`. The default is `stable_states`.\n"
   ]
  },
  {
   "cell_type": "code",
   "execution_count": 173,
   "id": "2276328d-465e-40d3-a006-50a04a24a8dc",
   "metadata": {},
   "outputs": [
    {
     "name": "stdout",
     "output_type": "stream",
     "text": [
      "2024-11-19 14:36:53,548 - INFO - Interactions loaded successfully\n",
      "Target: Antisurvival, activating regulators: CASP3, FOXO_f\n",
      "Target: CASP3, activating regulators: CASP9, CASP8\n",
      "Target: FOXO_f, inhibitory regulators: NLK, AKT_f\n",
      "Target: Prosurvival, activating regulators: CCND1, MYC\n",
      "Target: CCND1, activating regulators: RSK_f, TCF7_f\n",
      "Target: MYC, activating regulators: TCF7_f\n",
      "Target: RAC_f, activating regulators: DVL_f, mTORC2_c\n",
      "Target: mTORC2_c, activating regulators: TSC_f, inhibitory regulators: S6K_f\n",
      "Target: DVL_f, activating regulators: FZD_f\n",
      "Target: MAP3K4, activating regulators: RAC_f\n",
      "Target: MAP3K11, activating regulators: RAC_f\n",
      "Target: MAP2K4, activating regulators: GRAP2, MAP3K7, MAP3K4, MAP3K11\n",
      "Target: MAP3K7, activating regulators: TAB_f\n",
      "Target: GRAP2, inhibitory regulators: MAPK14\n",
      "Target: MAP2K7, activating regulators: MAP3K7, GRAP2\n",
      "Target: JNK_f, activating regulators: MAP2K7, MAP2K4, inhibitory regulators: DUSP1\n",
      "Target: DUSP1, activating regulators: MAPK14, MSK_f\n",
      "Target: MAPK14, activating regulators: MAP2K3, MAP2K4, inhibitory regulators: DUSP1\n",
      "Target: MAP2K3, activating regulators: MAP3K7, MAP3K5\n",
      "Target: MAP3K5, inhibitory regulators: AKT_f\n",
      "Target: AKT_f, activating regulators: PDPK1, mTORC2_c\n",
      "Target: TAB_f, inhibitory regulators: MAPK14\n",
      "Target: MSK_f, activating regulators: MAPK14, ERK_f\n",
      "Target: RTPK_f, activating regulators: MMP_f, RTPK_g, inhibitory regulators: MEK_f, MAPK14\n",
      "Target: RTPK_g, activating regulators: FOXO_f\n",
      "Target: MEK_f, activating regulators: MAP3K8, RAF_f, inhibitory regulators: ERK_f\n",
      "Target: SHC1, activating regulators: RTPK_f, inhibitory regulators: PTEN\n",
      "Target: PTEN, activating regulators: PTEN_g, inhibitory regulators: GSK3_f\n",
      "Target: GRB2, activating regulators: SHC1\n",
      "Target: SOS1, activating regulators: GRB2, inhibitory regulators: ERK_f\n",
      "Target: ERK_f, activating regulators: MEK_f, inhibitory regulators: DUSP6\n",
      "Target: KRAS, activating regulators: PTPN11, SOS1\n",
      "Target: PTPN11, activating regulators: GAB_f\n",
      "Target: RAF_f, activating regulators: KRAS, inhibitory regulators: RHEB, AKT_f, ERK_f\n",
      "Target: RHEB, inhibitory regulators: TSC_f\n",
      "Target: MAP3K8, activating regulators: IKBKB\n",
      "Target: DUSP6, activating regulators: mTORC1_c, ERK_f\n",
      "Target: mTORC1_c, activating regulators: RSK_f, RHEB, inhibitory regulators: AKT1S1\n",
      "Target: GAB_f, activating regulators: GRB2, inhibitory regulators: ERK_f\n",
      "Target: RSK_f, activating regulators: PDPK1, ERK_f\n",
      "Target: PDPK1, activating regulators: PIK3CA, inhibitory regulators: PTEN\n",
      "Target: PIK3CA, activating regulators: GAB_f, KRAS, IRS1\n",
      "Target: IRS1, inhibitory regulators: S6K_f, IKBKB, ERK_f\n",
      "Target: S6K_f, activating regulators: PDPK1, mTORC1_c\n",
      "Target: IKBKB, activating regulators: MAP3K7, inhibitory regulators: TP53\n",
      "Target: PTEN_g, activating regulators: EGR1\n",
      "Target: GSK3_f, inhibitory regulators: RSK_f, LRP_f, AKT_f, S6K_f, DVL_f, MAPK14, ERK_f\n",
      "Target: TSC_f, activating regulators: GSK3_f, inhibitory regulators: RSK_f, IKBKB, AKT_f, ERK_f\n",
      "Target: TP53, activating regulators: MAPK14, inhibitory regulators: MDM2\n",
      "Target: AKT1S1, inhibitory regulators: AKT_f\n",
      "Target: MDM2, activating regulators: MDM2_g, AKT_f, inhibitory regulators: S6K_f\n",
      "Target: MDM2_g, activating regulators: TP53, NFKB_f\n",
      "Target: BAX, activating regulators: TP53\n",
      "Target: CYCS, activating regulators: BAX, inhibitory regulators: BCL2\n",
      "Target: BCL2, inhibitory regulators: BAD\n",
      "Target: BAD, inhibitory regulators: RSK_f, AKT_f\n",
      "Target: NLK, activating regulators: MAP3K7\n",
      "Target: CASP9, activating regulators: CYCS\n",
      "Target: CASP8, inhibitory regulators: CFLAR\n",
      "Target: CFLAR, activating regulators: AKT_f, inhibitory regulators: ITCH\n",
      "Target: ITCH, activating regulators: JNK_f\n",
      "Target: FZD_f, inhibitory regulators: SFRP1\n",
      "Target: SFRP1, activating regulators: SFRP1_g\n",
      "Target: LRP_f, activating regulators: FZD_f, MAPK14, JNK_f, ERK_f, inhibitory regulators: DKK_f\n",
      "Target: DKK_f, activating regulators: DKK_g\n",
      "Target: AXIN1, inhibitory regulators: LRP_f\n",
      "Target: CK1_f, inhibitory regulators: LRP_f\n",
      "Target: BTRC, activating regulators: CK1_f, GSK3_f, AXIN1\n",
      "Target: CTNNB1, activating regulators: CHUK, inhibitory regulators: BTRC\n",
      "Target: CHUK, activating regulators: AKT_f\n",
      "Target: TCF7_f, activating regulators: CTNNB1, inhibitory regulators: NLK\n",
      "Target: EGR1, inhibitory regulators: TCF7_f\n",
      "Target: DKK_g, activating regulators: TCF7_f, inhibitory regulators: MYC\n",
      "Target: SFRP1_g, inhibitory regulators: MYC\n",
      "Target: NFKB_f, activating regulators: CHUK, IKBKB, MSK_f\n",
      "Target: LEF, activating regulators: CTNNB1\n",
      "Target: MMP_f, activating regulators: LEF\n",
      "\n"
     ]
    }
   ],
   "source": [
    "network_sif = 'network.sif'\n",
    "model = InteractionModel(interactions_file=network_sif)\n",
    "model.print()"
   ]
  },
  {
   "cell_type": "code",
   "execution_count": 174,
   "id": "91f47c2e-cca7-4986-afaf-175c986e7824",
   "metadata": {},
   "outputs": [
    {
     "name": "stdout",
     "output_type": "stream",
     "text": [
      "2024-11-19 14:36:53,558 - INFO - Boolean Model from Interaction Model is created.\n"
     ]
    }
   ],
   "source": [
    "boolean_model_sif = BooleanModel(model=model, model_name='test1',\n",
    "                                     mutation_type='balanced', attractor_tool='mpbn', attractor_type='stable_states')"
   ]
  },
  {
   "cell_type": "code",
   "execution_count": 175,
   "id": "09c328ac-495d-445b-9edc-190e13cfe112",
   "metadata": {},
   "outputs": [
    {
     "name": "stdout",
     "output_type": "stream",
     "text": [
      "Antisurvival *= (CASP3 or FOXO_f)\n",
      "CASP3 *= (CASP9 or CASP8)\n",
      "FOXO_f *= not (NLK or AKT_f)\n",
      "Prosurvival *= (CCND1 or MYC)\n",
      "CCND1 *= (RSK_f or TCF7_f)\n",
      "MYC *= (TCF7_f)\n",
      "RAC_f *= (DVL_f or mTORC2_c)\n",
      "mTORC2_c *= (TSC_f) and not (S6K_f)\n",
      "DVL_f *= (FZD_f)\n",
      "MAP3K4 *= (RAC_f)\n",
      "MAP3K11 *= (RAC_f)\n",
      "MAP2K4 *= (GRAP2 or MAP3K7 or MAP3K4 or MAP3K11)\n",
      "MAP3K7 *= (TAB_f)\n",
      "GRAP2 *= not (MAPK14)\n",
      "MAP2K7 *= (MAP3K7 or GRAP2)\n",
      "JNK_f *= (MAP2K7 or MAP2K4) and not (DUSP1)\n",
      "DUSP1 *= (MAPK14 or MSK_f)\n",
      "MAPK14 *= (MAP2K3 or MAP2K4) and not (DUSP1)\n",
      "MAP2K3 *= (MAP3K7 or MAP3K5)\n",
      "MAP3K5 *= not (AKT_f)\n",
      "AKT_f *= (PDPK1 or mTORC2_c)\n",
      "TAB_f *= not (MAPK14)\n",
      "MSK_f *= (MAPK14 or ERK_f)\n",
      "RTPK_f *= (MMP_f or RTPK_g) and not (MEK_f or MAPK14)\n",
      "RTPK_g *= (FOXO_f)\n",
      "MEK_f *= (MAP3K8 or RAF_f) and not (ERK_f)\n",
      "SHC1 *= (RTPK_f) and not (PTEN)\n",
      "PTEN *= (PTEN_g) and not (GSK3_f)\n",
      "GRB2 *= (SHC1)\n",
      "SOS1 *= (GRB2) and not (ERK_f)\n",
      "ERK_f *= (MEK_f) and not (DUSP6)\n",
      "KRAS *= (PTPN11 or SOS1)\n",
      "PTPN11 *= (GAB_f)\n",
      "RAF_f *= (KRAS) and not (RHEB or AKT_f or ERK_f)\n",
      "RHEB *= not (TSC_f)\n",
      "MAP3K8 *= (IKBKB)\n",
      "DUSP6 *= (mTORC1_c or ERK_f)\n",
      "mTORC1_c *= (RSK_f or RHEB) and not (AKT1S1)\n",
      "GAB_f *= (GRB2) and not (ERK_f)\n",
      "RSK_f *= (PDPK1 or ERK_f)\n",
      "PDPK1 *= (PIK3CA) and not (PTEN)\n",
      "PIK3CA *= (GAB_f or KRAS or IRS1)\n",
      "IRS1 *= not (S6K_f or IKBKB or ERK_f)\n",
      "S6K_f *= (PDPK1 or mTORC1_c)\n",
      "IKBKB *= (MAP3K7) and not (TP53)\n",
      "PTEN_g *= (EGR1)\n",
      "GSK3_f *= not (RSK_f or LRP_f or AKT_f or S6K_f or DVL_f or MAPK14 or ERK_f)\n",
      "TSC_f *= (GSK3_f) and not (RSK_f or IKBKB or AKT_f or ERK_f)\n",
      "TP53 *= (MAPK14) and not (MDM2)\n",
      "AKT1S1 *= not (AKT_f)\n",
      "MDM2 *= (MDM2_g or AKT_f) and not (S6K_f)\n",
      "MDM2_g *= (TP53 or NFKB_f)\n",
      "BAX *= (TP53)\n",
      "CYCS *= (BAX) and not (BCL2)\n",
      "BCL2 *= not (BAD)\n",
      "BAD *= not (RSK_f or AKT_f)\n",
      "NLK *= (MAP3K7)\n",
      "CASP9 *= (CYCS)\n",
      "CASP8 *= not (CFLAR)\n",
      "CFLAR *= (AKT_f) and not (ITCH)\n",
      "ITCH *= (JNK_f)\n",
      "FZD_f *= not (SFRP1)\n",
      "SFRP1 *= (SFRP1_g)\n",
      "LRP_f *= (FZD_f or MAPK14 or JNK_f or ERK_f) and not (DKK_f)\n",
      "DKK_f *= (DKK_g)\n",
      "AXIN1 *= not (LRP_f)\n",
      "CK1_f *= not (LRP_f)\n",
      "BTRC *= (CK1_f or GSK3_f or AXIN1)\n",
      "CTNNB1 *= (CHUK) and not (BTRC)\n",
      "CHUK *= (AKT_f)\n",
      "TCF7_f *= (CTNNB1) and not (NLK)\n",
      "EGR1 *= not (TCF7_f)\n",
      "DKK_g *= (TCF7_f) and not (MYC)\n",
      "SFRP1_g *= not (MYC)\n",
      "NFKB_f *= (CHUK or IKBKB or MSK_f)\n",
      "LEF *= (CTNNB1)\n",
      "MMP_f *= (LEF)\n"
     ]
    }
   ],
   "source": [
    "boolean_model_sif.print()"
   ]
  },
  {
   "cell_type": "markdown",
   "id": "4998672f-eeac-46fc-9ed1-483145c30725",
   "metadata": {},
   "source": [
    "#### Initialize Boolean Model from `.bnet` file"
   ]
  },
  {
   "cell_type": "markdown",
   "id": "8a6df39c-2506-4f9e-ae62-ad8042aa4c7a",
   "metadata": {},
   "source": [
    "See more about the BoolNet format: [CoLoMoTo formats](http://colomoto.org/biolqm/doc/format-bnet.html) and [PyBoolNet Docs](https://pyboolnet.readthedocs.io/en/master/quickstart.html).\n",
    "\n",
    "**Creating a `BooleanModel`, that can be initialized:**\n",
    "  - `file` (required): The path to the `.bnet` file.\n",
    "    \n",
    "  - `model_name`: The name of the model.\n",
    "\n",
    "  - `mutation_type`: There are 3 options: `topology`, `mixed`, `balanced`. The default is balanced.\n",
    "\n",
    "  - `attractor_tool`: There are 2 options: `mpbn` or `pyboolnet` The default is `mpbn`.\n",
    "\n",
    "  - `attractor_type`:There are 2 options: `stable_states` or `trapspaces`. The default is `stable_states`."
   ]
  },
  {
   "cell_type": "code",
   "execution_count": 176,
   "id": "2755cb78-3ded-4c7c-991a-1fefbc29d7de",
   "metadata": {},
   "outputs": [
    {
     "name": "stdout",
     "output_type": "stream",
     "text": [
      "2024-11-19 14:36:53,571 - INFO - Boolean Model from .bnet file is created.\n"
     ]
    }
   ],
   "source": [
    "equations_bnet = 'network.bnet'\n",
    "boolean_model_bnet = BooleanModel(file=equations_bnet, model_name='test2',\n",
    "                                     mutation_type='balanced', attractor_tool='mpbn', attractor_type='trapspaces')"
   ]
  },
  {
   "cell_type": "markdown",
   "id": "bb9c8cc4-92a4-46eb-80c7-e6c2618bbc03",
   "metadata": {},
   "source": [
    "## Run Train and Predict with `executor`"
   ]
  },
  {
   "cell_type": "markdown",
   "id": "58d3a396-9a5a-4d89-8fa0-75cd82ca7e28",
   "metadata": {},
   "source": [
    "**Required Parameters:**\n",
    "- `BooleanModel`,\n",
    "- `ModelOutputs`,\n",
    "- `Perturbations`\n",
    "- Genetic Algorithm Arguments (`ga_args`)\n",
    "- Evolution Arguments (`ev_args`)\n",
    "- Observed Synergy Scores (`observed_synergy_scores`)\n",
    "\n",
    "**Optional Parameters:**\n",
    "- `Training Data`"
   ]
  },
  {
   "cell_type": "markdown",
   "id": "aedecfb1-1e31-474f-8ed5-16e4d69399ca",
   "metadata": {},
   "source": [
    "### Initialize Train and Predict\n",
    "\n",
    "To run training and prediction, have to set up `train_params` and `predict_params`, which define how the executor handles model training and simulations. Below, you can see how to initialize these parameters.\n",
    "\n"
   ]
  },
  {
   "cell_type": "markdown",
   "id": "1eac0dd9-e91d-401d-a01c-ece5eb760c51",
   "metadata": {},
   "source": [
    "#### 1. `train_params`\n",
    "This dictionary holds the configuration and input data necessary for training Boolean Models.\\\n",
    "Below is a detailed overview of its parameters:\n",
    "\n",
    "- `boolean_model`: The initial `BooleanModel` instance that serves as the starting point for training.\n",
    "\n",
    "\n",
    "- `model_outputs`: An instance of `ModelOutputs`.\n",
    "\n",
    "- `training_data` (optional): An instance of `TrainingData`.\n",
    "\n",
    "- `ga_args`: A dictionary of arguments and configurations for the genetic algorithm.\n",
    "\n",
    "- `ev_args`: A dictionary of arguments for the evolutionary strategy settings. It runs multiple times the genetic algorithm.\n",
    "\n",
    "- `save_best_models` (optional): Whether to save the models with the best fitness score to disk. By defult, `False`.\n",
    "  \n",
    "\n",
    "- `save_path` (optional): The path where the best models will be saved if `save_best_models` is `True`. (e.g. `'./models'`)."
   ]
  },
  {
   "cell_type": "markdown",
   "id": "cd032748-6cc1-4eac-98b0-6d2737b7852c",
   "metadata": {},
   "source": [
    "##### Arguments for the Genetic Algorithm (`ga_args`)\n",
    "The Evolution pipeline uses the `PyGAD` Genetic Algoritm . For more information about the `PyGAD.GA` initialization click [here](https://pygad.readthedocs.io/en/latest/pygad.html#init) ."
   ]
  },
  {
   "cell_type": "code",
   "execution_count": 177,
   "id": "ed2aa5e6-cba6-4858-a73b-12d9c084d01a",
   "metadata": {},
   "outputs": [],
   "source": [
    "ga_args = {\n",
    "        'num_generations': 20,\n",
    "        'num_parents_mating': 3,\n",
    "        'mutation_num_genes': 8,\n",
    "        'fitness_batch_size': 20,\n",
    "        'crossover_type': 'single_point',\n",
    "        'mutation_type': 'random',\n",
    "        'keep_elitism': 6,\n",
    "        # 'stop_criteria': 'reach_95'\n",
    "}"
   ]
  },
  {
   "cell_type": "markdown",
   "id": "85edfc01-f9c2-412c-9137-a97bc4320525",
   "metadata": {},
   "source": [
    "##### Arguments for the Evolution (`ev_args`)\n",
    "- `num_best_solutions`: Number of the best solutions per Evolution run.\n",
    "  \n",
    "- `num_of_runs`: Number of running the Evolution\n",
    "  \n",
    "- `num_of_cores`: Maximum number of cores for calculations\n",
    "  \n",
    "- `num_of_init_mutation`: Number of mutated genes in the initial population."
   ]
  },
  {
   "cell_type": "code",
   "execution_count": 178,
   "id": "d8ce1cde-5db0-43bf-b684-ca82ed2aeadc",
   "metadata": {},
   "outputs": [],
   "source": [
    "ev_args = {\n",
    "        'num_best_solutions': 3,\n",
    "        'num_of_runs': 50,\n",
    "        'num_of_cores': 4,\n",
    "        'num_of_init_mutation': 20\n",
    "}"
   ]
  },
  {
   "cell_type": "markdown",
   "id": "2344c717-bcec-48a7-bbef-8cccf2ce9219",
   "metadata": {},
   "source": [
    "##### Init `train_params`"
   ]
  },
  {
   "cell_type": "code",
   "execution_count": 179,
   "id": "ddd4d0ad-46d3-499c-8802-376b502646bc",
   "metadata": {},
   "outputs": [],
   "source": [
    "train_params = {\n",
    "        'boolean_model': boolean_model_bnet,\n",
    "        'model_outputs': model_outputs,\n",
    "        'training_data': training_data,\n",
    "        'ga_args': ga_args,\n",
    "        'ev_args': ev_args,\n",
    "        'save_best_models': False,\n",
    "        # 'save_path': './models'\n",
    "}"
   ]
  },
  {
   "cell_type": "markdown",
   "id": "0ec19f25-a187-4b70-bb90-8b3b09971354",
   "metadata": {},
   "source": [
    "#### 2. `predict_params`\n",
    "This dictionary holds the necessary configurations for the `predict` function, which simulates perturbed models and predicts drug synergies.\\\n",
    "Below is a detailed overview of its parameters:\n",
    "\n",
    "- `perturbations`: An instance of `Perturbation`.\n",
    "\n",
    "- `model_outputs`: An instance of `ModelOutputs`.\n",
    "\n",
    "- `observed_synergy_scores`: A list of observed synergy scores used to plot and evaluate the predictive accuracy of the models.\n",
    "\n",
    "- `synergy_method`: The method used to calculate synergy scores. Options: `'bliss'` (Bliss Independence) or `'hsa'` (Highest Single Agent). By default, `'bliss'`\n",
    "\n",
    "- `run_parallel` (optional): Whether to run it paralelly or serially, By default, `True`.\n",
    "\n",
    "- `plot_roc_pr_curves` (optional): Whether to plot the ROC and PR Curves when the predction finishes. By default, `True`.\n",
    "\n",
    "- `save_predictions` (optional):  Whether to save the predictions to disk after the simulations. By default, `False`.\n",
    "\n",
    "- `save_path` (optional): Specifies the path to save the predictions if `save_predictions` is `True` (e.g. `'./predictions'`).\n",
    "\n",
    "\n",
    "- **For running only predict on previously trained models from disk:**\n",
    "   - `model_directory`: Path to a directory containing pre-trained models to be loaded if `best_boolean_models` is not provided.(e.g., `'./models/models_2024_11_06_1130'`).\n",
    "\n",
    "   - `attractor_tool`: Specifies the tool used for attractor computation if the models are loaded from `model_directory` (e.g. `'mpbn'`).\n",
    "\n",
    "\n",
    "   - `attractor_type`: Specifies the tool used for attractor computation if the models are loaded from `model_directory` (e.g. `'stable_states'`).\n",
    " \n",
    "   -   `cores`: Number of CPU cores to use for parallel processing.(e.g. `4` for using four CPU cores).\n",
    "\n",
    "- **For running only predict on previously trained models during runtime:**\n",
    "\n",
    "   - `best_boolean_models`: retults of train (e.g. models = train(boolean_model=boolean_model_bnet, model_outputs=model_outputs, training_data=training_data, ga_args=ga_args, ev_args=ev_args)\n",
    "  \n",
    "   -   `cores`: Number of CPU cores to use for parallel processing.(e.g. `4` for using four CPU cores)."
   ]
  },
  {
   "cell_type": "markdown",
   "id": "1637050b-2de8-48de-82dc-e8e820501697",
   "metadata": {},
   "source": [
    "#####   Observed Synergy Scores\n",
    "List of observed synergy scores corresponding to the perturbations applied, used to evaluate model predictions. \\\n",
    "**Initialization**: From a list containing observed synergy scores."
   ]
  },
  {
   "cell_type": "code",
   "execution_count": 180,
   "id": "a27ed3ef-7f9d-41a5-be73-604d4c68e0fb",
   "metadata": {},
   "outputs": [],
   "source": [
    "observed_synergy_scores = [\"PI-PD\", \"PI-5Z\", \"PD-AK\", \"AK-5Z\"]"
   ]
  },
  {
   "cell_type": "markdown",
   "id": "0ac656dc-7cf6-4e7d-bbad-ffc6581c404d",
   "metadata": {},
   "source": [
    "##### Init `predict_param`"
   ]
  },
  {
   "cell_type": "code",
   "execution_count": 181,
   "id": "a31c4488-0dec-4fbc-9689-8ca01401852a",
   "metadata": {},
   "outputs": [],
   "source": [
    "predict_params = {\n",
    "        'perturbations': perturbations,\n",
    "        'model_outputs': model_outputs,\n",
    "        'observed_synergy_scores': observed_synergy_scores,\n",
    "        'synergy_method': 'bliss',\n",
    "        'plot_roc_pr_curves': True,\n",
    "        'save_predictions': False,\n",
    "        # 'save_path': './predictions',\n",
    "        # 'model_directory': './models/example_models',\n",
    "        # 'attractor_tool': 'mpbn',\n",
    "        # 'attractor_type':  'stable_states'\n",
    "    }"
   ]
  },
  {
   "cell_type": "markdown",
   "id": "d886b76d-acab-456a-8cea-434218da3dc4",
   "metadata": {},
   "source": [
    "### Run Train and Predict"
   ]
  },
  {
   "cell_type": "code",
   "execution_count": 182,
   "id": "71da568b-f943-475b-a57c-4c4b3fb36f24",
   "metadata": {},
   "outputs": [],
   "source": [
    "from pydruglogics.execution.Executor import execute, train, predict"
   ]
  },
  {
   "cell_type": "code",
   "execution_count": 183,
   "id": "9d9781ae-c8e3-4886-9702-4d01c9ebea81",
   "metadata": {},
   "outputs": [
    {
     "name": "stdout",
     "output_type": "stream",
     "text": [
      "2024-11-19 14:36:53,617 - INFO - Train started...\n",
      "2024-11-19 14:37:03,080 - INFO - Training finished.\n",
      "2024-11-19 14:37:03,082 - INFO - Train completed in 9.47 seconds.\n",
      "2024-11-19 14:37:03,083 - INFO - Predict started...\n",
      "2024-11-19 14:37:15,821 - INFO - \n",
      "Synergy scores (bliss):\n",
      "2024-11-19 14:37:15,822 - INFO - PI-PD: -0.09172268518518523\n",
      "2024-11-19 14:37:15,823 - INFO - PI-CT: 0.0019574074074074632\n",
      "2024-11-19 14:37:15,824 - INFO - PI-BI: 0.02632175925925928\n",
      "2024-11-19 14:37:15,824 - INFO - PI-PK: 0.025094907407407163\n",
      "2024-11-19 14:37:15,825 - INFO - PI-AK: 0.07117407407407395\n",
      "2024-11-19 14:37:15,826 - INFO - PI-5Z: -0.038995370370370486\n",
      "2024-11-19 14:37:15,827 - INFO - PD-CT: 0.0021641975308641648\n",
      "2024-11-19 14:37:15,827 - INFO - PD-BI: 0.006325617283950646\n",
      "2024-11-19 14:37:15,828 - INFO - PD-PK: 0.12513734567901225\n",
      "2024-11-19 14:37:15,829 - INFO - PD-AK: -0.04649876543209874\n",
      "2024-11-19 14:37:15,829 - INFO - PD-5Z: 0.005410493827160523\n",
      "2024-11-19 14:37:15,830 - INFO - CT-BI: 1.2345679012426558e-05\n",
      "2024-11-19 14:37:15,831 - INFO - CT-PK: 0.001524691358024688\n",
      "2024-11-19 14:37:15,832 - INFO - CT-AK: 0.0016691358024691905\n",
      "2024-11-19 14:37:15,832 - INFO - CT-5Z: 0.002209876543209921\n",
      "2024-11-19 14:37:15,833 - INFO - BI-PK: -0.06638117283950629\n",
      "2024-11-19 14:37:15,833 - INFO - BI-AK: 0.06749382716049368\n",
      "2024-11-19 14:37:15,834 - INFO - BI-5Z: 0.10544753086419756\n",
      "2024-11-19 14:37:15,835 - INFO - PK-AK: 0.06076543209876528\n",
      "2024-11-19 14:37:15,836 - INFO - PK-5Z: 0.17381172839506165\n",
      "2024-11-19 14:37:15,836 - INFO - AK-5Z: -0.07027160493827156\n",
      "2024-11-19 14:37:15,857 - INFO - Predicted Data with Observed Synergies for Model 1:\n",
      "2024-11-19 14:37:15,857 - INFO -    perturbation  synergy_score  observed\n",
      "0         PI-PD       0.091723         1\n",
      "1         AK-5Z       0.070272         1\n",
      "2         BI-PK       0.066381         0\n",
      "3         PD-AK       0.046499         1\n",
      "4         PI-5Z       0.038995         1\n",
      "5         CT-BI      -0.000012         0\n",
      "6         CT-PK      -0.001525         0\n",
      "7         CT-AK      -0.001669         0\n",
      "8         PI-CT      -0.001957         0\n",
      "9         PD-CT      -0.002164         0\n",
      "10        CT-5Z      -0.002210         0\n",
      "11        PD-5Z      -0.005410         0\n",
      "12        PD-BI      -0.006326         0\n",
      "13        PI-PK      -0.025095         0\n",
      "14        PI-BI      -0.026322         0\n",
      "15        PK-AK      -0.060765         0\n",
      "16        BI-AK      -0.067494         0\n",
      "17        PI-AK      -0.071174         0\n",
      "18        BI-5Z      -0.105448         0\n",
      "19        PD-PK      -0.125137         0\n",
      "20        PK-5Z      -0.173812         0\n"
     ]
    },
    {
     "data": {
      "image/png": "[encoded data removed]",
      "text/plain": [
       "<Figure size 1200x500 with 2 Axes>"
      ]
     },
     "metadata": {},
     "output_type": "display_data"
    },
    {
     "name": "stdout",
     "output_type": "stream",
     "text": [
      "2024-11-19 14:37:16,015 - INFO - Predict completed in 12.93 seconds.\n",
      "2024-11-19 14:37:16,015 - INFO - Total runtime for training and prediction: 22.40 seconds\n"
     ]
    }
   ],
   "source": [
    "execute(train_params=train_params, predict_params=predict_params)"
   ]
  },
  {
   "cell_type": "markdown",
   "id": "cfd426c0-3b37-424d-b8b4-3deac4667f36",
   "metadata": {},
   "source": [
    "### Run Train"
   ]
  },
  {
   "cell_type": "code",
   "execution_count": 184,
   "id": "791cbb2e-2c6c-4670-a2cb-a50b39c8e7e8",
   "metadata": {},
   "outputs": [
    {
     "name": "stdout",
     "output_type": "stream",
     "text": [
      "2024-11-19 14:37:16,019 - INFO - Train started...\n",
      "2024-11-19 14:37:25,276 - INFO - Training finished.\n",
      "2024-11-19 14:37:25,277 - INFO - Train completed in 9.26 seconds.\n"
     ]
    }
   ],
   "source": [
    "execute(train_params=train_params)"
   ]
  },
  {
   "cell_type": "markdown",
   "id": "b0caaccf-76f6-422b-bc36-286be0d9db33",
   "metadata": {},
   "source": [
    "Alternatively, `train` can be run this way: "
   ]
  },
  {
   "cell_type": "code",
   "execution_count": 185,
   "id": "8071e44b-1106-4402-b989-ab7b43c64f61",
   "metadata": {},
   "outputs": [],
   "source": [
    "# from pydruglogics.execution.Executor import train\n",
    "# best_boolean_models = train(boolean_model=boolean_model_bnet, model_outputs=model_outputs, training_data=training_data, ga_args=ga_args, ev_args=ev_args)"
   ]
  },
  {
   "cell_type": "markdown",
   "id": "ce8153bc-dd74-44aa-8671-c5b049b0e248",
   "metadata": {},
   "source": [
    "### Run Predict"
   ]
  },
  {
   "cell_type": "markdown",
   "id": "e8e684cc-78f5-4bc0-818a-7e27cac711b7",
   "metadata": {},
   "source": [
    "**Note:** If the Evolution process has not been previously executed, it is necessary to load the Boolean Models from a `.bnet` file. In this case `attractor_tool` and `attractor_type` must be provided."
   ]
  },
  {
   "cell_type": "code",
   "execution_count": 186,
   "id": "375f2dba-c21d-4ff7-837c-4d41322da153",
   "metadata": {},
   "outputs": [],
   "source": [
    "predict_params = {\n",
    "        'perturbations': perturbations,\n",
    "        'model_outputs': model_outputs,\n",
    "        'observed_synergy_scores': observed_synergy_scores,\n",
    "        'synergy_method': 'bliss',\n",
    "        'plot_roc_pr_curves': True,\n",
    "        'save_predictions': True,\n",
    "        'save_path': './predictions',\n",
    "        'model_directory': './example_models',\n",
    "        'attractor_tool': 'mpbn',\n",
    "        'attractor_type':  'trapspaces'\n",
    "    }"
   ]
  },
  {
   "cell_type": "code",
   "execution_count": 187,
   "id": "7647b0f9-3bd6-4b53-b325-eff3a6f5384d",
   "metadata": {},
   "outputs": [
    {
     "name": "stdout",
     "output_type": "stream",
     "text": [
      "2024-11-19 14:37:25,294 - INFO - Predict started...\n",
      "2024-11-19 14:37:25,295 - INFO - Loading models from directory: ./example_models\n",
      "2024-11-19 14:37:25,296 - INFO - Boolean Model from .bnet file is created.\n",
      "2024-11-19 14:37:25,315 - INFO - Boolean Model from .bnet file is created.\n",
      "2024-11-19 14:37:25,326 - INFO - Boolean Model from .bnet file is created.\n",
      "2024-11-19 14:37:25,336 - INFO - Boolean Model from .bnet file is created.\n",
      "2024-11-19 14:37:25,347 - INFO - Boolean Model from .bnet file is created.\n",
      "2024-11-19 14:37:25,358 - INFO - Boolean Model from .bnet file is created.\n",
      "2024-11-19 14:37:25,369 - INFO - Boolean Model from .bnet file is created.\n",
      "2024-11-19 14:37:25,380 - INFO - Boolean Model from .bnet file is created.\n",
      "2024-11-19 14:37:25,390 - INFO - Boolean Model from .bnet file is created.\n",
      "2024-11-19 14:37:25,401 - INFO - Boolean Model from .bnet file is created.\n",
      "2024-11-19 14:37:25,411 - INFO - Boolean Model from .bnet file is created.\n",
      "2024-11-19 14:37:25,422 - INFO - Boolean Model from .bnet file is created.\n",
      "2024-11-19 14:37:25,432 - INFO - Boolean Model from .bnet file is created.\n",
      "2024-11-19 14:37:25,443 - INFO - Boolean Model from .bnet file is created.\n",
      "2024-11-19 14:37:25,454 - INFO - Boolean Model from .bnet file is created.\n",
      "2024-11-19 14:37:25,464 - INFO - Boolean Model from .bnet file is created.\n",
      "2024-11-19 14:37:25,475 - INFO - Boolean Model from .bnet file is created.\n",
      "2024-11-19 14:37:25,486 - INFO - Boolean Model from .bnet file is created.\n",
      "2024-11-19 14:37:25,498 - INFO - Boolean Model from .bnet file is created.\n",
      "2024-11-19 14:37:25,509 - INFO - Boolean Model from .bnet file is created.\n",
      "2024-11-19 14:37:25,520 - INFO - Boolean Model from .bnet file is created.\n",
      "2024-11-19 14:37:25,533 - INFO - Boolean Model from .bnet file is created.\n",
      "2024-11-19 14:37:25,544 - INFO - Boolean Model from .bnet file is created.\n",
      "2024-11-19 14:37:25,555 - INFO - Boolean Model from .bnet file is created.\n",
      "2024-11-19 14:37:25,566 - INFO - Boolean Model from .bnet file is created.\n",
      "2024-11-19 14:37:25,576 - INFO - Boolean Model from .bnet file is created.\n",
      "2024-11-19 14:37:25,587 - INFO - Boolean Model from .bnet file is created.\n",
      "2024-11-19 14:37:25,597 - INFO - Boolean Model from .bnet file is created.\n",
      "2024-11-19 14:37:25,608 - INFO - Boolean Model from .bnet file is created.\n",
      "2024-11-19 14:37:25,618 - INFO - Boolean Model from .bnet file is created.\n",
      "2024-11-19 14:37:29,685 - INFO - \n",
      "Synergy scores (bliss):\n",
      "2024-11-19 14:37:29,687 - INFO - PI-PD: -0.0938888888888888\n",
      "2024-11-19 14:37:29,688 - INFO - PI-CT: 0.0\n",
      "2024-11-19 14:37:29,689 - INFO - PI-BI: 0.02124999999999999\n",
      "2024-11-19 14:37:29,689 - INFO - PI-PK: 0.036111111111111094\n",
      "2024-11-19 14:37:29,690 - INFO - PI-AK: 0.0986111111111112\n",
      "2024-11-19 14:37:29,691 - INFO - PI-5Z: -0.040138888888888946\n",
      "2024-11-19 14:37:29,691 - INFO - PD-CT: 0.0\n",
      "2024-11-19 14:37:29,692 - INFO - PD-BI: 0.011203703703703716\n",
      "2024-11-19 14:37:29,693 - INFO - PD-PK: 0.12777777777777777\n",
      "2024-11-19 14:37:29,693 - INFO - PD-AK: -0.04444444444444451\n",
      "2024-11-19 14:37:29,694 - INFO - PD-5Z: 0.008055555555555483\n",
      "2024-11-19 14:37:29,694 - INFO - CT-BI: 0.0\n",
      "2024-11-19 14:37:29,695 - INFO - CT-PK: 0.0\n",
      "2024-11-19 14:37:29,695 - INFO - CT-AK: 0.0\n",
      "2024-11-19 14:37:29,696 - INFO - CT-5Z: 0.0\n",
      "2024-11-19 14:37:29,696 - INFO - BI-PK: -0.05740740740740735\n",
      "2024-11-19 14:37:29,697 - INFO - BI-AK: 0.03819444444444453\n",
      "2024-11-19 14:37:29,697 - INFO - BI-5Z: 0.08543981481481489\n",
      "2024-11-19 14:37:29,697 - INFO - PK-AK: 0.061111111111111116\n",
      "2024-11-19 14:37:29,698 - INFO - PK-5Z: 0.1777777777777778\n",
      "2024-11-19 14:37:29,698 - INFO - AK-5Z: -0.07708333333333339\n",
      "2024-11-19 14:37:29,724 - INFO - Predicted Data with Observed Synergies for Model 1:\n",
      "2024-11-19 14:37:29,725 - INFO -    perturbation  synergy_score  observed\n",
      "0         PI-PD       0.093889         1\n",
      "1         AK-5Z       0.077083         1\n",
      "2         BI-PK       0.057407         0\n",
      "3         PD-AK       0.044444         1\n",
      "4         PI-5Z       0.040139         1\n",
      "5         CT-BI      -0.000000         0\n",
      "6         CT-PK      -0.000000         0\n",
      "7         PD-CT      -0.000000         0\n",
      "8         CT-5Z      -0.000000         0\n",
      "9         CT-AK      -0.000000         0\n",
      "10        PI-CT      -0.000000         0\n",
      "11        PD-5Z      -0.008056         0\n",
      "12        PD-BI      -0.011204         0\n",
      "13        PI-BI      -0.021250         0\n",
      "14        PI-PK      -0.036111         0\n",
      "15        BI-AK      -0.038194         0\n",
      "16        PK-AK      -0.061111         0\n",
      "17        BI-5Z      -0.085440         0\n",
      "18        PI-AK      -0.098611         0\n",
      "19        PD-PK      -0.127778         0\n",
      "20        PK-5Z      -0.177778         0\n"
     ]
    },
    {
     "data": {
      "image/png": "[encoded data removed]",
      "text/plain": [
       "<Figure size 1200x500 with 2 Axes>"
      ]
     },
     "metadata": {},
     "output_type": "display_data"
    },
    {
     "name": "stdout",
     "output_type": "stream",
     "text": [
      "2024-11-19 14:37:29,882 - INFO - Predictions saved to ./predictions/predictions_2024_11_19_1437\n",
      "2024-11-19 14:37:29,883 - INFO - Predict completed in 4.59 seconds.\n"
     ]
    }
   ],
   "source": [
    "execute(predict_params=predict_params)"
   ]
  },
  {
   "cell_type": "markdown",
   "id": "643fd23e-e046-416b-aa2b-640ca53937ec",
   "metadata": {},
   "source": [
    "Alternatively, `predict` can be run this way:"
   ]
  },
  {
   "cell_type": "code",
   "execution_count": 188,
   "id": "a2d3476a-583b-46ad-93d4-0028cd44fc3e",
   "metadata": {},
   "outputs": [],
   "source": [
    "# from pydruglogics.execution.Executor import predict\n",
    "# predict(best_boolean_models=best_boolean_models, model_outputs=model_outputs, perturbations=perturbations,\n",
    "#             observed_synergy_scores=observed_synergy_scores, synergy_method='bliss', run_parallel= True, \n",
    "#             plot_roc_pr_curves=True, save_predictions=False, cores=4)"
   ]
  },
  {
   "cell_type": "markdown",
   "id": "235d99a9-a99a-487d-a499-d6423d4c4056",
   "metadata": {},
   "source": [
    "## Run Statistics"
   ]
  },
  {
   "cell_type": "markdown",
   "id": "d2ee2af3-b484-4f88-b022-e5d3b807b5b7",
   "metadata": {},
   "source": [
    "#### Train Boolean Models"
   ]
  },
  {
   "cell_type": "markdown",
   "id": "f12a9dc5-845f-45ef-96e4-e2f0d87c8fc6",
   "metadata": {},
   "source": [
    "Boolean Models calibrated to steady state response."
   ]
  },
  {
   "cell_type": "code",
   "execution_count": 189,
   "id": "e6824a60-4a33-400b-b282-fc7973735ea8",
   "metadata": {},
   "outputs": [
    {
     "name": "stdout",
     "output_type": "stream",
     "text": [
      "2024-11-19 14:37:29,893 - INFO - Train started...\n",
      "2024-11-19 14:37:39,251 - INFO - Training finished.\n",
      "2024-11-19 14:37:39,254 - INFO - Train completed in 9.36 seconds.\n"
     ]
    }
   ],
   "source": [
    "best_boolean_models_calibrated = train(boolean_model=boolean_model_bnet, model_outputs=model_outputs, training_data=training_data,\n",
    "                                ga_args=ga_args, ev_args=ev_args)"
   ]
  },
  {
   "cell_type": "markdown",
   "id": "93626d19-a38e-44ce-a2cf-88354d68d235",
   "metadata": {},
   "source": [
    "Boolean Models match to proliferation profile."
   ]
  },
  {
   "cell_type": "code",
   "execution_count": 190,
   "id": "7f38bfe6-fcad-4850-ad1b-b66e768e77d9",
   "metadata": {},
   "outputs": [
    {
     "name": "stdout",
     "output_type": "stream",
     "text": [
      "2024-11-19 14:37:39,265 - INFO - Train started...\n",
      "2024-11-19 14:37:39,266 - INFO - Training data initialized from list.\n",
      "2024-11-19 14:37:41,805 - INFO - Training finished.\n",
      "2024-11-19 14:37:41,806 - INFO - Train completed in 2.54 seconds.\n"
     ]
    }
   ],
   "source": [
    "best_boolean_models_random = train(boolean_model=boolean_model_bnet, model_outputs=model_outputs, ga_args=ga_args, ev_args=ev_args)"
   ]
  },
  {
   "cell_type": "markdown",
   "id": "425e5934-8b41-4d25-bc0d-c2aafb3849b4",
   "metadata": {},
   "source": [
    "### Compare Boolean Models trained by calibrated and random data"
   ]
  },
  {
   "cell_type": "markdown",
   "id": "374dd68c-de03-49c4-bb95-283205f3b8ee",
   "metadata": {},
   "source": [
    "The `compare_two_simulations` function compares the predictive performance of two sets of evolved Boolean models by plotting ROC and PR curves. \n",
    "#### Parameters:\n",
    "\n",
    "- `boolean_models1`: A list of the best Boolean models from the first run.\n",
    "\n",
    "- `boolean_models2`: A list of the best Boolean models from the second run.\n",
    "\n",
    "- `observed_synergy_scores`: A reference list of observed synergy scores used to evaluate the predictive performance of the models.\n",
    "\n",
    "- `model_outputs`: An instance of `ModelOutputs`.\n",
    "\n",
    "- `perturbations`: An instance of `Perturbation`.\n",
    "\n",
    "- `synergy_method` (optional): The method for assessing synergy. Options: `'hsa'` (Highest Single Agent) or  `'bliss'` (Bliss Independence). By default, `'bliss'`.\n",
    "\n",
    "- `label1` (optional): A custom label for the first set of evolution results shown in the plots. By default, `'Models 1'`.\n",
    "\n",
    "- `label2` (optional): A custom label for the second set of evolution results shown in the plots. By default,`'Models 2'`.\n",
    "\n",
    "- `normalized` (optional): Whether or not to normalize the synergy scores of the first set. By default, `True`.\n",
    "\n",
    "- `plot_pr_roc_curves` (optional): Whether or not to plot ROC and PR Curves. By default, `True`.\n",
    "\n",
    "- `save_result` (optional): Whether or not to save the results to file. By default, `True`."
   ]
  },
  {
   "cell_type": "code",
   "execution_count": 191,
   "id": "46ca9206-c10d-4070-9270-731604648501",
   "metadata": {},
   "outputs": [],
   "source": [
    "from pydruglogics.statistics.Statistics import compare_two_simulations"
   ]
  },
  {
   "cell_type": "code",
   "execution_count": 192,
   "id": "2ed42803-18b9-4b1d-b8ff-62be52c046b1",
   "metadata": {},
   "outputs": [
    {
     "name": "stdout",
     "output_type": "stream",
     "text": [
      "2024-11-19 14:37:54,722 - INFO - \n",
      "Synergy scores (bliss):\n",
      "2024-11-19 14:37:54,723 - INFO - PI-PD: -0.09172268518518523\n",
      "2024-11-19 14:37:54,724 - INFO - PI-CT: 0.0019574074074074632\n",
      "2024-11-19 14:37:54,724 - INFO - PI-BI: 0.02632175925925928\n",
      "2024-11-19 14:37:54,724 - INFO - PI-PK: 0.025094907407407163\n",
      "2024-11-19 14:37:54,725 - INFO - PI-AK: 0.07117407407407395\n",
      "2024-11-19 14:37:54,725 - INFO - PI-5Z: -0.038995370370370486\n",
      "2024-11-19 14:37:54,726 - INFO - PD-CT: 0.0021641975308641648\n",
      "2024-11-19 14:37:54,727 - INFO - PD-BI: 0.006325617283950646\n",
      "2024-11-19 14:37:54,728 - INFO - PD-PK: 0.12513734567901225\n",
      "2024-11-19 14:37:54,728 - INFO - PD-AK: -0.04649876543209874\n",
      "2024-11-19 14:37:54,729 - INFO - PD-5Z: 0.005410493827160523\n",
      "2024-11-19 14:37:54,729 - INFO - CT-BI: 1.2345679012426558e-05\n",
      "2024-11-19 14:37:54,730 - INFO - CT-PK: 0.001524691358024688\n",
      "2024-11-19 14:37:54,730 - INFO - CT-AK: 0.0016691358024691905\n",
      "2024-11-19 14:37:54,731 - INFO - CT-5Z: 0.002209876543209921\n",
      "2024-11-19 14:37:54,732 - INFO - BI-PK: -0.06638117283950629\n",
      "2024-11-19 14:37:54,732 - INFO - BI-AK: 0.06749382716049368\n",
      "2024-11-19 14:37:54,732 - INFO - BI-5Z: 0.10544753086419756\n",
      "2024-11-19 14:37:54,732 - INFO - PK-AK: 0.06076543209876528\n",
      "2024-11-19 14:37:54,733 - INFO - PK-5Z: 0.17381172839506165\n",
      "2024-11-19 14:37:54,733 - INFO - AK-5Z: -0.07027160493827156\n",
      "2024-11-19 14:38:05,961 - INFO - \n",
      "Synergy scores (bliss):\n",
      "2024-11-19 14:38:05,962 - INFO - PI-PD: -0.07311111111111113\n",
      "2024-11-19 14:38:05,963 - INFO - PI-CT: 0.0\n",
      "2024-11-19 14:38:05,963 - INFO - PI-BI: -0.001388888888888884\n",
      "2024-11-19 14:38:05,964 - INFO - PI-PK: 0.01722222222222225\n",
      "2024-11-19 14:38:05,964 - INFO - PI-AK: 0.08033333333333348\n",
      "2024-11-19 14:38:05,965 - INFO - PI-5Z: -0.011666666666666603\n",
      "2024-11-19 14:38:05,965 - INFO - PD-CT: 0.0\n",
      "2024-11-19 14:38:05,965 - INFO - PD-BI: 0.022055555555555384\n",
      "2024-11-19 14:38:05,965 - INFO - PD-PK: 0.11513888888888879\n",
      "2024-11-19 14:38:05,966 - INFO - PD-AK: -0.01474567901234558\n",
      "2024-11-19 14:38:05,966 - INFO - PD-5Z: 0.004929012345678885\n",
      "2024-11-19 14:38:05,966 - INFO - CT-BI: 0.0\n",
      "2024-11-19 14:38:05,966 - INFO - CT-PK: 0.0\n",
      "2024-11-19 14:38:05,967 - INFO - CT-AK: 0.0\n",
      "2024-11-19 14:38:05,968 - INFO - CT-5Z: 0.0\n",
      "2024-11-19 14:38:05,968 - INFO - BI-PK: -0.12777777777777788\n",
      "2024-11-19 14:38:05,968 - INFO - BI-AK: 0.047111111111111104\n",
      "2024-11-19 14:38:05,969 - INFO - BI-5Z: 0.09333333333333327\n",
      "2024-11-19 14:38:05,969 - INFO - PK-AK: 0.0705555555555556\n",
      "2024-11-19 14:38:05,969 - INFO - PK-5Z: 0.10527777777777769\n",
      "2024-11-19 14:38:05,970 - INFO - AK-5Z: -0.021580246913580292\n",
      "2024-11-19 14:38:05,991 - INFO - Predicted Data with Observed Synergies for Calibrated (Non-Normalized):\n",
      "2024-11-19 14:38:05,992 - INFO -    perturbation  synergy_score  observed\n",
      "0         PI-PD       0.091723         1\n",
      "1         AK-5Z       0.070272         1\n",
      "2         BI-PK       0.066381         0\n",
      "3         PD-AK       0.046499         1\n",
      "4         PI-5Z       0.038995         1\n",
      "5         CT-BI      -0.000012         0\n",
      "6         CT-PK      -0.001525         0\n",
      "7         CT-AK      -0.001669         0\n",
      "8         PI-CT      -0.001957         0\n",
      "9         PD-CT      -0.002164         0\n",
      "10        CT-5Z      -0.002210         0\n",
      "11        PD-5Z      -0.005410         0\n",
      "12        PD-BI      -0.006326         0\n",
      "13        PI-PK      -0.025095         0\n",
      "14        PI-BI      -0.026322         0\n",
      "15        PK-AK      -0.060765         0\n",
      "16        BI-AK      -0.067494         0\n",
      "17        PI-AK      -0.071174         0\n",
      "18        BI-5Z      -0.105448         0\n",
      "19        PD-PK      -0.125137         0\n",
      "20        PK-5Z      -0.173812         0\n",
      "2024-11-19 14:38:05,995 - INFO - Predicted Data with Observed Synergies for Random:\n",
      "2024-11-19 14:38:05,995 - INFO -    perturbation  synergy_score  observed\n",
      "0         BI-PK       0.127778         0\n",
      "1         PI-PD       0.073111         1\n",
      "2         AK-5Z       0.021580         1\n",
      "3         PD-AK       0.014746         1\n",
      "4         PI-5Z       0.011667         1\n",
      "5         PI-BI       0.001389         0\n",
      "6         CT-PK      -0.000000         0\n",
      "7         CT-AK      -0.000000         0\n",
      "8         PD-CT      -0.000000         0\n",
      "9         CT-5Z      -0.000000         0\n",
      "10        PI-CT      -0.000000         0\n",
      "11        CT-BI      -0.000000         0\n",
      "12        PD-5Z      -0.004929         0\n",
      "13        PI-PK      -0.017222         0\n",
      "14        PD-BI      -0.022056         0\n",
      "15        BI-AK      -0.047111         0\n",
      "16        PK-AK      -0.070556         0\n",
      "17        PI-AK      -0.080333         0\n",
      "18        BI-5Z      -0.093333         0\n",
      "19        PK-5Z      -0.105278         0\n",
      "20        PD-PK      -0.115139         0\n"
     ]
    },
    {
     "data": {
      "image/png": "[encoded data removed]",
      "text/plain": [
       "<Figure size 1200x500 with 2 Axes>"
      ]
     },
     "metadata": {},
     "output_type": "display_data"
    }
   ],
   "source": [
    "compare_two_simulations(boolean_models1=best_boolean_models_calibrated, boolean_models2=best_boolean_models_random, observed_synergy_scores=observed_synergy_scores,\n",
    "                            model_outputs=model_outputs,perturbations=perturbations, synergy_method='bliss',label1='Calibrated (Non-Normalized)',\n",
    "                            label2='Random', normalized=False, plot=True, save_result=False)"
   ]
  },
  {
   "cell_type": "markdown",
   "id": "6b8a3ad5-030e-4300-a50f-3eb80ad60808",
   "metadata": {},
   "source": [
    "### Sampling"
   ]
  },
  {
   "cell_type": "markdown",
   "id": "3d4a4e95-08dc-479f-9660-6d05345fa6ac",
   "metadata": {},
   "source": [
    "The `sampling_with_ci` function performs sampling on a list of Boolean models, calculates confidence intervals, and plots a Precision-Recall (PR) curve to assess the predictive performance in identifying synergistic drug combinations.\n",
    "\n",
    "#### Parameters:\n",
    "\n",
    "- `boolean_models`: A list of `BooleanModel` instances used for the sampling.\n",
    "\n",
    "- `observed_synergy_scores`: A list of observed synergy scores.\n",
    "\n",
    "- `model_outputs`: An instance of `ModelOutputs`.\n",
    "\n",
    "- `perturbations`: An instance of `Perturbation`.\n",
    "\n",
    "- `synergy_method` (optional): The method for assessing synergy. Options: `'hsa'` (Highest Single Agent) or  `'bliss'` (Bliss Independence). By default, `'bliss'`.\n",
    "\n",
    "- `repeat_time` (optional): The number of times to repeat the sampling process. By defualt, `10`.\n",
    "\n",
    "- `sub_ratio` (optional): The proportion of models to sample in each iteration. By defualt, `0.8`.\n",
    "\n",
    "- `boot_n` (optional): The number of bootstrap iterations for calculating confidence intervals. By defualt, `1000`.\n",
    "\n",
    "- `confidence_level` (optional): The confidence level used for the interval calculations. By defualt, `0.9`.\n",
    "\n",
    "- `plot` (optional):  Whether to plot the PR curve. By defualt, `True`.\n",
    "\n",
    "- `plot_discrete` (optional): Whether to plot discrete points instead of continuous line on the PR curve. By defualt, `False`.\n",
    "\n",
    "- `save_result` (optional): Whether to save the results. By defualt, `True`.\n",
    "\n",
    "- `with_seeds` (optional): Whether to use a fixed seed for reproducibility. By defualt, `True`.\n",
    "\n",
    "- `seeds` (optional): The seed value to ensure reproducibility. By defualt, `42`.\n"
   ]
  },
  {
   "cell_type": "code",
   "execution_count": 193,
   "id": "440b2691-c733-4e08-bf25-b73f295ebed5",
   "metadata": {},
   "outputs": [],
   "source": [
    "from pydruglogics.statistics.Statistics import sampling_with_ci"
   ]
  },
  {
   "cell_type": "code",
   "execution_count": 194,
   "id": "32ede833-3763-4bc1-9230-92ce2ecb4cd7",
   "metadata": {},
   "outputs": [
    {
     "name": "stdout",
     "output_type": "stream",
     "text": [
      "2024-11-19 14:38:15,157 - INFO - \n",
      "Synergy scores (bliss):\n",
      "2024-11-19 14:38:15,159 - INFO - PI-PD: -0.0889310860339505\n",
      "2024-11-19 14:38:15,160 - INFO - PI-CT: 0.0024353780864196928\n",
      "2024-11-19 14:38:15,161 - INFO - PI-BI: 0.026515480324074248\n",
      "2024-11-19 14:38:15,161 - INFO - PI-PK: 0.023965567129629717\n",
      "2024-11-19 14:38:15,162 - INFO - PI-AK: 0.07213782793209877\n",
      "2024-11-19 14:38:15,163 - INFO - PI-5Z: -0.03905044367283961\n",
      "2024-11-19 14:38:15,163 - INFO - PD-CT: 0.0027064043209876765\n",
      "2024-11-19 14:38:15,164 - INFO - PD-BI: 0.01073061342592585\n",
      "2024-11-19 14:38:15,164 - INFO - PD-PK: 0.1199623842592592\n",
      "2024-11-19 14:38:15,165 - INFO - PD-AK: -0.04395929783950625\n",
      "2024-11-19 14:38:15,165 - INFO - PD-5Z: 0.006766010802468969\n",
      "2024-11-19 14:38:15,166 - INFO - CT-BI: 5.78703703713046e-06\n",
      "2024-11-19 14:38:15,166 - INFO - CT-PK: 0.0019328703703703765\n",
      "2024-11-19 14:38:15,166 - INFO - CT-AK: 0.0020794753086419426\n",
      "2024-11-19 14:38:15,167 - INFO - CT-5Z: 0.0027584876543209624\n",
      "2024-11-19 14:38:15,167 - INFO - BI-PK: -0.07974826388888889\n",
      "2024-11-19 14:38:15,167 - INFO - BI-AK: 0.06840567129629616\n",
      "2024-11-19 14:38:15,168 - INFO - BI-5Z: 0.10956307870370352\n",
      "2024-11-19 14:38:15,168 - INFO - PK-AK: 0.05686921296296299\n",
      "2024-11-19 14:38:15,168 - INFO - PK-5Z: 0.17219328703703707\n",
      "2024-11-19 14:38:15,168 - INFO - AK-5Z: -0.06910686728395077\n",
      "2024-11-19 14:38:24,092 - INFO - \n",
      "Synergy scores (bliss):\n",
      "2024-11-19 14:38:24,093 - INFO - PI-PD: -0.08617404513888904\n",
      "2024-11-19 14:38:24,093 - INFO - PI-CT: 0.002450810185185226\n",
      "2024-11-19 14:38:24,093 - INFO - PI-BI: 0.02352141203703706\n",
      "2024-11-19 14:38:24,094 - INFO - PI-PK: 0.022018952546296267\n",
      "2024-11-19 14:38:24,094 - INFO - PI-AK: 0.06969473379629632\n",
      "2024-11-19 14:38:24,095 - INFO - PI-5Z: -0.038848379629629726\n",
      "2024-11-19 14:38:24,096 - INFO - PD-CT: 0.002702546296296293\n",
      "2024-11-19 14:38:24,097 - INFO - PD-BI: 0.00201967592592589\n",
      "2024-11-19 14:38:24,098 - INFO - PD-PK: 0.11432146990740732\n",
      "2024-11-19 14:38:24,098 - INFO - PD-AK: -0.047010995370370345\n",
      "2024-11-19 14:38:24,099 - INFO - PD-5Z: 0.005405092592592586\n",
      "2024-11-19 14:38:24,099 - INFO - CT-BI: -1.5432098765533198e-05\n",
      "2024-11-19 14:38:24,100 - INFO - CT-PK: 0.0018962191358025127\n",
      "2024-11-19 14:38:24,100 - INFO - CT-AK: 0.0020871913580247092\n",
      "2024-11-19 14:38:24,101 - INFO - CT-5Z: 0.0027623456790123457\n",
      "2024-11-19 14:38:24,101 - INFO - BI-PK: -0.05809992283950627\n",
      "2024-11-19 14:38:24,102 - INFO - BI-AK: 0.0640702160493829\n",
      "2024-11-19 14:38:24,102 - INFO - BI-5Z: 0.11524691358024686\n",
      "2024-11-19 14:38:24,103 - INFO - PK-AK: 0.05998939043209883\n",
      "2024-11-19 14:38:24,103 - INFO - PK-5Z: 0.17532021604938264\n",
      "2024-11-19 14:38:24,104 - INFO - AK-5Z: -0.07013117283950598\n",
      "2024-11-19 14:38:33,161 - INFO - \n",
      "Synergy scores (bliss):\n",
      "2024-11-19 14:38:33,162 - INFO - PI-PD: -0.08480396412037039\n",
      "2024-11-19 14:38:33,163 - INFO - PI-CT: 0.002448881172839479\n",
      "2024-11-19 14:38:33,164 - INFO - PI-BI: 0.03058521412037052\n",
      "2024-11-19 14:38:33,165 - INFO - PI-PK: 0.0302963445216049\n",
      "2024-11-19 14:38:33,166 - INFO - PI-AK: 0.06808762538580249\n",
      "2024-11-19 14:38:33,166 - INFO - PI-5Z: -0.03623890817901243\n",
      "2024-11-19 14:38:33,167 - INFO - PD-CT: 0.002702546296296293\n",
      "2024-11-19 14:38:33,168 - INFO - PD-BI: 0.004309895833333299\n",
      "2024-11-19 14:38:33,169 - INFO - PD-PK: 0.12130353009259254\n",
      "2024-11-19 14:38:33,169 - INFO - PD-AK: -0.04162471064814832\n",
      "2024-11-19 14:38:33,170 - INFO - PD-5Z: 0.006756365740740566\n",
      "2024-11-19 14:38:33,171 - INFO - CT-BI: 5.78703703713046e-06\n",
      "2024-11-19 14:38:33,171 - INFO - CT-PK: 0.001900077160493785\n",
      "2024-11-19 14:38:33,172 - INFO - CT-AK: 0.00206983024691354\n",
      "2024-11-19 14:38:33,172 - INFO - CT-5Z: 0.0027584876543209624\n",
      "2024-11-19 14:38:33,173 - INFO - BI-PK: -0.06383825231481488\n",
      "2024-11-19 14:38:33,174 - INFO - BI-AK: 0.07631221064814808\n",
      "2024-11-19 14:38:33,174 - INFO - BI-5Z: 0.10956307870370352\n",
      "2024-11-19 14:38:33,174 - INFO - PK-AK: 0.0659987461419752\n",
      "2024-11-19 14:38:33,174 - INFO - PK-5Z: 0.1748890817901233\n",
      "2024-11-19 14:38:33,174 - INFO - AK-5Z: -0.06496431327160512\n",
      "2024-11-19 14:38:42,371 - INFO - \n",
      "Synergy scores (bliss):\n",
      "2024-11-19 14:38:42,372 - INFO - PI-PD: -0.08257402584876528\n",
      "2024-11-19 14:38:42,373 - INFO - PI-CT: 0.0024469521604938427\n",
      "2024-11-19 14:38:42,374 - INFO - PI-BI: 0.02752387152777791\n",
      "2024-11-19 14:38:42,375 - INFO - PI-PK: 0.02023919753086434\n",
      "2024-11-19 14:38:42,375 - INFO - PI-AK: 0.06860508294753087\n",
      "2024-11-19 14:38:42,376 - INFO - PI-5Z: -0.0360783179012345\n",
      "2024-11-19 14:38:42,376 - INFO - PD-CT: 0.0027064043209876765\n",
      "2024-11-19 14:38:42,377 - INFO - PD-BI: 0.0045876736111112315\n",
      "2024-11-19 14:38:42,378 - INFO - PD-PK: 0.12950617283950638\n",
      "2024-11-19 14:38:42,378 - INFO - PD-AK: -0.040576292438271655\n",
      "2024-11-19 14:38:42,379 - INFO - PD-5Z: 0.005412808641975242\n",
      "2024-11-19 14:38:42,379 - INFO - CT-BI: 0.0007118055555556113\n",
      "2024-11-19 14:38:42,379 - INFO - CT-PK: 0.001913580246913571\n",
      "2024-11-19 14:38:42,380 - INFO - CT-AK: 0.00206983024691354\n",
      "2024-11-19 14:38:42,380 - INFO - CT-5Z: 0.0027623456790123457\n",
      "2024-11-19 14:38:42,381 - INFO - BI-PK: -0.06958333333333322\n",
      "2024-11-19 14:38:42,382 - INFO - BI-AK: 0.0704296875\n",
      "2024-11-19 14:38:42,382 - INFO - BI-5Z: 0.10350694444444442\n",
      "2024-11-19 14:38:42,384 - INFO - PK-AK: 0.06307098765432118\n",
      "2024-11-19 14:38:42,385 - INFO - PK-5Z: 0.17118827160493844\n",
      "2024-11-19 14:38:42,385 - INFO - AK-5Z: -0.06669367283950611\n",
      "2024-11-19 14:38:51,715 - INFO - \n",
      "Synergy scores (bliss):\n",
      "2024-11-19 14:38:51,716 - INFO - PI-PD: -0.08636718749999994\n",
      "2024-11-19 14:38:51,717 - INFO - PI-CT: 0.0024218750000000178\n",
      "2024-11-19 14:38:51,718 - INFO - PI-BI: 0.04032335069444448\n",
      "2024-11-19 14:38:51,718 - INFO - PI-PK: 0.03235243055555537\n",
      "2024-11-19 14:38:51,719 - INFO - PI-AK: 0.07438802083333318\n",
      "2024-11-19 14:38:51,720 - INFO - PI-5Z: -0.0327452256944446\n",
      "2024-11-19 14:38:51,721 - INFO - PD-CT: 0.0027044753086419293\n",
      "2024-11-19 14:38:51,722 - INFO - PD-BI: -0.0018913966049384223\n",
      "2024-11-19 14:38:51,724 - INFO - PD-PK: 0.1243557098765431\n",
      "2024-11-19 14:38:51,724 - INFO - PD-AK: -0.04205054012345688\n",
      "2024-11-19 14:38:51,725 - INFO - PD-5Z: 0.006085069444444424\n",
      "2024-11-19 14:38:51,726 - INFO - CT-BI: 1.929012345747161e-06\n",
      "2024-11-19 14:38:51,726 - INFO - CT-PK: 0.0019058641975308044\n",
      "2024-11-19 14:38:51,726 - INFO - CT-AK: 0.0020794753086419426\n",
      "2024-11-19 14:38:51,727 - INFO - CT-5Z: 0.0027604166666667096\n",
      "2024-11-19 14:38:51,728 - INFO - BI-PK: -0.061240354938271735\n",
      "2024-11-19 14:38:51,728 - INFO - BI-AK: 0.07569540895061722\n",
      "2024-11-19 14:38:51,728 - INFO - BI-5Z: 0.11102864583333338\n",
      "2024-11-19 14:38:51,729 - INFO - PK-AK: 0.06484182098765412\n",
      "2024-11-19 14:38:51,729 - INFO - PK-5Z: 0.17095486111111102\n",
      "2024-11-19 14:38:51,729 - INFO - AK-5Z: -0.06476562500000005\n",
      "2024-11-19 14:39:01,178 - INFO - \n",
      "Synergy scores (bliss):\n",
      "2024-11-19 14:39:01,179 - INFO - PI-PD: -0.09241560570987661\n",
      "2024-11-19 14:39:01,180 - INFO - PI-CT: 0.0012215470679011187\n",
      "2024-11-19 14:39:01,181 - INFO - PI-BI: 0.02807846257716029\n",
      "2024-11-19 14:39:01,182 - INFO - PI-PK: 0.02245924961419743\n",
      "2024-11-19 14:39:01,182 - INFO - PI-AK: 0.07314573688271597\n",
      "2024-11-19 14:39:01,183 - INFO - PI-5Z: -0.042863136574074034\n",
      "2024-11-19 14:39:01,184 - INFO - PD-CT: 0.0013522376543209091\n",
      "2024-11-19 14:39:01,184 - INFO - PD-BI: -0.0005025077160494273\n",
      "2024-11-19 14:39:01,185 - INFO - PD-PK: 0.12711323302469135\n",
      "2024-11-19 14:39:01,185 - INFO - PD-AK: -0.051552854938271664\n",
      "2024-11-19 14:39:01,185 - INFO - PD-5Z: 0.0040567129629630605\n",
      "2024-11-19 14:39:01,186 - INFO - CT-BI: -0.0012143132716049276\n",
      "2024-11-19 14:39:01,186 - INFO - CT-PK: 0.0009153163580246648\n",
      "2024-11-19 14:39:01,187 - INFO - CT-AK: 0.0010513117283950102\n",
      "2024-11-19 14:39:01,187 - INFO - CT-5Z: 0.0013831018518517535\n",
      "2024-11-19 14:39:01,188 - INFO - BI-PK: -0.04169029706790128\n",
      "2024-11-19 14:39:01,188 - INFO - BI-AK: 0.06839795524691361\n",
      "2024-11-19 14:39:01,188 - INFO - BI-5Z: 0.11059317129629642\n",
      "2024-11-19 14:39:01,188 - INFO - PK-AK: 0.06156925154320986\n",
      "2024-11-19 14:39:01,189 - INFO - PK-5Z: 0.18955150462962966\n",
      "2024-11-19 14:39:01,189 - INFO - AK-5Z: -0.07879050925925934\n",
      "2024-11-19 14:39:10,695 - INFO - \n",
      "Synergy scores (bliss):\n",
      "2024-11-19 14:39:10,696 - INFO - PI-PD: -0.09376494984567896\n",
      "2024-11-19 14:39:10,697 - INFO - PI-CT: 0.0012041859567900604\n",
      "2024-11-19 14:39:10,698 - INFO - PI-BI: 0.029860146604938298\n",
      "2024-11-19 14:39:10,699 - INFO - PI-PK: 0.024850019290123537\n",
      "2024-11-19 14:39:10,700 - INFO - PI-AK: 0.07811945408950627\n",
      "2024-11-19 14:39:10,700 - INFO - PI-5Z: -0.03231385030864187\n",
      "2024-11-19 14:39:10,701 - INFO - PD-CT: 0.0013560956790121814\n",
      "2024-11-19 14:39:10,701 - INFO - PD-BI: 0.0031674382716049276\n",
      "2024-11-19 14:39:10,702 - INFO - PD-PK: 0.11163387345679021\n",
      "2024-11-19 14:39:10,702 - INFO - PD-AK: -0.04411361882716047\n",
      "2024-11-19 14:39:10,703 - INFO - PD-5Z: 0.002712191358024696\n",
      "2024-11-19 14:39:10,703 - INFO - CT-BI: -0.0012229938271606233\n",
      "2024-11-19 14:39:10,704 - INFO - CT-PK: 0.000970293209876516\n",
      "2024-11-19 14:39:10,705 - INFO - CT-AK: 0.0010407021604937894\n",
      "2024-11-19 14:39:10,705 - INFO - CT-5Z: 0.0013850308641973896\n",
      "2024-11-19 14:39:10,706 - INFO - BI-PK: -0.07337577160493824\n",
      "2024-11-19 14:39:10,706 - INFO - BI-AK: 0.06102044753086422\n",
      "2024-11-19 14:39:10,707 - INFO - BI-5Z: 0.11422067901234567\n",
      "2024-11-19 14:39:10,707 - INFO - PK-AK: 0.059860146604938325\n",
      "2024-11-19 14:39:10,708 - INFO - PK-5Z: 0.1623572530864198\n",
      "2024-11-19 14:39:10,708 - INFO - AK-5Z: -0.06458526234567896\n",
      "2024-11-19 14:39:20,350 - INFO - \n",
      "Synergy scores (bliss):\n",
      "2024-11-19 14:39:20,351 - INFO - PI-PD: -0.09060305748456798\n",
      "2024-11-19 14:39:20,352 - INFO - PI-CT: 0.0024411651234568232\n",
      "2024-11-19 14:39:20,352 - INFO - PI-BI: 0.027907986111111116\n",
      "2024-11-19 14:39:20,353 - INFO - PI-PK: 0.02861882716049391\n",
      "2024-11-19 14:39:20,354 - INFO - PI-AK: 0.0723878761574075\n",
      "2024-11-19 14:39:20,355 - INFO - PI-5Z: -0.03817322530864209\n",
      "2024-11-19 14:39:20,356 - INFO - PD-CT: 0.00269868827160491\n",
      "2024-11-19 14:39:20,356 - INFO - PD-BI: 0.008940972222222343\n",
      "2024-11-19 14:39:20,357 - INFO - PD-PK: 0.1223919753086421\n",
      "2024-11-19 14:39:20,357 - INFO - PD-AK: -0.046642071759259274\n",
      "2024-11-19 14:39:20,357 - INFO - PD-5Z: 0.00539737654320982\n",
      "2024-11-19 14:39:20,358 - INFO - CT-BI: 0.0017361111111110494\n",
      "2024-11-19 14:39:20,358 - INFO - CT-PK: 0.001913580246913571\n",
      "2024-11-19 14:39:20,358 - INFO - CT-AK: 0.0020891203703703454\n",
      "2024-11-19 14:39:20,360 - INFO - CT-5Z: 0.0027623456790123457\n",
      "2024-11-19 14:39:20,361 - INFO - BI-PK: -0.06458333333333321\n",
      "2024-11-19 14:39:20,361 - INFO - BI-AK: 0.07248263888888884\n",
      "2024-11-19 14:39:20,361 - INFO - BI-5Z: 0.10972222222222217\n",
      "2024-11-19 14:39:20,362 - INFO - PK-AK: 0.06175925925925929\n",
      "2024-11-19 14:39:20,363 - INFO - PK-5Z: 0.16771604938271623\n",
      "2024-11-19 14:39:20,363 - INFO - AK-5Z: -0.06873842592592594\n",
      "2024-11-19 14:39:30,123 - INFO - \n",
      "Synergy scores (bliss):\n",
      "2024-11-19 14:39:30,124 - INFO - PI-PD: -0.09208622685185186\n",
      "2024-11-19 14:39:30,125 - INFO - PI-CT: 0.002449845679012297\n",
      "2024-11-19 14:39:30,125 - INFO - PI-BI: 0.02697723765432114\n",
      "2024-11-19 14:39:30,126 - INFO - PI-PK: 0.024792631172839585\n",
      "2024-11-19 14:39:30,126 - INFO - PI-AK: 0.07163387345679018\n",
      "2024-11-19 14:39:30,126 - INFO - PI-5Z: -0.03746141975308637\n",
      "2024-11-19 14:39:30,127 - INFO - PD-CT: 0.002702546296296293\n",
      "2024-11-19 14:39:30,127 - INFO - PD-BI: 0.010222800925925646\n",
      "2024-11-19 14:39:30,128 - INFO - PD-PK: 0.12430700231481473\n",
      "2024-11-19 14:39:30,129 - INFO - PD-AK: -0.04886863425925947\n",
      "2024-11-19 14:39:30,131 - INFO - PD-5Z: 0.005405092592592586\n",
      "2024-11-19 14:39:30,132 - INFO - CT-BI: 0.0007368827160493252\n",
      "2024-11-19 14:39:30,134 - INFO - CT-PK: 0.0019232253086419737\n",
      "2024-11-19 14:39:30,138 - INFO - CT-AK: 0.002110339506172787\n",
      "2024-11-19 14:39:30,142 - INFO - CT-5Z: 0.0027623456790123457\n",
      "2024-11-19 14:39:30,144 - INFO - BI-PK: -0.07819926697530866\n",
      "2024-11-19 14:39:30,146 - INFO - BI-AK: 0.06113618827160472\n",
      "2024-11-19 14:39:30,148 - INFO - BI-5Z: 0.09869598765432097\n",
      "2024-11-19 14:39:30,149 - INFO - PK-AK: 0.059414544753086385\n",
      "2024-11-19 14:39:30,151 - INFO - PK-5Z: 0.18301311728395053\n",
      "2024-11-19 14:39:30,152 - INFO - AK-5Z: -0.07355709876543215\n",
      "2024-11-19 14:39:40,720 - INFO - \n",
      "Synergy scores (bliss):\n",
      "2024-11-19 14:39:40,721 - INFO - PI-PD: -0.08943745177469131\n",
      "2024-11-19 14:39:40,722 - INFO - PI-CT: 0.00243730709876544\n",
      "2024-11-19 14:39:40,722 - INFO - PI-BI: 0.022263937114197496\n",
      "2024-11-19 14:39:40,723 - INFO - PI-PK: 0.020435715663580267\n",
      "2024-11-19 14:39:40,723 - INFO - PI-AK: 0.0701709587191357\n",
      "2024-11-19 14:39:40,724 - INFO - PI-5Z: -0.03557339891975331\n",
      "2024-11-19 14:39:40,724 - INFO - PD-CT: 0.0027102623456789487\n",
      "2024-11-19 14:39:40,725 - INFO - PD-BI: 0.008089795524691468\n",
      "2024-11-19 14:39:40,725 - INFO - PD-PK: 0.12463589891975324\n",
      "2024-11-19 14:39:40,725 - INFO - PD-AK: -0.03973042052469122\n",
      "2024-11-19 14:39:40,726 - INFO - PD-5Z: 0.006775655864197372\n",
      "2024-11-19 14:39:40,726 - INFO - CT-BI: 0.0006963734567901891\n",
      "2024-11-19 14:39:40,726 - INFO - CT-PK: 0.0019425154320987792\n",
      "2024-11-19 14:39:40,726 - INFO - CT-AK: 0.002046682098765462\n",
      "2024-11-19 14:39:40,726 - INFO - CT-5Z: 0.0027584876543209624\n",
      "2024-11-19 14:39:40,727 - INFO - BI-PK: -0.08321132330246905\n",
      "2024-11-19 14:39:40,727 - INFO - BI-AK: 0.07214457947530872\n",
      "2024-11-19 14:39:40,727 - INFO - BI-5Z: 0.10955343364197512\n",
      "2024-11-19 14:39:40,727 - INFO - PK-AK: 0.05974778163580252\n",
      "2024-11-19 14:39:40,727 - INFO - PK-5Z: 0.16596739969135788\n",
      "2024-11-19 14:39:40,728 - INFO - AK-5Z: -0.06363329475308666\n",
      "2024-11-19 14:39:50,784 - INFO - \n",
      "Synergy scores (bliss):\n",
      "2024-11-19 14:39:50,784 - INFO - PI-PD: -0.09533998842592595\n",
      "2024-11-19 14:39:50,785 - INFO - PI-CT: 0.002427662037037037\n",
      "2024-11-19 14:39:50,786 - INFO - PI-BI: 0.024102285879629592\n",
      "2024-11-19 14:39:50,786 - INFO - PI-PK: 0.025810908564814716\n",
      "2024-11-19 14:39:50,787 - INFO - PI-AK: 0.07518012152777775\n",
      "2024-11-19 14:39:50,787 - INFO - PI-5Z: -0.03898220486111126\n",
      "2024-11-19 14:39:50,787 - INFO - PD-CT: 0.0027044753086419293\n",
      "2024-11-19 14:39:50,787 - INFO - PD-BI: 0.005382908950617327\n",
      "2024-11-19 14:39:50,788 - INFO - PD-PK: 0.12737172067901237\n",
      "2024-11-19 14:39:50,788 - INFO - PD-AK: -0.046015625000000004\n",
      "2024-11-19 14:39:50,788 - INFO - PD-5Z: 0.006085069444444424\n",
      "2024-11-19 14:39:50,788 - INFO - CT-BI: 0.0007310956790123058\n",
      "2024-11-19 14:39:50,789 - INFO - CT-PK: 0.0019309413580246293\n",
      "2024-11-19 14:39:50,789 - INFO - CT-AK: 0.0021006944444443842\n",
      "2024-11-19 14:39:50,789 - INFO - CT-5Z: 0.0027604166666667096\n",
      "2024-11-19 14:39:50,789 - INFO - BI-PK: -0.07852961033950612\n",
      "2024-11-19 14:39:50,789 - INFO - BI-AK: 0.06788628472222236\n",
      "2024-11-19 14:39:50,790 - INFO - BI-5Z: 0.1006901041666668\n",
      "2024-11-19 14:39:50,790 - INFO - PK-AK: 0.0583289930555555\n",
      "2024-11-19 14:39:50,790 - INFO - PK-5Z: 0.1751779513888888\n",
      "2024-11-19 14:39:50,790 - INFO - AK-5Z: -0.07374565972222225\n",
      "2024-11-19 14:40:00,917 - INFO - \n",
      "Synergy scores (bliss):\n",
      "2024-11-19 14:40:00,918 - INFO - PI-PD: -0.09363787615740726\n",
      "2024-11-19 14:40:00,918 - INFO - PI-CT: 0.0012167245370369173\n",
      "2024-11-19 14:40:00,919 - INFO - PI-BI: 0.026937934027777777\n",
      "2024-11-19 14:40:00,919 - INFO - PI-PK: 0.023140190972222197\n",
      "2024-11-19 14:40:00,919 - INFO - PI-AK: 0.07239366319444451\n",
      "2024-11-19 14:40:00,919 - INFO - PI-5Z: -0.03888310185185173\n",
      "2024-11-19 14:40:00,920 - INFO - PD-CT: 0.0013551311728393634\n",
      "2024-11-19 14:40:00,920 - INFO - PD-BI: 0.0021773726851852526\n",
      "2024-11-19 14:40:00,920 - INFO - PD-PK: 0.12262008101851862\n",
      "2024-11-19 14:40:00,920 - INFO - PD-AK: -0.04699797453703691\n",
      "2024-11-19 14:40:00,920 - INFO - PD-5Z: 0.0054205246913580085\n",
      "2024-11-19 14:40:00,921 - INFO - CT-BI: -0.0011950231481484552\n",
      "2024-11-19 14:40:00,921 - INFO - CT-PK: 0.0009751157407406064\n",
      "2024-11-19 14:40:00,921 - INFO - CT-AK: 0.0010445601851850617\n",
      "2024-11-19 14:40:00,921 - INFO - CT-5Z: 0.0013811728395060063\n",
      "2024-11-19 14:40:00,921 - INFO - BI-PK: -0.08428385416666684\n",
      "2024-11-19 14:40:00,922 - INFO - BI-AK: 0.06082031249999997\n",
      "2024-11-19 14:40:00,922 - INFO - BI-5Z: 0.09591435185185171\n",
      "2024-11-19 14:40:00,922 - INFO - PK-AK: 0.056697048611111134\n",
      "2024-11-19 14:40:00,922 - INFO - PK-5Z: 0.17820601851851836\n",
      "2024-11-19 14:40:00,922 - INFO - AK-5Z: -0.07012731481481493\n",
      "2024-11-19 14:40:11,020 - INFO - \n",
      "Synergy scores (bliss):\n",
      "2024-11-19 14:40:11,020 - INFO - PI-PD: -0.09407769097222218\n",
      "2024-11-19 14:40:11,021 - INFO - PI-CT: 0.0024045138888888484\n",
      "2024-11-19 14:40:11,021 - INFO - PI-BI: 0.03334852430555557\n",
      "2024-11-19 14:40:11,022 - INFO - PI-PK: 0.03029730902777783\n",
      "2024-11-19 14:40:11,022 - INFO - PI-AK: 0.07970920138888904\n",
      "2024-11-19 14:40:11,023 - INFO - PI-5Z: -0.03546874999999994\n",
      "2024-11-19 14:40:11,023 - INFO - PD-CT: 0.0027064043209876765\n",
      "2024-11-19 14:40:11,024 - INFO - PD-BI: 0.007365451388888888\n",
      "2024-11-19 14:40:11,024 - INFO - PD-PK: 0.13080584490740743\n",
      "2024-11-19 14:40:11,024 - INFO - PD-AK: -0.04340760030864199\n",
      "2024-11-19 14:40:11,025 - INFO - PD-5Z: 0.005412808641975242\n",
      "2024-11-19 14:40:11,025 - INFO - CT-BI: 1.7361111111169336e-05\n",
      "2024-11-19 14:40:11,025 - INFO - CT-PK: 0.0019039351851851682\n",
      "2024-11-19 14:40:11,025 - INFO - CT-AK: 0.0020640432098765205\n",
      "2024-11-19 14:40:11,025 - INFO - CT-5Z: 0.0027623456790123457\n",
      "2024-11-19 14:40:11,026 - INFO - BI-PK: -0.06791232638888889\n",
      "2024-11-19 14:40:11,026 - INFO - BI-AK: 0.06948784722222234\n",
      "2024-11-19 14:40:11,026 - INFO - BI-5Z: 0.10489583333333341\n",
      "2024-11-19 14:40:11,026 - INFO - PK-AK: 0.06778067129629628\n",
      "2024-11-19 14:40:11,026 - INFO - PK-5Z: 0.17464120370370373\n",
      "2024-11-19 14:40:11,026 - INFO - AK-5Z: -0.07017746913580236\n",
      "2024-11-19 14:40:21,232 - INFO - \n",
      "Synergy scores (bliss):\n",
      "2024-11-19 14:40:21,233 - INFO - PI-PD: -0.0929050925925925\n",
      "2024-11-19 14:40:21,234 - INFO - PI-CT: 0.00245370370370368\n",
      "2024-11-19 14:40:21,235 - INFO - PI-BI: 0.026550925925926117\n",
      "2024-11-19 14:40:21,235 - INFO - PI-PK: 0.022743055555555558\n",
      "2024-11-19 14:40:21,236 - INFO - PI-AK: 0.07049768518518507\n",
      "2024-11-19 14:40:21,237 - INFO - PI-5Z: -0.04386574074074079\n",
      "2024-11-19 14:40:21,238 - INFO - PD-CT: 0.00269868827160491\n",
      "2024-11-19 14:40:21,239 - INFO - PD-BI: 0.00481385030864212\n",
      "2024-11-19 14:40:21,239 - INFO - PD-PK: 0.12066695601851851\n",
      "2024-11-19 14:40:21,240 - INFO - PD-AK: -0.05269434799382722\n",
      "2024-11-19 14:40:21,241 - INFO - PD-5Z: 0.006746720679012164\n",
      "2024-11-19 14:40:21,241 - INFO - CT-BI: 3.858024691494322e-06\n",
      "2024-11-19 14:40:21,244 - INFO - CT-PK: 0.0018807870370369795\n",
      "2024-11-19 14:40:21,244 - INFO - CT-AK: 0.002108410493827151\n",
      "2024-11-19 14:40:21,245 - INFO - CT-5Z: 0.0027584876543209624\n",
      "2024-11-19 14:40:21,245 - INFO - BI-PK: -0.06144386574074068\n",
      "2024-11-19 14:40:21,246 - INFO - BI-AK: 0.06604648919753098\n",
      "2024-11-19 14:40:21,246 - INFO - BI-5Z: 0.10608603395061722\n",
      "2024-11-19 14:40:21,247 - INFO - PK-AK: 0.05343605324074063\n",
      "2024-11-19 14:40:21,247 - INFO - PK-5Z: 0.17970196759259238\n",
      "2024-11-19 14:40:21,247 - INFO - AK-5Z: -0.0780623070987656\n",
      "2024-11-19 14:40:31,160 - INFO - \n",
      "Synergy scores (bliss):\n",
      "2024-11-19 14:40:31,161 - INFO - PI-PD: -0.08693624614197537\n",
      "2024-11-19 14:40:31,162 - INFO - PI-CT: 0.001231674382715986\n",
      "2024-11-19 14:40:31,162 - INFO - PI-BI: 0.023029513888888853\n",
      "2024-11-19 14:40:31,163 - INFO - PI-PK: 0.018491994598765493\n",
      "2024-11-19 14:40:31,163 - INFO - PI-AK: 0.06360387731481476\n",
      "2024-11-19 14:40:31,164 - INFO - PI-5Z: -0.03535108024691358\n",
      "2024-11-19 14:40:31,164 - INFO - PD-CT: 0.0013532021604937272\n",
      "2024-11-19 14:40:31,165 - INFO - PD-BI: 0.005442708333333268\n",
      "2024-11-19 14:40:31,165 - INFO - PD-PK: 0.12469859182098764\n",
      "2024-11-19 14:40:31,166 - INFO - PD-AK: -0.047342303240740735\n",
      "2024-11-19 14:40:31,166 - INFO - PD-5Z: 0.005412808641975242\n",
      "2024-11-19 14:40:31,167 - INFO - CT-BI: -0.0011979166666667984\n",
      "2024-11-19 14:40:31,167 - INFO - CT-PK: 0.0009596836419751842\n",
      "2024-11-19 14:40:31,167 - INFO - CT-AK: 0.0010445601851850617\n",
      "2024-11-19 14:40:31,168 - INFO - CT-5Z: 0.0013811728395060063\n",
      "2024-11-19 14:40:31,168 - INFO - BI-PK: -0.06671006944444446\n",
      "2024-11-19 14:40:31,169 - INFO - BI-AK: 0.0665538194444445\n",
      "2024-11-19 14:40:31,169 - INFO - BI-5Z: 0.09937499999999988\n",
      "2024-11-19 14:40:31,169 - INFO - PK-AK: 0.06366464120370374\n",
      "2024-11-19 14:40:31,170 - INFO - PK-5Z: 0.1767554012345679\n",
      "2024-11-19 14:40:31,170 - INFO - AK-5Z: -0.06734953703703717\n"
     ]
    },
    {
     "data": {
      "image/png": "[encoded data removed]",
      "text/plain": [
       "<Figure size 800x600 with 1 Axes>"
      ]
     },
     "metadata": {},
     "output_type": "display_data"
    }
   ],
   "source": [
    "sampling_with_ci(boolean_models=best_boolean_models_calibrated,observed_synergy_scores=observed_synergy_scores, model_outputs=model_outputs, \n",
    "                 perturbations=perturbations,synergy_method='bliss', repeat_time=15, sub_ratio=0.8, boot_n=1000, confidence_level= 0.95, \n",
    "                 plot=True, plot_discrete=False, save_result=False, with_seeds=True, seeds=42)"
   ]
  }
 ],
 "metadata": {
  "kernelspec": {
   "display_name": "Python 3 (ipykernel)",
   "language": "python",
   "name": "python3"
  },
  "language_info": {
   "codemirror_mode": {
    "name": "ipython",
    "version": 3
   },
   "file_extension": ".py",
   "mimetype": "text/x-python",
   "name": "python",
   "nbconvert_exporter": "python",
   "pygments_lexer": "ipython3",
   "version": "3.11.8"
  }
 },
 "nbformat": 4,
 "nbformat_minor": 5
}
