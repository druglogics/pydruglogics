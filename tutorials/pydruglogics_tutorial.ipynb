{
 "cells": [
  {
   "cell_type": "markdown",
   "id": "fe6bffb7-a7dd-470b-91c0-0cd53abba721",
   "metadata": {},
   "source": [
    "# Tutorial for PyDruglogics\n"
   ]
  },
  {
   "cell_type": "markdown",
   "id": "6a468c93-2d56-4519-830b-87a8e561dee5",
   "metadata": {},
   "source": [
    "This tutorial demonstrates the use of PyDruglogics for optimizing of Boolean Models and predict drug synergy effects.\n",
    "The PyDruglogics pipeline implementation on based on: [Å. Flobak, J. Zobolas (2023): Fine tuning a logical model of cancer cells to predict drug synergies: combining manual curation and automated parameterization](https://www.frontiersin.org/journals/systems-biology/articles/10.3389/fsysb.2023.1252961/full).\n",
    "\n",
    "More information about the package on [GitHub](https://github.com/druglogics/pydruglogics).\n",
    "\n",
    "### Core Features\n",
    "- Construct Boolean Model from `.sif` file\n",
    "- Optimize Boolean Model\n",
    "- Generate perturbed models\n",
    "- Evaluate drug synergies\n"
   ]
  },
  {
   "cell_type": "markdown",
   "id": "87847983-f04e-4525-8060-49906ad7fdfa",
   "metadata": {},
   "source": [
    "## Initialization, loading files"
   ]
  },
  {
   "cell_type": "markdown",
   "id": "9c4cc708-e284-4aa9-8080-d3f594391f4e",
   "metadata": {},
   "source": [
    "The parameters and the initialization of the pipeline are summarized in this section. These are the neccesary components for constructing, training, and applying predictive models effectively."
   ]
  },
  {
   "cell_type": "code",
   "execution_count": 2,
   "id": "0e18a2c6-f896-4fe4-b08d-64335963a2a1",
   "metadata": {},
   "outputs": [
    {
     "ename": "ModuleNotFoundError",
     "evalue": "No module named 'pydruglogics'",
     "output_type": "error",
     "traceback": [
      "\u001b[0;31m---------------------------------------------------------------------------\u001b[0m",
      "\u001b[0;31mModuleNotFoundError\u001b[0m                       Traceback (most recent call last)",
      "Cell \u001b[0;32mIn[2], line 1\u001b[0m\n\u001b[0;32m----> 1\u001b[0m \u001b[38;5;28;01mfrom\u001b[39;00m \u001b[38;5;21;01mpydruglogics\u001b[39;00m\u001b[38;5;21;01m.\u001b[39;00m\u001b[38;5;21;01mmodel\u001b[39;00m\u001b[38;5;21;01m.\u001b[39;00m\u001b[38;5;21;01mBooleanModel\u001b[39;00m \u001b[38;5;28;01mimport\u001b[39;00m BooleanModel\n\u001b[1;32m      2\u001b[0m \u001b[38;5;28;01mfrom\u001b[39;00m \u001b[38;5;21;01mpydruglogics\u001b[39;00m\u001b[38;5;21;01m.\u001b[39;00m\u001b[38;5;21;01mmodel\u001b[39;00m\u001b[38;5;21;01m.\u001b[39;00m\u001b[38;5;21;01mModelPredictions\u001b[39;00m \u001b[38;5;28;01mimport\u001b[39;00m ModelPredictions\n\u001b[1;32m      3\u001b[0m \u001b[38;5;28;01mfrom\u001b[39;00m \u001b[38;5;21;01mpydruglogics\u001b[39;00m\u001b[38;5;21;01m.\u001b[39;00m\u001b[38;5;21;01mmodel\u001b[39;00m\u001b[38;5;21;01m.\u001b[39;00m\u001b[38;5;21;01mInteractionModel\u001b[39;00m \u001b[38;5;28;01mimport\u001b[39;00m InteractionModel\n",
      "\u001b[0;31mModuleNotFoundError\u001b[0m: No module named 'pydruglogics'"
     ]
    }
   ],
   "source": [
    "from pydruglogics.model.BooleanModel import BooleanModel\n",
    "from pydruglogics.model.ModelPredictions import ModelPredictions\n",
    "from pydruglogics.model.InteractionModel import InteractionModel\n",
    "from pydruglogics.input.ModelOutputs import ModelOutputs\n",
    "from pydruglogics.input.TrainingData import TrainingData\n",
    "from pydruglogics.input.Perturbations import Perturbation"
   ]
  },
  {
   "cell_type": "markdown",
   "id": "0efb70d9-9122-4889-9796-c6a0418d593b",
   "metadata": {},
   "source": [
    "#### Model Outputs\n",
    "Defines the network nodes and their respective weights used to calculate a global output response for the Boolean Model. \\\n",
    "**Initialization:**\n",
    "1. **From a File**: Load target states from a file that specifies node-state pairs.\n",
    "2. **From a Dictionary**: Define directly using a dictionary where each key-value pair represents a node and its integer weight."
   ]
  },
  {
   "cell_type": "code",
   "execution_count": 37,
   "id": "8c7cf343-02b2-4ad7-80e8-14b5c995fc70",
   "metadata": {},
   "outputs": [
    {
     "name": "stdout",
     "output_type": "stream",
     "text": [
      "2024-11-17 20:43:37,714 - INFO - Model outputs are initialized from dictionary.\n"
     ]
    }
   ],
   "source": [
    "model_outputs_dict = {\n",
    "        \"RSK_f\": 1.0,\n",
    "        \"MYC\": 1.0,\n",
    "        \"TCF7_f\": 1.0,\n",
    "        \"CASP8\": -1.0,\n",
    "        \"CASP9\": -1.0,\n",
    "        \"FOXO_f\": -1.0\n",
    "    }\n",
    "model_outputs = ModelOutputs(input_dictionary=model_outputs_dict)"
   ]
  },
  {
   "cell_type": "code",
   "execution_count": 38,
   "id": "05540493-7aa3-4051-8614-3e12c7b8bc15",
   "metadata": {},
   "outputs": [
    {
     "name": "stdout",
     "output_type": "stream",
     "text": [
      "Model output: RSK_f, weight: 1.0\n",
      "Model output: MYC, weight: 1.0\n",
      "Model output: TCF7_f, weight: 1.0\n",
      "Model output: CASP8, weight: -1.0\n",
      "Model output: CASP9, weight: -1.0\n",
      "Model output: FOXO_f, weight: -1.0\n"
     ]
    }
   ],
   "source": [
    "model_outputs.print()"
   ]
  },
  {
   "cell_type": "markdown",
   "id": "d88d10e7-9190-4206-96cc-0cb127629a8d",
   "metadata": {},
   "source": [
    "#### Training Data\n",
    "Inclues condition-response pairs (observations) and a weight number used to calculate the weighted average fitness of the Boolean Models.\\\n",
    "**Initialization:**"
   ]
  },
  {
   "cell_type": "markdown",
   "id": "1c2cc120-2d32-4073-87bb-cdfcc427d334",
   "metadata": {},
   "source": [
    "1. **From a File**: Load target states from a structured file."
   ]
  },
  {
   "cell_type": "code",
   "execution_count": 1,
   "id": "2a78dc9a-8d0e-4dc6-8258-d4c7d8255c6d",
   "metadata": {},
   "outputs": [
    {
     "ename": "NameError",
     "evalue": "name 'TrainingData' is not defined",
     "output_type": "error",
     "traceback": [
      "\u001b[0;31m---------------------------------------------------------------------------\u001b[0m",
      "\u001b[0;31mNameError\u001b[0m                                 Traceback (most recent call last)",
      "Cell \u001b[0;32mIn[1], line 2\u001b[0m\n\u001b[1;32m      1\u001b[0m training_data_file \u001b[38;5;241m=\u001b[39m \u001b[38;5;124m'\u001b[39m\u001b[38;5;124mtraining\u001b[39m\u001b[38;5;124m'\u001b[39m\n\u001b[0;32m----> 2\u001b[0m training_data \u001b[38;5;241m=\u001b[39m \u001b[43mTrainingData\u001b[49m(input_file\u001b[38;5;241m=\u001b[39mtraining_data_file)\n",
      "\u001b[0;31mNameError\u001b[0m: name 'TrainingData' is not defined"
     ]
    }
   ],
   "source": [
    "training_data_file = 'training'\n",
    "training_data = TrainingData(input_file=training_data_file)"
   ]
  },
  {
   "cell_type": "markdown",
   "id": "841ee427-d93a-4d1a-8998-af2bedc8e5ac",
   "metadata": {},
   "source": [
    "2. **From a Dictionary**: Define directly using a dictionary."
   ]
  },
  {
   "cell_type": "code",
   "execution_count": 5,
   "id": "6bd8c296-a08f-42b8-8b58-d75fa6d85179",
   "metadata": {},
   "outputs": [],
   "source": [
    " observations = [([\"CASP3:0\", \"CASP8:0\",\"CASP9:0\",\"FOXO_f:0\",\"RSK_f:1\",\"CCND1:1\",\n",
    "                      \"MYC:1\",\"RAC_f:1\",\"JNK_f:0\",\"MAPK14:0\",\"AKT_f:1\",\"MMP_f:1\",\n",
    "                      \"PTEN:0\",\"ERK_f:1\",\"KRAS:1\",\"PIK3CA:1\",\"S6K_f:1\",\"GSK3_f:0\",\n",
    "                      \"TP53:0\",\"BAX:0\",\"BCL2:1\",\"CTNNB1:1\",\"TCF7_f:1\",\"NFKB_f:1\"], 1.0)]"
   ]
  },
  {
   "cell_type": "code",
   "execution_count": 6,
   "id": "6ccf4586-5946-4a1a-9d3f-7978b13b1fdb",
   "metadata": {},
   "outputs": [
    {
     "name": "stdout",
     "output_type": "stream",
     "text": [
      "2024-11-17 00:20:10,664 - INFO - Training data initialized from list.\n"
     ]
    }
   ],
   "source": [
    "training_data = TrainingData(observations=observations)"
   ]
  },
  {
   "cell_type": "code",
   "execution_count": 7,
   "id": "763da94b-803d-4967-a55f-bfa886d56a3e",
   "metadata": {},
   "outputs": [
    {
     "name": "stdout",
     "output_type": "stream",
     "text": [
      "Observation:\n",
      "Condition: -\n",
      "Response: CASP3:0, CASP8:0, CASP9:0, FOXO_f:0, RSK_f:1, CCND1:1, MYC:1, RAC_f:1, JNK_f:0, MAPK14:0, AKT_f:1, MMP_f:1, PTEN:0, ERK_f:1, KRAS:1, PIK3CA:1, S6K_f:1, GSK3_f:0, TP53:0, BAX:0, BCL2:1, CTNNB1:1, TCF7_f:1, NFKB_f:1\n",
      "Weight: 1.0\n",
      "\n"
     ]
    }
   ],
   "source": [
    "training_data.print()"
   ]
  },
  {
   "cell_type": "markdown",
   "id": "c1c0a36c-e7c2-45de-9281-95fe636655e4",
   "metadata": {},
   "source": [
    "#### Perturbations\n",
    "Defines the drugs and the perturbations applied to the Boolean Models, affecting the nodes in the network.\n",
    "\n",
    "Initialization **From Dictionary**:\n",
    "1. **Define** a `drug_data` **and** `perturbation_data`: Provide a list of drugs with their name, targets, and effect (Options:  `inhibits` (default) or `activates`). Specify a list of perturbations, where each entry is a drug combination.\n",
    "\n",
    "3. **Define only** `drug_data`: If no `perturbation_data` is given, perturbations will be generated automatically by creating all possible single-drug and two-drug combinations from the drug panel."
   ]
  },
  {
   "cell_type": "code",
   "execution_count": 8,
   "id": "e7c09258-4d82-45a6-b01f-c8d8f61a5cbd",
   "metadata": {},
   "outputs": [],
   "source": [
    " drug_data = [\n",
    "        ['PI', 'PIK3CA', 'inhibits'],\n",
    "        ['PD', 'MEK_f'],\n",
    "        ['CT','GSK3_f'],\n",
    "        ['BI', 'MAPK14'],\n",
    "        ['PK', 'CTNNB1'],\n",
    "        ['AK', 'AKT_f'],\n",
    "        ['5Z', 'MAP3K7']\n",
    "    ]"
   ]
  },
  {
   "cell_type": "markdown",
   "id": "839c4ddc-9c92-4bbd-9993-0174ade55c53",
   "metadata": {},
   "source": [
    "**Note**: The `perturbation_data` is **optional**. If only the `drug_data` is given, all perturbations are calculated."
   ]
  },
  {
   "cell_type": "code",
   "execution_count": 9,
   "id": "1c4e617c-3585-44d8-b607-369621b26b11",
   "metadata": {},
   "outputs": [],
   "source": [
    "perturbation_data = [\n",
    "        ['PI'],\n",
    "        ['PD'],\n",
    "        ['CT'],\n",
    "        ['BI'],\n",
    "        ['PK'],\n",
    "        ['AK'],\n",
    "        ['5Z'],\n",
    "        ['PI', 'PD'],\n",
    "        ['PI', 'CT'],\n",
    "        ['PI', 'BI'],\n",
    "        ['PI', 'PK'],\n",
    "        ['PI', 'AK'],\n",
    "        ['PI', '5Z'],\n",
    "        ['PD', 'CT'],\n",
    "        ['PD', 'BI'],\n",
    "        ['PD', 'PK'],\n",
    "        ['PD', 'AK'],\n",
    "        ['PD', '5Z'],\n",
    "        ['CT', 'BI'],\n",
    "        ['CT', 'PK'],\n",
    "        ['CT', 'AK'],\n",
    "        ['CT', '5Z'],\n",
    "        ['BI', 'PK'],\n",
    "        ['BI', 'AK'],\n",
    "        ['BI', '5Z'],\n",
    "        ['PK', 'AK'],\n",
    "        ['PK', '5Z'],\n",
    "        ['AK', '5Z']]"
   ]
  },
  {
   "cell_type": "code",
   "execution_count": 10,
   "id": "1a613933-db52-44f6-a2e3-7aad1894b635",
   "metadata": {},
   "outputs": [
    {
     "name": "stdout",
     "output_type": "stream",
     "text": [
      "2024-11-17 00:20:15,631 - INFO - Drug panel data initialized from list.\n",
      "2024-11-17 00:20:15,633 - INFO - Drug perturbations initialized.\n"
     ]
    }
   ],
   "source": [
    "perturbations = Perturbation(drug_data=drug_data, perturbation_data=perturbation_data)"
   ]
  },
  {
   "cell_type": "code",
   "execution_count": 11,
   "id": "fa1061c4-3cec-4298-891a-8a26cf9c632c",
   "metadata": {},
   "outputs": [
    {
     "name": "stdout",
     "output_type": "stream",
     "text": [
      "[PI (targets: PIK3CA)]\n",
      "[PD (targets: MEK_f)]\n",
      "[CT (targets: GSK3_f)]\n",
      "[BI (targets: MAPK14)]\n",
      "[PK (targets: CTNNB1)]\n",
      "[AK (targets: AKT_f)]\n",
      "[5Z (targets: MAP3K7)]\n",
      "[PI (targets: PIK3CA), PD (targets: MEK_f)]\n",
      "[PI (targets: PIK3CA), CT (targets: GSK3_f)]\n",
      "[PI (targets: PIK3CA), BI (targets: MAPK14)]\n",
      "[PI (targets: PIK3CA), PK (targets: CTNNB1)]\n",
      "[PI (targets: PIK3CA), AK (targets: AKT_f)]\n",
      "[PI (targets: PIK3CA), 5Z (targets: MAP3K7)]\n",
      "[PD (targets: MEK_f), CT (targets: GSK3_f)]\n",
      "[PD (targets: MEK_f), BI (targets: MAPK14)]\n",
      "[PD (targets: MEK_f), PK (targets: CTNNB1)]\n",
      "[PD (targets: MEK_f), AK (targets: AKT_f)]\n",
      "[PD (targets: MEK_f), 5Z (targets: MAP3K7)]\n",
      "[CT (targets: GSK3_f), BI (targets: MAPK14)]\n",
      "[CT (targets: GSK3_f), PK (targets: CTNNB1)]\n",
      "[CT (targets: GSK3_f), AK (targets: AKT_f)]\n",
      "[CT (targets: GSK3_f), 5Z (targets: MAP3K7)]\n",
      "[BI (targets: MAPK14), PK (targets: CTNNB1)]\n",
      "[BI (targets: MAPK14), AK (targets: AKT_f)]\n",
      "[BI (targets: MAPK14), 5Z (targets: MAP3K7)]\n",
      "[PK (targets: CTNNB1), AK (targets: AKT_f)]\n",
      "[PK (targets: CTNNB1), 5Z (targets: MAP3K7)]\n",
      "[AK (targets: AKT_f), 5Z (targets: MAP3K7)]\n"
     ]
    }
   ],
   "source": [
    "perturbations.print()"
   ]
  },
  {
   "cell_type": "markdown",
   "id": "b64a7782-fadc-40dd-8e07-ca472453ba1b",
   "metadata": {},
   "source": [
    "### Initialize Boolean Model\n",
    "A `BooleanModel` defines the network and logical rules for node interactions, used for generating predictions and simulations.\\\n",
    "There are **two ways** for the initialization:"
   ]
  },
  {
   "cell_type": "markdown",
   "id": "d5413a26-8fd6-4d64-a21b-1541e3ff7247",
   "metadata": {},
   "source": [
    "#### Initialize Boolean Model from `.sif` file"
   ]
  },
  {
   "cell_type": "markdown",
   "id": "fbd69b30-b1d3-4fbe-a5a4-476db123f392",
   "metadata": {},
   "source": [
    "##### Creating an `InteractionModel`, that can be initialized:\n",
    "  - `interaction_file` (required): The path to the `.sif` file.\n",
    "\n",
    "  - `model_name`: name of the model, by default the `.sif` file name will be set.\n",
    "\n",
    "  - `remove_self_regulated_interactions`: Remove self regulated interactions. The default is `False`.\n",
    "\n",
    "  - `remove_inputs`: Trim inputs from the model. The deafult is `False`.\n",
    "\n",
    "  - `remove_outputs`: Trim ouputs from the model. The default is `False`.\n",
    "##### Creating a `BooleanModel`, that can be initialized:\n",
    "  - `model` (required): Interaction Model\n",
    "\n",
    "  - `model_name`: The name of the model, by default the `.sif` file name will be set.\n",
    "\n",
    "  - `mutation_type`: There are 3 options: `topology`, `mixed`, `balanced`. The default is `balanced`.\n",
    "\n",
    "  - `attractor_tool`: There are 2 options: `mpbn` or `pyboolnet` The default is `mpbn`. More infotmation [here](https://mpbn.readthedocs.io/) about MPBN (Most Permissive Boolean Networks) and more information [here](https://pyboolnet.readthedocs.io/en/master/) about PyBoolNet.\n",
    "\n",
    "  - `attractor_type`: There are 2 options: `stable_states` or `trapspaces`. The default is `stable_states`.\n"
   ]
  },
  {
   "cell_type": "code",
   "execution_count": 12,
   "id": "2276328d-465e-40d3-a006-50a04a24a8dc",
   "metadata": {},
   "outputs": [
    {
     "name": "stdout",
     "output_type": "stream",
     "text": [
      "2024-11-17 00:20:17,483 - INFO - Interactions loaded successfully\n",
      "Target: Antisurvival, activating regulators: FOXO_f, CASP3\n",
      "Target: CASP3, activating regulators: CASP8, CASP9\n",
      "Target: FOXO_f, inhibitory regulators: NLK, AKT_f\n",
      "Target: Prosurvival, activating regulators: MYC, CCND1\n",
      "Target: CCND1, activating regulators: TCF7_f, RSK_f\n",
      "Target: MYC, activating regulators: TCF7_f\n",
      "Target: RAC_f, activating regulators: DVL_f, mTORC2_c\n",
      "Target: mTORC2_c, activating regulators: TSC_f, inhibitory regulators: S6K_f\n",
      "Target: DVL_f, activating regulators: FZD_f\n",
      "Target: MAP3K4, activating regulators: RAC_f\n",
      "Target: MAP3K11, activating regulators: RAC_f\n",
      "Target: MAP2K4, activating regulators: GRAP2, MAP3K7, MAP3K4, MAP3K11\n",
      "Target: MAP3K7, activating regulators: TAB_f\n",
      "Target: GRAP2, inhibitory regulators: MAPK14\n",
      "Target: MAP2K7, activating regulators: GRAP2, MAP3K7\n",
      "Target: JNK_f, activating regulators: MAP2K4, MAP2K7, inhibitory regulators: DUSP1\n",
      "Target: DUSP1, activating regulators: MAPK14, MSK_f\n",
      "Target: MAPK14, activating regulators: MAP2K4, MAP2K3, inhibitory regulators: DUSP1\n",
      "Target: MAP2K3, activating regulators: MAP3K7, MAP3K5\n",
      "Target: MAP3K5, inhibitory regulators: AKT_f\n",
      "Target: AKT_f, activating regulators: PDPK1, mTORC2_c\n",
      "Target: TAB_f, inhibitory regulators: MAPK14\n",
      "Target: MSK_f, activating regulators: MAPK14, ERK_f\n",
      "Target: RTPK_f, activating regulators: RTPK_g, MMP_f, inhibitory regulators: MAPK14, MEK_f\n",
      "Target: RTPK_g, activating regulators: FOXO_f\n",
      "Target: MEK_f, activating regulators: MAP3K8, RAF_f, inhibitory regulators: ERK_f\n",
      "Target: SHC1, activating regulators: RTPK_f, inhibitory regulators: PTEN\n",
      "Target: PTEN, activating regulators: PTEN_g, inhibitory regulators: GSK3_f\n",
      "Target: GRB2, activating regulators: SHC1\n",
      "Target: SOS1, activating regulators: GRB2, inhibitory regulators: ERK_f\n",
      "Target: ERK_f, activating regulators: MEK_f, inhibitory regulators: DUSP6\n",
      "Target: KRAS, activating regulators: PTPN11, SOS1\n",
      "Target: PTPN11, activating regulators: GAB_f\n",
      "Target: RAF_f, activating regulators: KRAS, inhibitory regulators: RHEB, AKT_f, ERK_f\n",
      "Target: RHEB, inhibitory regulators: TSC_f\n",
      "Target: MAP3K8, activating regulators: IKBKB\n",
      "Target: DUSP6, activating regulators: mTORC1_c, ERK_f\n",
      "Target: mTORC1_c, activating regulators: RSK_f, RHEB, inhibitory regulators: AKT1S1\n",
      "Target: GAB_f, activating regulators: GRB2, inhibitory regulators: ERK_f\n",
      "Target: RSK_f, activating regulators: PDPK1, ERK_f\n",
      "Target: PDPK1, activating regulators: PIK3CA, inhibitory regulators: PTEN\n",
      "Target: PIK3CA, activating regulators: KRAS, IRS1, GAB_f\n",
      "Target: IRS1, inhibitory regulators: IKBKB, S6K_f, ERK_f\n",
      "Target: S6K_f, activating regulators: PDPK1, mTORC1_c\n",
      "Target: IKBKB, activating regulators: MAP3K7, inhibitory regulators: TP53\n",
      "Target: PTEN_g, activating regulators: EGR1\n",
      "Target: GSK3_f, inhibitory regulators: RSK_f, MAPK14, ERK_f, S6K_f, LRP_f, AKT_f, DVL_f\n",
      "Target: TSC_f, activating regulators: GSK3_f, inhibitory regulators: IKBKB, RSK_f, AKT_f, ERK_f\n",
      "Target: TP53, activating regulators: MAPK14, inhibitory regulators: MDM2\n",
      "Target: AKT1S1, inhibitory regulators: AKT_f\n",
      "Target: MDM2, activating regulators: MDM2_g, AKT_f, inhibitory regulators: S6K_f\n",
      "Target: MDM2_g, activating regulators: NFKB_f, TP53\n",
      "Target: BAX, activating regulators: TP53\n",
      "Target: CYCS, activating regulators: BAX, inhibitory regulators: BCL2\n",
      "Target: BCL2, inhibitory regulators: BAD\n",
      "Target: BAD, inhibitory regulators: RSK_f, AKT_f\n",
      "Target: NLK, activating regulators: MAP3K7\n",
      "Target: CASP9, activating regulators: CYCS\n",
      "Target: CASP8, inhibitory regulators: CFLAR\n",
      "Target: CFLAR, activating regulators: AKT_f, inhibitory regulators: ITCH\n",
      "Target: ITCH, activating regulators: JNK_f\n",
      "Target: FZD_f, inhibitory regulators: SFRP1\n",
      "Target: SFRP1, activating regulators: SFRP1_g\n",
      "Target: LRP_f, activating regulators: FZD_f, JNK_f, ERK_f, MAPK14, inhibitory regulators: DKK_f\n",
      "Target: DKK_f, activating regulators: DKK_g\n",
      "Target: AXIN1, inhibitory regulators: LRP_f\n",
      "Target: CK1_f, inhibitory regulators: LRP_f\n",
      "Target: BTRC, activating regulators: AXIN1, CK1_f, GSK3_f\n",
      "Target: CTNNB1, activating regulators: CHUK, inhibitory regulators: BTRC\n",
      "Target: CHUK, activating regulators: AKT_f\n",
      "Target: TCF7_f, activating regulators: CTNNB1, inhibitory regulators: NLK\n",
      "Target: EGR1, inhibitory regulators: TCF7_f\n",
      "Target: DKK_g, activating regulators: TCF7_f, inhibitory regulators: MYC\n",
      "Target: SFRP1_g, inhibitory regulators: MYC\n",
      "Target: NFKB_f, activating regulators: IKBKB, CHUK, MSK_f\n",
      "Target: LEF, activating regulators: CTNNB1\n",
      "Target: MMP_f, activating regulators: LEF\n",
      "\n"
     ]
    }
   ],
   "source": [
    "network_sif = 'network.sif'\n",
    "model = InteractionModel(interactions_file=network_sif)\n",
    "model.print()"
   ]
  },
  {
   "cell_type": "code",
   "execution_count": 13,
   "id": "91f47c2e-cca7-4986-afaf-175c986e7824",
   "metadata": {},
   "outputs": [
    {
     "name": "stdout",
     "output_type": "stream",
     "text": [
      "2024-11-17 00:20:23,618 - INFO - Boolean Model from Interaction Model is created.\n"
     ]
    }
   ],
   "source": [
    "boolean_model_sif = BooleanModel(model=model, model_name='test1',\n",
    "                                     mutation_type='balanced', attractor_tool='mpbn', attractor_type='trapspaces')"
   ]
  },
  {
   "cell_type": "code",
   "execution_count": 14,
   "id": "09c328ac-495d-445b-9edc-190e13cfe112",
   "metadata": {},
   "outputs": [
    {
     "name": "stdout",
     "output_type": "stream",
     "text": [
      "Antisurvival *= (FOXO_f or CASP3)\n",
      "CASP3 *= (CASP8 or CASP9)\n",
      "FOXO_f *= not (NLK or AKT_f)\n",
      "Prosurvival *= (MYC or CCND1)\n",
      "CCND1 *= (TCF7_f or RSK_f)\n",
      "MYC *= (TCF7_f)\n",
      "RAC_f *= (DVL_f or mTORC2_c)\n",
      "mTORC2_c *= (TSC_f) and not (S6K_f)\n",
      "DVL_f *= (FZD_f)\n",
      "MAP3K4 *= (RAC_f)\n",
      "MAP3K11 *= (RAC_f)\n",
      "MAP2K4 *= (GRAP2 or MAP3K7 or MAP3K4 or MAP3K11)\n",
      "MAP3K7 *= (TAB_f)\n",
      "GRAP2 *= not (MAPK14)\n",
      "MAP2K7 *= (GRAP2 or MAP3K7)\n",
      "JNK_f *= (MAP2K4 or MAP2K7) and not (DUSP1)\n",
      "DUSP1 *= (MAPK14 or MSK_f)\n",
      "MAPK14 *= (MAP2K4 or MAP2K3) and not (DUSP1)\n",
      "MAP2K3 *= (MAP3K7 or MAP3K5)\n",
      "MAP3K5 *= not (AKT_f)\n",
      "AKT_f *= (PDPK1 or mTORC2_c)\n",
      "TAB_f *= not (MAPK14)\n",
      "MSK_f *= (MAPK14 or ERK_f)\n",
      "RTPK_f *= (RTPK_g or MMP_f) and not (MAPK14 or MEK_f)\n",
      "RTPK_g *= (FOXO_f)\n",
      "MEK_f *= (MAP3K8 or RAF_f) and not (ERK_f)\n",
      "SHC1 *= (RTPK_f) and not (PTEN)\n",
      "PTEN *= (PTEN_g) and not (GSK3_f)\n",
      "GRB2 *= (SHC1)\n",
      "SOS1 *= (GRB2) and not (ERK_f)\n",
      "ERK_f *= (MEK_f) and not (DUSP6)\n",
      "KRAS *= (PTPN11 or SOS1)\n",
      "PTPN11 *= (GAB_f)\n",
      "RAF_f *= (KRAS) and not (RHEB or AKT_f or ERK_f)\n",
      "RHEB *= not (TSC_f)\n",
      "MAP3K8 *= (IKBKB)\n",
      "DUSP6 *= (mTORC1_c or ERK_f)\n",
      "mTORC1_c *= (RSK_f or RHEB) and not (AKT1S1)\n",
      "GAB_f *= (GRB2) and not (ERK_f)\n",
      "RSK_f *= (PDPK1 or ERK_f)\n",
      "PDPK1 *= (PIK3CA) and not (PTEN)\n",
      "PIK3CA *= (KRAS or IRS1 or GAB_f)\n",
      "IRS1 *= not (IKBKB or S6K_f or ERK_f)\n",
      "S6K_f *= (PDPK1 or mTORC1_c)\n",
      "IKBKB *= (MAP3K7) and not (TP53)\n",
      "PTEN_g *= (EGR1)\n",
      "GSK3_f *= not (RSK_f or MAPK14 or ERK_f or S6K_f or LRP_f or AKT_f or DVL_f)\n",
      "TSC_f *= (GSK3_f) and not (IKBKB or RSK_f or AKT_f or ERK_f)\n",
      "TP53 *= (MAPK14) and not (MDM2)\n",
      "AKT1S1 *= not (AKT_f)\n",
      "MDM2 *= (MDM2_g or AKT_f) and not (S6K_f)\n",
      "MDM2_g *= (NFKB_f or TP53)\n",
      "BAX *= (TP53)\n",
      "CYCS *= (BAX) and not (BCL2)\n",
      "BCL2 *= not (BAD)\n",
      "BAD *= not (RSK_f or AKT_f)\n",
      "NLK *= (MAP3K7)\n",
      "CASP9 *= (CYCS)\n",
      "CASP8 *= not (CFLAR)\n",
      "CFLAR *= (AKT_f) and not (ITCH)\n",
      "ITCH *= (JNK_f)\n",
      "FZD_f *= not (SFRP1)\n",
      "SFRP1 *= (SFRP1_g)\n",
      "LRP_f *= (FZD_f or JNK_f or ERK_f or MAPK14) and not (DKK_f)\n",
      "DKK_f *= (DKK_g)\n",
      "AXIN1 *= not (LRP_f)\n",
      "CK1_f *= not (LRP_f)\n",
      "BTRC *= (AXIN1 or CK1_f or GSK3_f)\n",
      "CTNNB1 *= (CHUK) and not (BTRC)\n",
      "CHUK *= (AKT_f)\n",
      "TCF7_f *= (CTNNB1) and not (NLK)\n",
      "EGR1 *= not (TCF7_f)\n",
      "DKK_g *= (TCF7_f) and not (MYC)\n",
      "SFRP1_g *= not (MYC)\n",
      "NFKB_f *= (IKBKB or CHUK or MSK_f)\n",
      "LEF *= (CTNNB1)\n",
      "MMP_f *= (LEF)\n"
     ]
    }
   ],
   "source": [
    "boolean_model_sif.print()"
   ]
  },
  {
   "cell_type": "markdown",
   "id": "4998672f-eeac-46fc-9ed1-483145c30725",
   "metadata": {},
   "source": [
    "#### Initialize Boolean Model from `.bnet` file"
   ]
  },
  {
   "cell_type": "markdown",
   "id": "8a6df39c-2506-4f9e-ae62-ad8042aa4c7a",
   "metadata": {},
   "source": [
    "See more about the BoolNet format: [CoLoMoTo formats](http://colomoto.org/biolqm/doc/format-bnet.html) and [PyBoolNet Docs](https://pyboolnet.readthedocs.io/en/master/quickstart.html).\n",
    "\n",
    "**Creating a `BooleanModel`, that can be initialized:**\n",
    "  - `file` (required): The path to the `.bnet` file.\n",
    "\n",
    "  - `model_name`: The name of the model.\n",
    "\n",
    "  - `mutation_type`: There are 3 options: `topology`, `mixed`, `balanced`. The default is balanced.\n",
    "\n",
    "  - `attractor_tool`: There are 2 options: `mpbn` or `pyboolnet` The default is `mpbn`.\n",
    "\n",
    "  - `attractor_type`:There are 2 options: `stable_states` or `trapspaces`. The default is `stable_states`."
   ]
  },
  {
   "cell_type": "code",
   "execution_count": 15,
   "id": "2755cb78-3ded-4c7c-991a-1fefbc29d7de",
   "metadata": {},
   "outputs": [
    {
     "name": "stdout",
     "output_type": "stream",
     "text": [
      "2024-11-17 00:20:26,854 - INFO - Boolean Model from .bnet file is created.\n"
     ]
    }
   ],
   "source": [
    "equations_bnet = 'network.bnet'\n",
    "boolean_model_bnet = BooleanModel(file=equations_bnet, model_name='test2',\n",
    "                                     mutation_type='balanced', attractor_tool='mpbn', attractor_type='stable_states')"
   ]
  },
  {
   "cell_type": "markdown",
   "id": "bb9c8cc4-92a4-46eb-80c7-e6c2618bbc03",
   "metadata": {},
   "source": [
    "## Run Train and Predict with `executor`"
   ]
  },
  {
   "cell_type": "markdown",
   "id": "58d3a396-9a5a-4d89-8fa0-75cd82ca7e28",
   "metadata": {},
   "source": [
    "**Required Parameters:**\n",
    "- `BooleanModel`,\n",
    "  \n",
    "- `ModelOutputs`,\n",
    "\n",
    "- `Perturbations`,\n",
    "\n",
    "- Genetic Algorithm Arguments (`ga_args`),\n",
    "\n",
    "- Evolution Arguments (`ev_args`),\n",
    "\n",
    "- Observed Synergy Scores (`observed_synergy_scores`)\n",
    "\n",
    "**Optional Parameters:**\n",
    "- `Training Data`"
   ]
  },
  {
   "cell_type": "markdown",
   "id": "aedecfb1-1e31-474f-8ed5-16e4d69399ca",
   "metadata": {},
   "source": [
    "### Initialize Train and Predict\n",
    "\n",
    "To run training and prediction, have to set up `train_params` and `predict_params`, which define how the executor handles model training and simulations. Below, you can see how to initialize these parameters.\n",
    "\n"
   ]
  },
  {
   "cell_type": "markdown",
   "id": "1eac0dd9-e91d-401d-a01c-ece5eb760c51",
   "metadata": {},
   "source": [
    "#### 1. `train_params`\n",
    "This dictionary holds the configuration and input data necessary for training Boolean Models.\\\n",
    "Below is a detailed overview of its parameters:\n",
    "\n",
    "- `boolean_model`: The initial `BooleanModel` instance that serves as the starting point for training.\n",
    "\n",
    "\n",
    "- `model_outputs`: An instance of `ModelOutputs`.\n",
    "\n",
    "- `training_data` (optional): An instance of `TrainingData`.\n",
    "\n",
    "- `ga_args`: A dictionary of arguments and configurations for the genetic algorithm.\n",
    "\n",
    "- `ev_args`: A dictionary of arguments for the evolutionary strategy settings. It runs multiple times the genetic algorithm.\n",
    "\n",
    "- `save_best_models`(optional): Whether to save the models with the best fitness score to disk. By defult, `False`.\n",
    "  \n",
    "\n",
    "- `save_path` (optional): The path where the best models will be saved if `save_best_models` is `True`. (e.g. `'./models'`)."
   ]
  },
  {
   "cell_type": "markdown",
   "id": "cd032748-6cc1-4eac-98b0-6d2737b7852c",
   "metadata": {},
   "source": [
    "##### Arguments for the Genetic Algorithm (`ga_args`)\n",
    "The Evolution pipeline uses the `PyGAD` Genetic Algoritm . For more information about the `PyGAD.GA` initialization click [here](https://pygad.readthedocs.io/en/latest/pygad.html#init) ."
   ]
  },
  {
   "cell_type": "code",
   "execution_count": 16,
   "id": "ed2aa5e6-cba6-4858-a73b-12d9c084d01a",
   "metadata": {},
   "outputs": [],
   "source": [
    "ga_args = {\n",
    "        'num_generations': 20,\n",
    "        'num_parents_mating': 3,\n",
    "        'mutation_num_genes': 10,\n",
    "        'fitness_batch_size': 20,\n",
    "        'crossover_type': 'single_point',\n",
    "        'mutation_type': 'random',\n",
    "        'keep_elitism': 6,\n",
    "        # 'stop_criteria': 'reach_95'\n",
    "}"
   ]
  },
  {
   "cell_type": "markdown",
   "id": "85edfc01-f9c2-412c-9137-a97bc4320525",
   "metadata": {},
   "source": [
    "##### Arguments for the Evolution (`ev_args`)\n",
    "- `num_best_solutions`: Number of the best solutions per Evolution run.\n",
    "\n",
    "- `num_of_runs`: Number of running the Evolution.\n",
    "\n",
    "- `num_of_cores`: Maximum number of cores for calculations.\n",
    "\n",
    "- `num_of_init_mutation`: Number of mutated genes in the initial population."
   ]
  },
  {
   "cell_type": "code",
   "execution_count": 17,
   "id": "d8ce1cde-5db0-43bf-b684-ca82ed2aeadc",
   "metadata": {},
   "outputs": [],
   "source": [
    "ev_args = {\n",
    "        'num_best_solutions': 3,\n",
    "        'num_of_runs': 50,\n",
    "        'num_of_cores': 4,\n",
    "        'num_of_init_mutation': 20\n",
    "}"
   ]
  },
  {
   "cell_type": "markdown",
   "id": "2344c717-bcec-48a7-bbef-8cccf2ce9219",
   "metadata": {},
   "source": [
    "##### Init `train_params`"
   ]
  },
  {
   "cell_type": "code",
   "execution_count": 18,
   "id": "ddd4d0ad-46d3-499c-8802-376b502646bc",
   "metadata": {},
   "outputs": [],
   "source": [
    "train_params = {\n",
    "        'boolean_model': boolean_model_bnet,\n",
    "        'model_outputs': model_outputs,\n",
    "        'training_data': training_data,\n",
    "        'ga_args': ga_args,\n",
    "        'ev_args': ev_args,\n",
    "        'save_best_models': False,\n",
    "        # 'save_path': './models'\n",
    "}"
   ]
  },
  {
   "cell_type": "markdown",
   "id": "0ec19f25-a187-4b70-bb90-8b3b09971354",
   "metadata": {},
   "source": [
    "#### 2. `predict_params`\n",
    "This dictionary holds the necessary configurations for the `predict` function, which simulates perturbed models and predicts drug synergies.\\\n",
    "Below is a detailed overview of its parameters:\n",
    "\n",
    "- `perturbations`: An instance of `Perturbation`.\n",
    "\n",
    "- `model_outputs`: An instance of `ModelOutputs`.\n",
    "\n",
    "- `observed_synergy_scores`: A list of observed synergy scores used to plot and evaluate the predictive accuracy of the models.\n",
    "\n",
    "- `synergy_method`: The method used to calculate synergy scores. Options: `'bliss'` (Bliss Independence) or `'hsa'` (Highest Single Agent). By default, `'bliss'`\n",
    "\n",
    "- `run_parallel` (optional): Whether to run it paralelly or serially, By default, `True`.\n",
    "\n",
    "- `plot_roc_pr_curves` (optional): Whether to plot the ROC and PR Curves when the predction finishes. By default, `True`.\n",
    "\n",
    "- `save_predictions` (optional):  Whether to save the predictions to disk after the simulations. By default, `False`.\n",
    "\n",
    "- `save_path` (optional): Specifies the path to save the predictions if `save_predictions` is `True` (e.g. `'./predictions'`).\n",
    "\n",
    "-  `cores`: Number of CPU cores to use for parallel processing.(e.g. `4` for using four CPU cores).\n",
    "\n",
    "- **For running only predict on previously trained models from disk:**\n",
    "   - `model_directory`: Path to a directory containing pre-trained models to be loaded if `best_boolean_models` is not provided.(e.g., `'./models/models_2024_11_06_1130'`).\n",
    "\n",
    "   - `attractor_tool`: Specifies the tool used for attractor computation if the models are loaded from `model_directory` (e.g. `'mpbn'`).\n",
    "\n",
    "   - `attractor_type`: Specifies the tool used for attractor computation if the models are loaded from `model_directory` (e.g. `'stable_states'`).\n",
    " \n",
    "   - `cores`: Number of CPU cores to use for parallel processing.(e.g. `4` for using four CPU cores).\n",
    "\n",
    "\n",
    "- **For running only predict on previously trained models during runtime:**\n",
    "\n",
    "   - `best_boolean_models`: retults of train (e.g. models = train(boolean_model=boolean_model_bnet, model_outputs=model_outputs, training_data=training_data, ga_args=ga_args, ev_args=ev_args)\n",
    "\n",
    "   - `cores`: Number of CPU cores to use for parallel processing.(e.g. `4` for using four CPU cores).\n",
    "\n"
   ]
  },
  {
   "cell_type": "markdown",
   "id": "1637050b-2de8-48de-82dc-e8e820501697",
   "metadata": {},
   "source": [
    "#####   Observed Synergy Scores\n",
    "List of observed synergy scores corresponding to the perturbations applied, used to evaluate model predictions. \\\n",
    "**Initialization**: From a list containing observed synergy scores."
   ]
  },
  {
   "cell_type": "code",
   "execution_count": 19,
   "id": "a27ed3ef-7f9d-41a5-be73-604d4c68e0fb",
   "metadata": {},
   "outputs": [],
   "source": [
    "observed_synergy_scores = [\"PI-PD\", \"PI-5Z\", \"PD-AK\", \"AK-5Z\"]"
   ]
  },
  {
   "cell_type": "markdown",
   "id": "0ac656dc-7cf6-4e7d-bbad-ffc6581c404d",
   "metadata": {},
   "source": [
    "##### Init `predict_param`"
   ]
  },
  {
   "cell_type": "code",
   "execution_count": 3,
   "id": "a31c4488-0dec-4fbc-9689-8ca01401852a",
   "metadata": {},
   "outputs": [
    {
     "ename": "NameError",
     "evalue": "name 'perturbations' is not defined",
     "output_type": "error",
     "traceback": [
      "\u001b[0;31m---------------------------------------------------------------------------\u001b[0m",
      "\u001b[0;31mNameError\u001b[0m                                 Traceback (most recent call last)",
      "Cell \u001b[0;32mIn[3], line 2\u001b[0m\n\u001b[1;32m      1\u001b[0m predict_params \u001b[38;5;241m=\u001b[39m {\n\u001b[0;32m----> 2\u001b[0m         \u001b[38;5;124m'\u001b[39m\u001b[38;5;124mperturbations\u001b[39m\u001b[38;5;124m'\u001b[39m: \u001b[43mperturbations\u001b[49m,\n\u001b[1;32m      3\u001b[0m         \u001b[38;5;124m'\u001b[39m\u001b[38;5;124mmodel_outputs\u001b[39m\u001b[38;5;124m'\u001b[39m: model_outputs,\n\u001b[1;32m      4\u001b[0m         \u001b[38;5;124m'\u001b[39m\u001b[38;5;124mobserved_synergy_scores\u001b[39m\u001b[38;5;124m'\u001b[39m: observed_synergy_scores,\n\u001b[1;32m      5\u001b[0m         \u001b[38;5;124m'\u001b[39m\u001b[38;5;124msynergy_method\u001b[39m\u001b[38;5;124m'\u001b[39m: \u001b[38;5;124m'\u001b[39m\u001b[38;5;124mbliss\u001b[39m\u001b[38;5;124m'\u001b[39m,\n\u001b[1;32m      6\u001b[0m         \u001b[38;5;124m'\u001b[39m\u001b[38;5;124mplot_roc_pr_curves\u001b[39m\u001b[38;5;124m'\u001b[39m: \u001b[38;5;28;01mTrue\u001b[39;00m,\n\u001b[1;32m      7\u001b[0m         \u001b[38;5;124m'\u001b[39m\u001b[38;5;124msave_predictions\u001b[39m\u001b[38;5;124m'\u001b[39m: \u001b[38;5;28;01mFalse\u001b[39;00m,\n\u001b[1;32m      8\u001b[0m         \u001b[38;5;66;03m# 'save_path': './predictions',\u001b[39;00m\n\u001b[1;32m      9\u001b[0m         \u001b[38;5;66;03m# 'model_directory': './example_models',\u001b[39;00m\n\u001b[1;32m     10\u001b[0m         \u001b[38;5;66;03m# 'attractor_tool': 'mpbn',\u001b[39;00m\n\u001b[1;32m     11\u001b[0m         \u001b[38;5;66;03m# 'attractor_type':  'stable_states'\u001b[39;00m\n\u001b[1;32m     12\u001b[0m     }\n",
      "\u001b[0;31mNameError\u001b[0m: name 'perturbations' is not defined"
     ]
    }
   ],
   "source": [
    "predict_params = {\n",
    "        'perturbations': perturbations,\n",
    "        'model_outputs': model_outputs,\n",
    "        'observed_synergy_scores': observed_synergy_scores,\n",
    "        'synergy_method': 'bliss',\n",
    "        'plot_roc_pr_curves': True,\n",
    "        'save_predictions': False,\n",
    "        # 'save_path': './predictions',\n",
    "        # 'model_directory': './example_models',\n",
    "        # 'attractor_tool': 'mpbn',\n",
    "        # 'attractor_type':  'stable_states'\n",
    "    }"
   ]
  },
  {
   "cell_type": "markdown",
   "id": "d886b76d-acab-456a-8cea-434218da3dc4",
   "metadata": {},
   "source": [
    "### Run Train and Predict"
   ]
  },
  {
   "cell_type": "code",
   "execution_count": 21,
   "id": "71da568b-f943-475b-a57c-4c4b3fb36f24",
   "metadata": {},
   "outputs": [],
   "source": [
    "from pydruglogics.execution.Executor import execute, train, predict"
   ]
  },
  {
   "cell_type": "code",
   "execution_count": 22,
   "id": "9d9781ae-c8e3-4886-9702-4d01c9ebea81",
   "metadata": {},
   "outputs": [
    {
     "name": "stdout",
     "output_type": "stream",
     "text": [
      "2024-11-16 00:46:05,400 - INFO - Train started...\n",
      "2024-11-16 00:46:16,487 - INFO - Training finished.\n",
      "2024-11-16 00:46:16,489 - INFO - Train completed in 11.09 seconds.\n",
      "2024-11-16 00:46:16,489 - INFO - Predict started...\n",
      "2024-11-16 00:46:30,389 - INFO - \n",
      "Synergy scores (bliss):\n",
      "2024-11-16 00:46:30,390 - INFO - PI-PD: -0.1580120888736708\n",
      "2024-11-16 00:46:30,391 - INFO - PI-CT: 0.002975517890772106\n",
      "2024-11-16 00:46:30,392 - INFO - PI-BI: 0.01302189111677321\n",
      "2024-11-16 00:46:30,392 - INFO - PI-PK: -0.004479748223085389\n",
      "2024-11-16 00:46:30,393 - INFO - PI-AK: 0.07575392975581308\n",
      "2024-11-16 00:46:30,394 - INFO - PI-5Z: -0.05391281836667905\n",
      "2024-11-16 00:46:30,394 - INFO - PD-CT: 0.0032831790123456495\n",
      "2024-11-16 00:46:30,395 - INFO - PD-BI: -0.012746052960793341\n",
      "2024-11-16 00:46:30,395 - INFO - PD-PK: 0.2626793194129503\n",
      "2024-11-16 00:46:30,396 - INFO - PD-AK: -0.12597022176497474\n",
      "2024-11-16 00:46:30,396 - INFO - PD-5Z: 0.0024319844535892754\n",
      "2024-11-16 00:46:30,397 - INFO - CT-BI: 0.002989969135802406\n",
      "2024-11-16 00:46:30,397 - INFO - CT-PK: 0.0022765700483091678\n",
      "2024-11-16 00:46:30,398 - INFO - CT-AK: 0.0025884773662551153\n",
      "2024-11-16 00:46:30,398 - INFO - CT-5Z: 0.0033251028806583482\n",
      "2024-11-16 00:46:30,398 - INFO - BI-PK: -0.09410015767579172\n",
      "2024-11-16 00:46:30,399 - INFO - BI-AK: 0.051596079103795156\n",
      "2024-11-16 00:46:30,399 - INFO - BI-5Z: 0.08794010059442137\n",
      "2024-11-16 00:46:30,400 - INFO - PK-AK: 0.04178279963574527\n",
      "2024-11-16 00:46:30,400 - INFO - PK-5Z: 0.26999738497323045\n",
      "2024-11-16 00:46:30,401 - INFO - AK-5Z: -0.07740359701265043\n",
      "2024-11-16 00:46:30,430 - INFO - Predicted Data with Observed Synergies for Model 1:\n",
      "2024-11-16 00:46:30,430 - INFO -    perturbation  synergy_score  observed\n",
      "0         PI-PD       0.158012         1\n",
      "1         PD-AK       0.125970         1\n",
      "2         BI-PK       0.094100         0\n",
      "3         AK-5Z       0.077404         1\n",
      "4         PI-5Z       0.053913         1\n",
      "5         PD-BI       0.012746         0\n",
      "6         PI-PK       0.004480         0\n",
      "7         CT-PK      -0.002277         0\n",
      "8         PD-5Z      -0.002432         0\n",
      "9         CT-AK      -0.002588         0\n",
      "10        PI-CT      -0.002976         0\n",
      "11        CT-BI      -0.002990         0\n",
      "12        PD-CT      -0.003283         0\n",
      "13        CT-5Z      -0.003325         0\n",
      "14        PI-BI      -0.013022         0\n",
      "15        PK-AK      -0.041783         0\n",
      "16        BI-AK      -0.051596         0\n",
      "17        PI-AK      -0.075754         0\n",
      "18        BI-5Z      -0.087940         0\n",
      "19        PD-PK      -0.262679         0\n",
      "20        PK-5Z      -0.269997         0\n"
     ]
    },
    {
     "data": {
      "image/png": "[encoded data removed]",
      "text/plain": [
       "<Figure size 1200x500 with 2 Axes>"
      ]
     },
     "metadata": {},
     "output_type": "display_data"
    },
    {
     "name": "stdout",
     "output_type": "stream",
     "text": [
      "2024-11-16 00:46:30,589 - INFO - Predict completed in 14.10 seconds.\n",
      "2024-11-16 00:46:30,591 - INFO - Total runtime for training and prediction: 25.19 seconds\n"
     ]
    }
   ],
   "source": [
    "execute(train_params=train_params, predict_params=predict_params)"
   ]
  },
  {
   "cell_type": "markdown",
   "id": "cfd426c0-3b37-424d-b8b4-3deac4667f36",
   "metadata": {},
   "source": [
    "### Run Train"
   ]
  },
  {
   "cell_type": "code",
   "execution_count": 23,
   "id": "791cbb2e-2c6c-4670-a2cb-a50b39c8e7e8",
   "metadata": {},
   "outputs": [
    {
     "name": "stdout",
     "output_type": "stream",
     "text": [
      "2024-11-16 00:46:30,594 - INFO - Train started...\n",
      "2024-11-16 00:46:41,850 - INFO - Training finished.\n",
      "2024-11-16 00:46:41,851 - INFO - Train completed in 11.26 seconds.\n"
     ]
    }
   ],
   "source": [
    "execute(train_params=train_params)"
   ]
  },
  {
   "cell_type": "markdown",
   "id": "050533bd-d4a0-47ab-aad5-33212680515a",
   "metadata": {},
   "source": [
    "Alternatively, `train` can be run this way: "
   ]
  },
  {
   "cell_type": "code",
   "execution_count": null,
   "id": "0ba6d9bb-9861-4c8a-8aef-dc518c0c2f07",
   "metadata": {},
   "outputs": [],
   "source": [
    "# from pydruglogics.execution.Executor import train\n",
    "# best_boolean_models = train(boolean_model=boolean_model_bnet, model_outputs=model_outputs, training_data=training_data, ga_args=ga_args, ev_args=ev_args)"
   ]
  },
  {
   "cell_type": "markdown",
   "id": "ce8153bc-dd74-44aa-8671-c5b049b0e248",
   "metadata": {},
   "source": [
    "### Run Predict"
   ]
  },
  {
   "cell_type": "markdown",
   "id": "e8e684cc-78f5-4bc0-818a-7e27cac711b7",
   "metadata": {},
   "source": [
    "**Note:** If the Evolution process has not been previously executed, it is necessary to load the Boolean Models from a `.bnet` file. In this case `attractor_tool` and `attractor_type` must be provided."
   ]
  },
  {
   "cell_type": "code",
   "execution_count": 24,
   "id": "375f2dba-c21d-4ff7-837c-4d41322da153",
   "metadata": {},
   "outputs": [],
   "source": [
    "predict_params = {\n",
    "        'perturbations': perturbations,\n",
    "        'model_outputs': model_outputs,\n",
    "        'observed_synergy_scores': observed_synergy_scores,\n",
    "        'synergy_method': 'bliss',\n",
    "        'plot_roc_pr_curves': True,\n",
    "        'save_predictions': True,\n",
    "        'save_path': './predictions',\n",
    "        'model_directory': './example_models',\n",
    "        'attractor_tool': 'mpbn',\n",
    "        'attractor_type':  'stable_states'\n",
    "    }"
   ]
  },
  {
   "cell_type": "code",
   "execution_count": 25,
   "id": "7647b0f9-3bd6-4b53-b325-eff3a6f5384d",
   "metadata": {},
   "outputs": [
    {
     "name": "stdout",
     "output_type": "stream",
     "text": [
      "2024-11-16 00:46:41,872 - INFO - Predict started...\n",
      "2024-11-16 00:46:41,873 - INFO - Loading models from directory: ./results/models/example_models\n",
      "2024-11-16 00:46:41,874 - INFO - Boolean Model from .bnet file is created.\n",
      "2024-11-16 00:46:41,893 - INFO - Boolean Model from .bnet file is created.\n",
      "2024-11-16 00:46:41,905 - INFO - Boolean Model from .bnet file is created.\n",
      "2024-11-16 00:46:41,917 - INFO - Boolean Model from .bnet file is created.\n",
      "2024-11-16 00:46:41,929 - INFO - Boolean Model from .bnet file is created.\n",
      "2024-11-16 00:46:41,940 - INFO - Boolean Model from .bnet file is created.\n",
      "2024-11-16 00:46:41,952 - INFO - Boolean Model from .bnet file is created.\n",
      "2024-11-16 00:46:41,964 - INFO - Boolean Model from .bnet file is created.\n",
      "2024-11-16 00:46:41,975 - INFO - Boolean Model from .bnet file is created.\n",
      "2024-11-16 00:46:41,987 - INFO - Boolean Model from .bnet file is created.\n",
      "2024-11-16 00:46:41,998 - INFO - Boolean Model from .bnet file is created.\n",
      "2024-11-16 00:46:42,009 - INFO - Boolean Model from .bnet file is created.\n",
      "2024-11-16 00:46:42,021 - INFO - Boolean Model from .bnet file is created.\n",
      "2024-11-16 00:46:42,033 - INFO - Boolean Model from .bnet file is created.\n",
      "2024-11-16 00:46:42,044 - INFO - Boolean Model from .bnet file is created.\n",
      "2024-11-16 00:46:42,056 - INFO - Boolean Model from .bnet file is created.\n",
      "2024-11-16 00:46:42,068 - INFO - Boolean Model from .bnet file is created.\n",
      "2024-11-16 00:46:42,080 - INFO - Boolean Model from .bnet file is created.\n",
      "2024-11-16 00:46:42,091 - INFO - Boolean Model from .bnet file is created.\n",
      "2024-11-16 00:46:42,103 - INFO - Boolean Model from .bnet file is created.\n",
      "2024-11-16 00:46:42,114 - INFO - Boolean Model from .bnet file is created.\n",
      "2024-11-16 00:46:42,126 - INFO - Boolean Model from .bnet file is created.\n",
      "2024-11-16 00:46:42,137 - INFO - Boolean Model from .bnet file is created.\n",
      "2024-11-16 00:46:42,149 - INFO - Boolean Model from .bnet file is created.\n",
      "2024-11-16 00:46:42,160 - INFO - Boolean Model from .bnet file is created.\n",
      "2024-11-16 00:46:42,172 - INFO - Boolean Model from .bnet file is created.\n",
      "2024-11-16 00:46:42,184 - INFO - Boolean Model from .bnet file is created.\n",
      "2024-11-16 00:46:42,196 - INFO - Boolean Model from .bnet file is created.\n",
      "2024-11-16 00:46:42,207 - INFO - Boolean Model from .bnet file is created.\n",
      "2024-11-16 00:46:42,219 - INFO - Boolean Model from .bnet file is created.\n",
      "2024-11-16 00:46:42,230 - INFO - Boolean Model from .bnet file is created.\n",
      "2024-11-16 00:46:42,242 - INFO - Boolean Model from .bnet file is created.\n",
      "2024-11-16 00:46:42,254 - INFO - Boolean Model from .bnet file is created.\n",
      "2024-11-16 00:46:42,265 - INFO - Boolean Model from .bnet file is created.\n",
      "2024-11-16 00:46:42,276 - INFO - Boolean Model from .bnet file is created.\n",
      "2024-11-16 00:46:42,287 - INFO - Boolean Model from .bnet file is created.\n",
      "2024-11-16 00:46:42,299 - INFO - Boolean Model from .bnet file is created.\n",
      "2024-11-16 00:46:42,310 - INFO - Boolean Model from .bnet file is created.\n",
      "2024-11-16 00:46:42,321 - INFO - Boolean Model from .bnet file is created.\n",
      "2024-11-16 00:46:42,332 - INFO - Boolean Model from .bnet file is created.\n",
      "2024-11-16 00:46:42,343 - INFO - Boolean Model from .bnet file is created.\n",
      "2024-11-16 00:46:42,355 - INFO - Boolean Model from .bnet file is created.\n",
      "2024-11-16 00:46:42,366 - INFO - Boolean Model from .bnet file is created.\n",
      "2024-11-16 00:46:42,378 - INFO - Boolean Model from .bnet file is created.\n",
      "2024-11-16 00:46:42,389 - INFO - Boolean Model from .bnet file is created.\n",
      "2024-11-16 00:46:42,400 - INFO - Boolean Model from .bnet file is created.\n",
      "2024-11-16 00:46:42,412 - INFO - Boolean Model from .bnet file is created.\n",
      "2024-11-16 00:46:42,423 - INFO - Boolean Model from .bnet file is created.\n",
      "2024-11-16 00:46:42,435 - INFO - Boolean Model from .bnet file is created.\n",
      "2024-11-16 00:46:42,446 - INFO - Boolean Model from .bnet file is created.\n",
      "2024-11-16 00:46:42,457 - INFO - Boolean Model from .bnet file is created.\n",
      "2024-11-16 00:46:42,469 - INFO - Boolean Model from .bnet file is created.\n",
      "2024-11-16 00:46:42,480 - INFO - Boolean Model from .bnet file is created.\n",
      "2024-11-16 00:46:42,491 - INFO - Boolean Model from .bnet file is created.\n",
      "2024-11-16 00:46:42,503 - INFO - Boolean Model from .bnet file is created.\n",
      "2024-11-16 00:46:42,514 - INFO - Boolean Model from .bnet file is created.\n",
      "2024-11-16 00:46:42,525 - INFO - Boolean Model from .bnet file is created.\n",
      "2024-11-16 00:46:42,536 - INFO - Boolean Model from .bnet file is created.\n",
      "2024-11-16 00:46:42,548 - INFO - Boolean Model from .bnet file is created.\n",
      "2024-11-16 00:46:42,559 - INFO - Boolean Model from .bnet file is created.\n",
      "2024-11-16 00:46:42,570 - INFO - Boolean Model from .bnet file is created.\n",
      "2024-11-16 00:46:42,581 - INFO - Boolean Model from .bnet file is created.\n",
      "2024-11-16 00:46:42,593 - INFO - Boolean Model from .bnet file is created.\n",
      "2024-11-16 00:46:42,604 - INFO - Boolean Model from .bnet file is created.\n",
      "2024-11-16 00:46:42,615 - INFO - Boolean Model from .bnet file is created.\n",
      "2024-11-16 00:46:42,626 - INFO - Boolean Model from .bnet file is created.\n",
      "2024-11-16 00:46:42,638 - INFO - Boolean Model from .bnet file is created.\n",
      "2024-11-16 00:46:42,649 - INFO - Boolean Model from .bnet file is created.\n",
      "2024-11-16 00:46:42,661 - INFO - Boolean Model from .bnet file is created.\n",
      "2024-11-16 00:46:42,672 - INFO - Boolean Model from .bnet file is created.\n",
      "2024-11-16 00:46:42,683 - INFO - Boolean Model from .bnet file is created.\n",
      "2024-11-16 00:46:42,695 - INFO - Boolean Model from .bnet file is created.\n",
      "2024-11-16 00:46:42,706 - INFO - Boolean Model from .bnet file is created.\n",
      "2024-11-16 00:46:42,717 - INFO - Boolean Model from .bnet file is created.\n",
      "2024-11-16 00:46:42,729 - INFO - Boolean Model from .bnet file is created.\n",
      "2024-11-16 00:46:42,740 - INFO - Boolean Model from .bnet file is created.\n",
      "2024-11-16 00:46:42,753 - INFO - Boolean Model from .bnet file is created.\n",
      "2024-11-16 00:46:42,765 - INFO - Boolean Model from .bnet file is created.\n",
      "2024-11-16 00:46:42,776 - INFO - Boolean Model from .bnet file is created.\n",
      "2024-11-16 00:46:42,787 - INFO - Boolean Model from .bnet file is created.\n",
      "2024-11-16 00:46:42,799 - INFO - Boolean Model from .bnet file is created.\n",
      "2024-11-16 00:46:42,812 - INFO - Boolean Model from .bnet file is created.\n",
      "2024-11-16 00:46:42,824 - INFO - Boolean Model from .bnet file is created.\n",
      "2024-11-16 00:46:42,836 - INFO - Boolean Model from .bnet file is created.\n",
      "2024-11-16 00:46:42,847 - INFO - Boolean Model from .bnet file is created.\n",
      "2024-11-16 00:46:42,858 - INFO - Boolean Model from .bnet file is created.\n",
      "2024-11-16 00:46:42,869 - INFO - Boolean Model from .bnet file is created.\n",
      "2024-11-16 00:46:42,882 - INFO - Boolean Model from .bnet file is created.\n",
      "2024-11-16 00:46:42,894 - INFO - Boolean Model from .bnet file is created.\n",
      "2024-11-16 00:46:42,905 - INFO - Boolean Model from .bnet file is created.\n",
      "2024-11-16 00:46:42,917 - INFO - Boolean Model from .bnet file is created.\n",
      "2024-11-16 00:46:42,928 - INFO - Boolean Model from .bnet file is created.\n",
      "2024-11-16 00:46:42,939 - INFO - Boolean Model from .bnet file is created.\n",
      "2024-11-16 00:46:42,951 - INFO - Boolean Model from .bnet file is created.\n",
      "2024-11-16 00:46:42,963 - INFO - Boolean Model from .bnet file is created.\n",
      "2024-11-16 00:46:42,974 - INFO - Boolean Model from .bnet file is created.\n",
      "2024-11-16 00:46:42,985 - INFO - Boolean Model from .bnet file is created.\n",
      "2024-11-16 00:46:42,997 - INFO - Boolean Model from .bnet file is created.\n",
      "2024-11-16 00:46:43,009 - INFO - Boolean Model from .bnet file is created.\n",
      "2024-11-16 00:46:43,020 - INFO - Boolean Model from .bnet file is created.\n",
      "2024-11-16 00:46:43,031 - INFO - Boolean Model from .bnet file is created.\n",
      "2024-11-16 00:46:43,043 - INFO - Boolean Model from .bnet file is created.\n",
      "2024-11-16 00:46:43,055 - INFO - Boolean Model from .bnet file is created.\n",
      "2024-11-16 00:46:43,066 - INFO - Boolean Model from .bnet file is created.\n",
      "2024-11-16 00:46:43,077 - INFO - Boolean Model from .bnet file is created.\n",
      "2024-11-16 00:46:43,089 - INFO - Boolean Model from .bnet file is created.\n",
      "2024-11-16 00:46:43,100 - INFO - Boolean Model from .bnet file is created.\n",
      "2024-11-16 00:46:43,112 - INFO - Boolean Model from .bnet file is created.\n",
      "2024-11-16 00:46:43,123 - INFO - Boolean Model from .bnet file is created.\n",
      "2024-11-16 00:46:43,135 - INFO - Boolean Model from .bnet file is created.\n",
      "2024-11-16 00:46:43,146 - INFO - Boolean Model from .bnet file is created.\n",
      "2024-11-16 00:46:43,157 - INFO - Boolean Model from .bnet file is created.\n",
      "2024-11-16 00:46:43,169 - INFO - Boolean Model from .bnet file is created.\n",
      "2024-11-16 00:46:43,181 - INFO - Boolean Model from .bnet file is created.\n",
      "2024-11-16 00:46:43,192 - INFO - Boolean Model from .bnet file is created.\n",
      "2024-11-16 00:46:43,204 - INFO - Boolean Model from .bnet file is created.\n",
      "2024-11-16 00:46:43,215 - INFO - Boolean Model from .bnet file is created.\n",
      "2024-11-16 00:46:43,226 - INFO - Boolean Model from .bnet file is created.\n",
      "2024-11-16 00:46:43,239 - INFO - Boolean Model from .bnet file is created.\n",
      "2024-11-16 00:46:43,250 - INFO - Boolean Model from .bnet file is created.\n",
      "2024-11-16 00:46:43,262 - INFO - Boolean Model from .bnet file is created.\n",
      "2024-11-16 00:46:43,273 - INFO - Boolean Model from .bnet file is created.\n",
      "2024-11-16 00:46:43,284 - INFO - Boolean Model from .bnet file is created.\n",
      "2024-11-16 00:46:43,296 - INFO - Boolean Model from .bnet file is created.\n",
      "2024-11-16 00:46:43,308 - INFO - Boolean Model from .bnet file is created.\n",
      "2024-11-16 00:46:43,319 - INFO - Boolean Model from .bnet file is created.\n",
      "2024-11-16 00:46:43,330 - INFO - Boolean Model from .bnet file is created.\n",
      "2024-11-16 00:46:43,342 - INFO - Boolean Model from .bnet file is created.\n",
      "2024-11-16 00:46:43,353 - INFO - Boolean Model from .bnet file is created.\n",
      "2024-11-16 00:46:43,365 - INFO - Boolean Model from .bnet file is created.\n",
      "2024-11-16 00:46:43,376 - INFO - Boolean Model from .bnet file is created.\n",
      "2024-11-16 00:46:43,387 - INFO - Boolean Model from .bnet file is created.\n",
      "2024-11-16 00:46:43,399 - INFO - Boolean Model from .bnet file is created.\n",
      "2024-11-16 00:46:43,410 - INFO - Boolean Model from .bnet file is created.\n",
      "2024-11-16 00:46:43,422 - INFO - Boolean Model from .bnet file is created.\n",
      "2024-11-16 00:46:43,434 - INFO - Boolean Model from .bnet file is created.\n",
      "2024-11-16 00:46:43,445 - INFO - Boolean Model from .bnet file is created.\n",
      "2024-11-16 00:46:43,456 - INFO - Boolean Model from .bnet file is created.\n",
      "2024-11-16 00:46:43,468 - INFO - Boolean Model from .bnet file is created.\n",
      "2024-11-16 00:46:43,479 - INFO - Boolean Model from .bnet file is created.\n",
      "2024-11-16 00:46:43,491 - INFO - Boolean Model from .bnet file is created.\n",
      "2024-11-16 00:46:43,502 - INFO - Boolean Model from .bnet file is created.\n",
      "2024-11-16 00:46:43,513 - INFO - Boolean Model from .bnet file is created.\n",
      "2024-11-16 00:46:43,525 - INFO - Boolean Model from .bnet file is created.\n",
      "2024-11-16 00:46:43,537 - INFO - Boolean Model from .bnet file is created.\n",
      "2024-11-16 00:46:43,548 - INFO - Boolean Model from .bnet file is created.\n",
      "2024-11-16 00:46:43,559 - INFO - Boolean Model from .bnet file is created.\n",
      "2024-11-16 00:46:43,571 - INFO - Boolean Model from .bnet file is created.\n",
      "2024-11-16 00:46:43,582 - INFO - Boolean Model from .bnet file is created.\n",
      "2024-11-16 00:46:43,594 - INFO - Boolean Model from .bnet file is created.\n",
      "2024-11-16 00:46:58,931 - INFO - \n",
      "Synergy scores (bliss):\n",
      "2024-11-16 00:46:58,932 - INFO - PI-PD: -0.1580120888736708\n",
      "2024-11-16 00:46:58,933 - INFO - PI-CT: 0.002975517890772106\n",
      "2024-11-16 00:46:58,933 - INFO - PI-BI: 0.01302189111677321\n",
      "2024-11-16 00:46:58,934 - INFO - PI-PK: -0.004479748223085389\n",
      "2024-11-16 00:46:58,934 - INFO - PI-AK: 0.07575392975581308\n",
      "2024-11-16 00:46:58,935 - INFO - PI-5Z: -0.05391281836667905\n",
      "2024-11-16 00:46:58,935 - INFO - PD-CT: 0.0032831790123456495\n",
      "2024-11-16 00:46:58,935 - INFO - PD-BI: -0.012746052960793341\n",
      "2024-11-16 00:46:58,936 - INFO - PD-PK: 0.2626793194129503\n",
      "2024-11-16 00:46:58,936 - INFO - PD-AK: -0.12597022176497474\n",
      "2024-11-16 00:46:58,937 - INFO - PD-5Z: 0.0024319844535892754\n",
      "2024-11-16 00:46:58,937 - INFO - CT-BI: 0.002989969135802406\n",
      "2024-11-16 00:46:58,937 - INFO - CT-PK: 0.0022765700483091678\n",
      "2024-11-16 00:46:58,937 - INFO - CT-AK: 0.0025884773662551153\n",
      "2024-11-16 00:46:58,938 - INFO - CT-5Z: 0.0033251028806583482\n",
      "2024-11-16 00:46:58,938 - INFO - BI-PK: -0.09410015767579172\n",
      "2024-11-16 00:46:58,938 - INFO - BI-AK: 0.051596079103795156\n",
      "2024-11-16 00:46:58,938 - INFO - BI-5Z: 0.08794010059442137\n",
      "2024-11-16 00:46:58,938 - INFO - PK-AK: 0.04178279963574527\n",
      "2024-11-16 00:46:58,939 - INFO - PK-5Z: 0.26999738497323045\n",
      "2024-11-16 00:46:58,939 - INFO - AK-5Z: -0.07740359701265043\n",
      "2024-11-16 00:46:58,961 - INFO - Predicted Data with Observed Synergies for Model 1:\n",
      "2024-11-16 00:46:58,961 - INFO -    perturbation  synergy_score  observed\n",
      "0         PI-PD       0.158012         1\n",
      "1         PD-AK       0.125970         1\n",
      "2         BI-PK       0.094100         0\n",
      "3         AK-5Z       0.077404         1\n",
      "4         PI-5Z       0.053913         1\n",
      "5         PD-BI       0.012746         0\n",
      "6         PI-PK       0.004480         0\n",
      "7         CT-PK      -0.002277         0\n",
      "8         PD-5Z      -0.002432         0\n",
      "9         CT-AK      -0.002588         0\n",
      "10        PI-CT      -0.002976         0\n",
      "11        CT-BI      -0.002990         0\n",
      "12        PD-CT      -0.003283         0\n",
      "13        CT-5Z      -0.003325         0\n",
      "14        PI-BI      -0.013022         0\n",
      "15        PK-AK      -0.041783         0\n",
      "16        BI-AK      -0.051596         0\n",
      "17        PI-AK      -0.075754         0\n",
      "18        BI-5Z      -0.087940         0\n",
      "19        PD-PK      -0.262679         0\n",
      "20        PK-5Z      -0.269997         0\n"
     ]
    },
    {
     "data": {
      "image/png": "[encoded data removed]",
      "text/plain": [
       "<Figure size 1200x500 with 2 Axes>"
      ]
     },
     "metadata": {},
     "output_type": "display_data"
    },
    {
     "name": "stdout",
     "output_type": "stream",
     "text": [
      "2024-11-16 00:46:59,180 - INFO - Predictions saved to ./predictions/predictions_2024_11_16_0046\n",
      "2024-11-16 00:46:59,184 - INFO - Predict completed in 17.31 seconds.\n"
     ]
    }
   ],
   "source": [
    "execute(predict_params=predict_params)"
   ]
  },
  {
   "cell_type": "markdown",
   "id": "7ffc0a73-1b60-4e7a-8d38-94e4eb2fd329",
   "metadata": {},
   "source": [
    "Alternatively, `predict` can be run this way:"
   ]
  },
  {
   "cell_type": "code",
   "execution_count": 4,
   "id": "f966cb49-e8cb-46bf-9339-5b8d7b3f3926",
   "metadata": {},
   "outputs": [],
   "source": [
    "# from pydruglogics.execution.Executor import predict\n",
    "# predict(best_boolean_models=best_boolean_models, model_outputs=model_outputs, perturbations=perturbations,\n",
    "#             observed_synergy_scores=observed_synergy_scores, synergy_method='bliss', run_parallel= True, \n",
    "#             plot_roc_pr_curves=True, save_predictions=False, cores=4)"
   ]
  },
  {
   "cell_type": "markdown",
   "id": "235d99a9-a99a-487d-a499-d6423d4c4056",
   "metadata": {},
   "source": [
    "## Run Statistics"
   ]
  },
  {
   "cell_type": "markdown",
   "id": "d2ee2af3-b484-4f88-b022-e5d3b807b5b7",
   "metadata": {},
   "source": [
    "#### Train Boolean Models"
   ]
  },
  {
   "cell_type": "markdown",
   "id": "f12a9dc5-845f-45ef-96e4-e2f0d87c8fc6",
   "metadata": {},
   "source": [
    "Boolean Models calibrated to steady state response."
   ]
  },
  {
   "cell_type": "code",
   "execution_count": 26,
   "id": "e6824a60-4a33-400b-b282-fc7973735ea8",
   "metadata": {},
   "outputs": [
    {
     "name": "stdout",
     "output_type": "stream",
     "text": [
      "2024-11-16 00:46:59,187 - INFO - Train started...\n",
      "2024-11-16 00:47:10,563 - INFO - Training finished.\n",
      "2024-11-16 00:47:10,565 - INFO - Train completed in 11.38 seconds.\n"
     ]
    }
   ],
   "source": [
    "best_boolean_models_calibrated = train(boolean_model=boolean_model_bnet, model_outputs=model_outputs, training_data=training_data,\n",
    "                                ga_args=ga_args, ev_args=ev_args)"
   ]
  },
  {
   "cell_type": "markdown",
   "id": "93626d19-a38e-44ce-a2cf-88354d68d235",
   "metadata": {},
   "source": [
    "Boolean Models match to proliferation profile."
   ]
  },
  {
   "cell_type": "code",
   "execution_count": 27,
   "id": "7f38bfe6-fcad-4850-ad1b-b66e768e77d9",
   "metadata": {},
   "outputs": [
    {
     "name": "stdout",
     "output_type": "stream",
     "text": [
      "2024-11-16 00:47:10,569 - INFO - Train started...\n",
      "2024-11-16 00:47:10,571 - INFO - Training data initialized from list.\n",
      "2024-11-16 00:47:13,209 - INFO - Training finished.\n",
      "2024-11-16 00:47:13,210 - INFO - Train completed in 2.64 seconds.\n"
     ]
    }
   ],
   "source": [
    "best_boolean_models_random = train(boolean_model=boolean_model_bnet, model_outputs=model_outputs, ga_args=ga_args, ev_args=ev_args)"
   ]
  },
  {
   "cell_type": "markdown",
   "id": "425e5934-8b41-4d25-bc0d-c2aafb3849b4",
   "metadata": {},
   "source": [
    "### Compare Boolean Models trained by calibrated and random data"
   ]
  },
  {
   "cell_type": "markdown",
   "id": "374dd68c-de03-49c4-bb95-283205f3b8ee",
   "metadata": {},
   "source": [
    "The `compare_two_simulations` function compares the predictive performance of two sets of evolved Boolean models by plotting ROC and PR curves. \n",
    "#### Parameters:\n",
    "\n",
    "- `boolean_models1`: A list of the best Boolean models from the first run.\n",
    "\n",
    "- `boolean_models2`: A list of the best Boolean models from the second run.\n",
    "\n",
    "- `observed_synergy_scores`: A reference list of observed synergy scores used to evaluate the predictive performance of the models.\n",
    "\n",
    "- `model_outputs`: An instance of `ModelOutputs`.\n",
    "\n",
    "- `perturbations`: An instance of `Perturbation`.\n",
    "\n",
    "- `synergy_method` (optional): The method for assessing synergy. Options: `'hsa'` (Highest Single Agent) or  `'bliss'` (Bliss Independence). By default, `'bliss'`.\n",
    "\n",
    "- `label1` (optional): A custom label for the first set of evolution results shown in the plots. By default, `'Models 1'`.\n",
    "\n",
    "- `label2` (optional): A custom label for the second set of evolution results shown in the plots. By default,`'Models 2'`.\n",
    "\n",
    "- `normalized` (optional): Whether or not to normalize the synergy scores of the first set. By default, `True`.\n",
    "\n",
    "- `plot_pr_roc_curves` (optional): Whether or not to plot ROC and PR Curves. By default, `True`.\n",
    "\n",
    "- `save_result` (optional): Whether or not to save the results to file. By default, `True`."
   ]
  },
  {
   "cell_type": "code",
   "execution_count": 28,
   "id": "46ca9206-c10d-4070-9270-731604648501",
   "metadata": {},
   "outputs": [],
   "source": [
    "from pydruglogics.statistics.Statistics import compare_two_simulations"
   ]
  },
  {
   "cell_type": "code",
   "execution_count": 29,
   "id": "2ed42803-18b9-4b1d-b8ff-62be52c046b1",
   "metadata": {},
   "outputs": [
    {
     "name": "stdout",
     "output_type": "stream",
     "text": [
      "2024-11-16 00:47:27,320 - INFO - \n",
      "Synergy scores (bliss):\n",
      "2024-11-16 00:47:27,321 - INFO - PI-PD: -0.1580120888736708\n",
      "2024-11-16 00:47:27,321 - INFO - PI-CT: 0.002975517890772106\n",
      "2024-11-16 00:47:27,322 - INFO - PI-BI: 0.01302189111677321\n",
      "2024-11-16 00:47:27,322 - INFO - PI-PK: -0.004479748223085389\n",
      "2024-11-16 00:47:27,323 - INFO - PI-AK: 0.07575392975581308\n",
      "2024-11-16 00:47:27,323 - INFO - PI-5Z: -0.05391281836667905\n",
      "2024-11-16 00:47:27,324 - INFO - PD-CT: 0.0032831790123456495\n",
      "2024-11-16 00:47:27,324 - INFO - PD-BI: -0.012746052960793341\n",
      "2024-11-16 00:47:27,324 - INFO - PD-PK: 0.2626793194129503\n",
      "2024-11-16 00:47:27,325 - INFO - PD-AK: -0.12597022176497474\n",
      "2024-11-16 00:47:27,325 - INFO - PD-5Z: 0.0024319844535892754\n",
      "2024-11-16 00:47:27,326 - INFO - CT-BI: 0.002989969135802406\n",
      "2024-11-16 00:47:27,326 - INFO - CT-PK: 0.0022765700483091678\n",
      "2024-11-16 00:47:27,326 - INFO - CT-AK: 0.0025884773662551153\n",
      "2024-11-16 00:47:27,327 - INFO - CT-5Z: 0.0033251028806583482\n",
      "2024-11-16 00:47:27,327 - INFO - BI-PK: -0.09410015767579172\n",
      "2024-11-16 00:47:27,328 - INFO - BI-AK: 0.051596079103795156\n",
      "2024-11-16 00:47:27,328 - INFO - BI-5Z: 0.08794010059442137\n",
      "2024-11-16 00:47:27,329 - INFO - PK-AK: 0.04178279963574527\n",
      "2024-11-16 00:47:27,329 - INFO - PK-5Z: 0.26999738497323045\n",
      "2024-11-16 00:47:27,330 - INFO - AK-5Z: -0.07740359701265043\n",
      "2024-11-16 00:47:39,712 - INFO - \n",
      "Synergy scores (bliss):\n",
      "2024-11-16 00:47:39,713 - INFO - PI-PD: -0.14889954771987446\n",
      "2024-11-16 00:47:39,713 - INFO - PI-CT: 0.005079365079365128\n",
      "2024-11-16 00:47:39,715 - INFO - PI-BI: 0.03664497793164889\n",
      "2024-11-16 00:47:39,715 - INFO - PI-PK: 0.028181329028786672\n",
      "2024-11-16 00:47:39,716 - INFO - PI-AK: 0.1378828780189325\n",
      "2024-11-16 00:47:39,716 - INFO - PI-5Z: -0.02626252626252612\n",
      "2024-11-16 00:47:39,716 - INFO - PD-CT: 0.006608187134502952\n",
      "2024-11-16 00:47:39,717 - INFO - PD-BI: 0.015272080809245692\n",
      "2024-11-16 00:47:39,717 - INFO - PD-PK: 0.20440821256038655\n",
      "2024-11-16 00:47:39,717 - INFO - PD-AK: -0.03995504634602387\n",
      "2024-11-16 00:47:39,718 - INFO - PD-5Z: 0.010046230440967197\n",
      "2024-11-16 00:47:39,718 - INFO - CT-BI: 0.006167800453514727\n",
      "2024-11-16 00:47:39,718 - INFO - CT-PK: 0.005277777777777826\n",
      "2024-11-16 00:47:39,718 - INFO - CT-AK: 0.004799697656840518\n",
      "2024-11-16 00:47:39,719 - INFO - CT-5Z: 0.0065990990990991705\n",
      "2024-11-16 00:47:39,720 - INFO - BI-PK: -0.186130007558579\n",
      "2024-11-16 00:47:39,721 - INFO - BI-AK: 0.09254019850179496\n",
      "2024-11-16 00:47:39,721 - INFO - BI-5Z: 0.07627014769871909\n",
      "2024-11-16 00:47:39,721 - INFO - PK-AK: 0.044548374905517774\n",
      "2024-11-16 00:47:39,721 - INFO - PK-5Z: 0.19817516380016376\n",
      "2024-11-16 00:47:39,721 - INFO - AK-5Z: -0.03449689133186684\n",
      "2024-11-16 00:47:39,731 - INFO - Comparison results saved to results/comparison/comparison_2024_11_16_0047\n",
      "2024-11-16 00:47:39,741 - INFO - Predicted Data with Observed Synergies for Calibrated (Non-Normalized):\n",
      "2024-11-16 00:47:39,742 - INFO -    perturbation  synergy_score  observed\n",
      "0         PI-PD       0.158012         1\n",
      "1         PD-AK       0.125970         1\n",
      "2         BI-PK       0.094100         0\n",
      "3         AK-5Z       0.077404         1\n",
      "4         PI-5Z       0.053913         1\n",
      "5         PD-BI       0.012746         0\n",
      "6         PI-PK       0.004480         0\n",
      "7         CT-PK      -0.002277         0\n",
      "8         PD-5Z      -0.002432         0\n",
      "9         CT-AK      -0.002588         0\n",
      "10        PI-CT      -0.002976         0\n",
      "11        CT-BI      -0.002990         0\n",
      "12        PD-CT      -0.003283         0\n",
      "13        CT-5Z      -0.003325         0\n",
      "14        PI-BI      -0.013022         0\n",
      "15        PK-AK      -0.041783         0\n",
      "16        BI-AK      -0.051596         0\n",
      "17        PI-AK      -0.075754         0\n",
      "18        BI-5Z      -0.087940         0\n",
      "19        PD-PK      -0.262679         0\n",
      "20        PK-5Z      -0.269997         0\n",
      "2024-11-16 00:47:39,749 - INFO - Predicted Data with Observed Synergies for Random:\n",
      "2024-11-16 00:47:39,749 - INFO -    perturbation  synergy_score  observed\n",
      "0         BI-PK       0.186130         0\n",
      "1         PI-PD       0.148900         1\n",
      "2         PD-AK       0.039955         1\n",
      "3         AK-5Z       0.034497         1\n",
      "4         PI-5Z       0.026263         1\n",
      "5         CT-AK      -0.004800         0\n",
      "6         PI-CT      -0.005079         0\n",
      "7         CT-PK      -0.005278         0\n",
      "8         CT-BI      -0.006168         0\n",
      "9         CT-5Z      -0.006599         0\n",
      "10        PD-CT      -0.006608         0\n",
      "11        PD-5Z      -0.010046         0\n",
      "12        PD-BI      -0.015272         0\n",
      "13        PI-PK      -0.028181         0\n",
      "14        PI-BI      -0.036645         0\n",
      "15        PK-AK      -0.044548         0\n",
      "16        BI-5Z      -0.076270         0\n",
      "17        BI-AK      -0.092540         0\n",
      "18        PI-AK      -0.137883         0\n",
      "19        PK-5Z      -0.198175         0\n",
      "20        PD-PK      -0.204408         0\n"
     ]
    },
    {
     "data": {
      "image/png": "[encoded data removed]",
      "text/plain": [
       "<Figure size 1200x500 with 2 Axes>"
      ]
     },
     "metadata": {},
     "output_type": "display_data"
    }
   ],
   "source": [
    "compare_two_simulations(boolean_models1=best_boolean_models_calibrated, boolean_models2=best_boolean_models_random, observed_synergy_scores=observed_synergy_scores,\n",
    "                            model_outputs=model_outputs,perturbations=perturbations, synergy_method='bliss',label1='Calibrated (Non-Normalized)',\n",
    "                            label2='Random', normalized=False, plot=True, save_result=False)"
   ]
  },
  {
   "cell_type": "markdown",
   "id": "6b8a3ad5-030e-4300-a50f-3eb80ad60808",
   "metadata": {},
   "source": [
    "### Sampling"
   ]
  },
  {
   "cell_type": "markdown",
   "id": "3d4a4e95-08dc-479f-9660-6d05345fa6ac",
   "metadata": {},
   "source": [
    "The `sampling_with_ci` function performs sampling on a list of Boolean models, calculates confidence intervals, and plots a Precision-Recall (PR) curve to assess the predictive performance in identifying synergistic drug combinations.\n",
    "\n",
    "#### Parameters:\n",
    "\n",
    "- `boolean_models`: A list of `BooleanModel` instances used for the sampling.\n",
    "\n",
    "- `observed_synergy_scores`: A list of observed synergy scores.\n",
    "\n",
    "- `model_outputs`: An instance of `ModelOutputs`.\n",
    "\n",
    "- `perturbations`: An instance of `Perturbation`.\n",
    "\n",
    "- `synergy_method` (optional): The method for assessing synergy. Options: `'hsa'` (Highest Single Agent) or  `'bliss'` (Bliss Independence). By default, `'bliss'`.\n",
    "\n",
    "- `repeat_time` (optional): The number of times to repeat the sampling process. By defualt, `10`.\n",
    "\n",
    "- `sub_ratio` (optional): The proportion of models to sample in each iteration. By defualt, `0.8`.\n",
    "\n",
    "- `boot_n` (optional): The number of bootstrap iterations for calculating confidence intervals. By defualt, `1000`.\n",
    "\n",
    "- `confidence_level` (optional): The confidence level used for the interval calculations. By defualt, `0.9`.\n",
    "\n",
    "- `plot` (optional):  Whether to plot the PR curve. By defualt, `True`.\n",
    "\n",
    "- `plot_discrete` (optional): Whether to plot discrete points instead of continuous line on the PR curve. By defualt, `False`.\n",
    "\n",
    "- `save_result` (optional): Whether to save the results. By defualt, `True`.\n",
    "\n",
    "- `with_seeds` (optional): Whether to use a fixed seed for reproducibility. By defualt, `True`.\n",
    "\n",
    "- `seeds` (optional): The seed value to ensure reproducibility. By defualt, `42`.\n"
   ]
  },
  {
   "cell_type": "code",
   "execution_count": 30,
   "id": "440b2691-c733-4e08-bf25-b73f295ebed5",
   "metadata": {},
   "outputs": [],
   "source": [
    "from pydruglogics.statistics.Statistics import sampling_with_ci"
   ]
  },
  {
   "cell_type": "code",
   "execution_count": 32,
   "id": "32ede833-3763-4bc1-9230-92ce2ecb4cd7",
   "metadata": {},
   "outputs": [
    {
     "name": "stdout",
     "output_type": "stream",
     "text": [
      "2024-11-16 00:48:56,063 - INFO - \n",
      "Synergy scores (bliss):\n",
      "2024-11-16 00:48:56,064 - INFO - PI-PD: -0.15341618651439592\n",
      "2024-11-16 00:48:56,064 - INFO - PI-CT: 0.003758591065292194\n",
      "2024-11-16 00:48:56,065 - INFO - PI-BI: 0.013627929881051326\n",
      "2024-11-16 00:48:56,065 - INFO - PI-PK: 0.006579975007810046\n",
      "2024-11-16 00:48:56,066 - INFO - PI-AK: 0.07582429315920991\n",
      "2024-11-16 00:48:56,066 - INFO - PI-5Z: -0.05807522353772432\n",
      "2024-11-16 00:48:56,067 - INFO - PD-CT: 0.00411793372319702\n",
      "2024-11-16 00:48:56,067 - INFO - PD-BI: -0.010552393618755262\n",
      "2024-11-16 00:48:56,067 - INFO - PD-PK: 0.27972709551656927\n",
      "2024-11-16 00:48:56,067 - INFO - PD-AK: -0.12245459302646555\n",
      "2024-11-16 00:48:56,068 - INFO - PD-5Z: 0.0030788289519227963\n",
      "2024-11-16 00:48:56,068 - INFO - CT-BI: 0.003746980676328615\n",
      "2024-11-16 00:48:56,068 - INFO - CT-PK: 0.002777777777777879\n",
      "2024-11-16 00:48:56,068 - INFO - CT-AK: 0.0032810907237513787\n",
      "2024-11-16 00:48:56,068 - INFO - CT-5Z: 0.004153686396677125\n",
      "2024-11-16 00:48:56,069 - INFO - BI-PK: -0.07729468599033817\n",
      "2024-11-16 00:48:56,069 - INFO - BI-AK: 0.052657497279222976\n",
      "2024-11-16 00:48:56,069 - INFO - BI-5Z: 0.08483452977561057\n",
      "2024-11-16 00:48:56,069 - INFO - PK-AK: 0.0460131385207837\n",
      "2024-11-16 00:48:56,070 - INFO - PK-5Z: 0.2707843261915357\n",
      "2024-11-16 00:48:56,070 - INFO - AK-5Z: -0.08188362175731434\n",
      "2024-11-16 00:49:05,974 - INFO - \n",
      "Synergy scores (bliss):\n",
      "2024-11-16 00:49:05,974 - INFO - PI-PD: -0.12580797035417046\n",
      "2024-11-16 00:49:05,975 - INFO - PI-CT: 0.0037410394265233737\n",
      "2024-11-16 00:49:05,976 - INFO - PI-BI: 0.008223057070725459\n",
      "2024-11-16 00:49:05,976 - INFO - PI-PK: -0.012105626808308512\n",
      "2024-11-16 00:49:05,977 - INFO - PI-AK: 0.06976701864778456\n",
      "2024-11-16 00:49:05,977 - INFO - PI-5Z: -0.050055178518176646\n",
      "2024-11-16 00:49:05,977 - INFO - PD-CT: 0.004090160075329696\n",
      "2024-11-16 00:49:05,978 - INFO - PD-BI: -0.018070423233224386\n",
      "2024-11-16 00:49:05,978 - INFO - PD-PK: 0.24474503838910622\n",
      "2024-11-16 00:49:05,979 - INFO - PD-AK: -0.13373516944662645\n",
      "2024-11-16 00:49:05,979 - INFO - PD-5Z: 0.002947863117354621\n",
      "2024-11-16 00:49:05,979 - INFO - CT-BI: 0.00370979532163751\n",
      "2024-11-16 00:49:05,980 - INFO - CT-PK: 0.002861111111111203\n",
      "2024-11-16 00:49:05,980 - INFO - CT-AK: 0.0032385773624091785\n",
      "2024-11-16 00:49:05,981 - INFO - CT-5Z: 0.00415415415415421\n",
      "2024-11-16 00:49:05,982 - INFO - BI-PK: -0.0960485985077636\n",
      "2024-11-16 00:49:05,983 - INFO - BI-AK: 0.052515439689566734\n",
      "2024-11-16 00:49:05,983 - INFO - BI-5Z: 0.0928033296454348\n",
      "2024-11-16 00:49:05,983 - INFO - PK-AK: 0.03703716765610621\n",
      "2024-11-16 00:49:05,984 - INFO - PK-5Z: 0.2682255840746406\n",
      "2024-11-16 00:49:05,984 - INFO - AK-5Z: -0.077645545602822\n",
      "2024-11-16 00:49:16,111 - INFO - \n",
      "Synergy scores (bliss):\n",
      "2024-11-16 00:49:16,112 - INFO - PI-PD: -0.15985943513059853\n",
      "2024-11-16 00:49:16,113 - INFO - PI-CT: 0.003754340277777879\n",
      "2024-11-16 00:49:16,113 - INFO - PI-BI: 0.016174768518518623\n",
      "2024-11-16 00:49:16,114 - INFO - PI-PK: -0.011238372518860285\n",
      "2024-11-16 00:49:16,114 - INFO - PI-AK: 0.07369610691748552\n",
      "2024-11-16 00:49:16,115 - INFO - PI-5Z: -0.04902833407506313\n",
      "2024-11-16 00:49:16,115 - INFO - PD-CT: 0.004090160075329696\n",
      "2024-11-16 00:49:16,116 - INFO - PD-BI: -0.008639296161597643\n",
      "2024-11-16 00:49:16,116 - INFO - PD-PK: 0.2487205425764748\n",
      "2024-11-16 00:49:16,116 - INFO - PD-AK: -0.1133270061813203\n",
      "2024-11-16 00:49:16,117 - INFO - PD-5Z: 0.003058063607722983\n",
      "2024-11-16 00:49:16,117 - INFO - CT-BI: 0.0037219785575050013\n",
      "2024-11-16 00:49:16,119 - INFO - CT-PK: 0.0028528528528529717\n",
      "2024-11-16 00:49:16,119 - INFO - CT-AK: 0.0032385773624091785\n",
      "2024-11-16 00:49:16,120 - INFO - CT-5Z: 0.004153686396677125\n",
      "2024-11-16 00:49:16,121 - INFO - BI-PK: -0.09004298416063117\n",
      "2024-11-16 00:49:16,121 - INFO - BI-AK: 0.0564881180104988\n",
      "2024-11-16 00:49:16,122 - INFO - BI-5Z: 0.08925871272157537\n",
      "2024-11-16 00:49:16,123 - INFO - PK-AK: 0.04015000717522321\n",
      "2024-11-16 00:49:16,124 - INFO - PK-5Z: 0.2588063141022643\n",
      "2024-11-16 00:49:16,126 - INFO - AK-5Z: -0.07448259079684671\n",
      "2024-11-16 00:49:26,300 - INFO - \n",
      "Synergy scores (bliss):\n",
      "2024-11-16 00:49:26,301 - INFO - PI-PD: -0.14165910821157834\n",
      "2024-11-16 00:49:26,302 - INFO - PI-CT: 0.0024625689519306437\n",
      "2024-11-16 00:49:26,303 - INFO - PI-BI: 0.0168182752595335\n",
      "2024-11-16 00:49:26,304 - INFO - PI-PK: -0.011600341476227904\n",
      "2024-11-16 00:49:26,305 - INFO - PI-AK: 0.07759606346353509\n",
      "2024-11-16 00:49:26,306 - INFO - PI-5Z: -0.04859126816078818\n",
      "2024-11-16 00:49:26,307 - INFO - PD-CT: 0.002746390458254866\n",
      "2024-11-16 00:49:26,307 - INFO - PD-BI: -0.01656494655757723\n",
      "2024-11-16 00:49:26,308 - INFO - PD-PK: 0.2611535115252036\n",
      "2024-11-16 00:49:26,308 - INFO - PD-AK: -0.11503253485904008\n",
      "2024-11-16 00:49:26,309 - INFO - PD-5Z: 0.00296907076568087\n",
      "2024-11-16 00:49:26,309 - INFO - CT-BI: 0.0024778582930756743\n",
      "2024-11-16 00:49:26,309 - INFO - CT-PK: 0.0019032921810699932\n",
      "2024-11-16 00:49:26,310 - INFO - CT-AK: 0.002136425416241927\n",
      "2024-11-16 00:49:26,310 - INFO - CT-5Z: 0.0027694361027694736\n",
      "2024-11-16 00:49:26,310 - INFO - BI-PK: -0.09334790276819249\n",
      "2024-11-16 00:49:26,311 - INFO - BI-AK: 0.05621272781889741\n",
      "2024-11-16 00:49:26,311 - INFO - BI-5Z: 0.09113026069547803\n",
      "2024-11-16 00:49:26,311 - INFO - PK-AK: 0.04400271831464497\n",
      "2024-11-16 00:49:26,311 - INFO - PK-5Z: 0.2613168724279834\n",
      "2024-11-16 00:49:26,311 - INFO - AK-5Z: -0.07180350074845498\n",
      "2024-11-16 00:49:36,502 - INFO - \n",
      "Synergy scores (bliss):\n",
      "2024-11-16 00:49:36,503 - INFO - PI-PD: -0.1623211732990828\n",
      "2024-11-16 00:49:36,504 - INFO - PI-CT: 0.0036964699074074625\n",
      "2024-11-16 00:49:36,504 - INFO - PI-BI: 0.012153754970309683\n",
      "2024-11-16 00:49:36,505 - INFO - PI-PK: -0.007416771639025099\n",
      "2024-11-16 00:49:36,505 - INFO - PI-AK: 0.08104145524560236\n",
      "2024-11-16 00:49:36,506 - INFO - PI-5Z: -0.05303985560994906\n",
      "2024-11-16 00:49:36,507 - INFO - PD-CT: 0.004124760536398542\n",
      "2024-11-16 00:49:36,507 - INFO - PD-BI: -0.0160459506998889\n",
      "2024-11-16 00:49:36,508 - INFO - PD-PK: 0.2698309120902511\n",
      "2024-11-16 00:49:36,508 - INFO - PD-AK: -0.11020550330895174\n",
      "2024-11-16 00:49:36,509 - INFO - PD-5Z: 0.0030839331113258206\n",
      "2024-11-16 00:49:36,509 - INFO - CT-BI: 0.0037236590038315365\n",
      "2024-11-16 00:49:36,509 - INFO - CT-PK: 0.002845293209876587\n",
      "2024-11-16 00:49:36,510 - INFO - CT-AK: 0.0032260101010102016\n",
      "2024-11-16 00:49:36,510 - INFO - CT-5Z: 0.004153686396677125\n",
      "2024-11-16 00:49:36,511 - INFO - BI-PK: -0.09654084654295947\n",
      "2024-11-16 00:49:36,512 - INFO - BI-AK: 0.04813761627665436\n",
      "2024-11-16 00:49:36,512 - INFO - BI-5Z: 0.09197192680918098\n",
      "2024-11-16 00:49:36,513 - INFO - PK-AK: 0.04621633640173406\n",
      "2024-11-16 00:49:36,513 - INFO - PK-5Z: 0.2669693699563589\n",
      "2024-11-16 00:49:36,514 - INFO - AK-5Z: -0.07079952623839325\n",
      "2024-11-16 00:49:46,658 - INFO - \n",
      "Synergy scores (bliss):\n",
      "2024-11-16 00:49:46,659 - INFO - PI-PD: -0.1971570000388999\n",
      "2024-11-16 00:49:46,660 - INFO - PI-CT: 0.0037061403508772406\n",
      "2024-11-16 00:49:46,661 - INFO - PI-BI: 0.02323035850495825\n",
      "2024-11-16 00:49:46,661 - INFO - PI-PK: -0.005613283373232081\n",
      "2024-11-16 00:49:46,662 - INFO - PI-AK: 0.07687882640828847\n",
      "2024-11-16 00:49:46,664 - INFO - PI-5Z: -0.057385469077490536\n",
      "2024-11-16 00:49:46,665 - INFO - PD-CT: 0.0040845959595960935\n",
      "2024-11-16 00:49:46,666 - INFO - PD-BI: -0.01405985721203118\n",
      "2024-11-16 00:49:46,667 - INFO - PD-PK: 0.2607095732095732\n",
      "2024-11-16 00:49:46,668 - INFO - PD-AK: -0.14079580855281792\n",
      "2024-11-16 00:49:46,668 - INFO - PD-5Z: 0.0030539035211931687\n",
      "2024-11-16 00:49:46,669 - INFO - CT-BI: 0.003716787439613567\n",
      "2024-11-16 00:49:46,670 - INFO - CT-PK: 0.002768393393393409\n",
      "2024-11-16 00:49:46,671 - INFO - CT-AK: 0.003271028037383217\n",
      "2024-11-16 00:49:46,671 - INFO - CT-5Z: 0.004153686396677125\n",
      "2024-11-16 00:49:46,672 - INFO - BI-PK: -0.07306907290922626\n",
      "2024-11-16 00:49:46,673 - INFO - BI-AK: 0.052801982532444613\n",
      "2024-11-16 00:49:46,675 - INFO - BI-5Z: 0.09361596460336818\n",
      "2024-11-16 00:49:46,676 - INFO - PK-AK: 0.04286904608717346\n",
      "2024-11-16 00:49:46,677 - INFO - PK-5Z: 0.2779069847488116\n",
      "2024-11-16 00:49:46,678 - INFO - AK-5Z: -0.08401954024910974\n",
      "2024-11-16 00:49:56,899 - INFO - \n",
      "Synergy scores (bliss):\n",
      "2024-11-16 00:49:56,900 - INFO - PI-PD: -0.1639518552390905\n",
      "2024-11-16 00:49:56,901 - INFO - PI-CT: 0.0024812734082396704\n",
      "2024-11-16 00:49:56,901 - INFO - PI-BI: 0.006538427842390004\n",
      "2024-11-16 00:49:56,902 - INFO - PI-PK: -0.006772092637367888\n",
      "2024-11-16 00:49:56,902 - INFO - PI-AK: 0.07683356968837496\n",
      "2024-11-16 00:49:56,902 - INFO - PI-5Z: -0.05433984577691542\n",
      "2024-11-16 00:49:56,903 - INFO - PD-CT: 0.002727623456790118\n",
      "2024-11-16 00:49:56,903 - INFO - PD-BI: -0.011027234218023763\n",
      "2024-11-16 00:49:56,903 - INFO - PD-PK: 0.2573547305318138\n",
      "2024-11-16 00:49:56,904 - INFO - PD-AK: -0.1195346482408477\n",
      "2024-11-16 00:49:56,904 - INFO - PD-5Z: 0.0015014441046550253\n",
      "2024-11-16 00:49:56,904 - INFO - CT-BI: 0.0024731968810915994\n",
      "2024-11-16 00:49:56,904 - INFO - CT-PK: 0.0018711419753086878\n",
      "2024-11-16 00:49:56,905 - INFO - CT-AK: 0.002166317260656858\n",
      "2024-11-16 00:49:56,905 - INFO - CT-5Z: 0.002773530411145031\n",
      "2024-11-16 00:49:56,905 - INFO - BI-PK: -0.0764944297112291\n",
      "2024-11-16 00:49:56,905 - INFO - BI-AK: 0.04777667439037847\n",
      "2024-11-16 00:49:56,906 - INFO - BI-5Z: 0.09571999570792422\n",
      "2024-11-16 00:49:56,906 - INFO - PK-AK: 0.04768393730657894\n",
      "2024-11-16 00:49:56,906 - INFO - PK-5Z: 0.2649188752973156\n",
      "2024-11-16 00:49:56,906 - INFO - AK-5Z: -0.07341858772486576\n",
      "2024-11-16 00:50:07,257 - INFO - \n",
      "Synergy scores (bliss):\n",
      "2024-11-16 00:50:07,258 - INFO - PI-PD: -0.16767966709191418\n",
      "2024-11-16 00:50:07,259 - INFO - PI-CT: 0.003651433691756356\n",
      "2024-11-16 00:50:07,259 - INFO - PI-BI: 0.01702193972791688\n",
      "2024-11-16 00:50:07,260 - INFO - PI-PK: -0.00041901348352968437\n",
      "2024-11-16 00:50:07,261 - INFO - PI-AK: 0.08888794068005534\n",
      "2024-11-16 00:50:07,261 - INFO - PI-5Z: -0.05424405343760186\n",
      "2024-11-16 00:50:07,262 - INFO - PD-CT: 0.004125470809792975\n",
      "2024-11-16 00:50:07,262 - INFO - PD-BI: -0.016436930383135206\n",
      "2024-11-16 00:50:07,263 - INFO - PD-PK: 0.2738214061519145\n",
      "2024-11-16 00:50:07,263 - INFO - PD-AK: -0.1109148513977678\n",
      "2024-11-16 00:50:07,265 - INFO - PD-5Z: 0.003000342407121992\n",
      "2024-11-16 00:50:07,266 - INFO - CT-BI: 0.003737922705314145\n",
      "2024-11-16 00:50:07,266 - INFO - CT-PK: 0.0028981481481482607\n",
      "2024-11-16 00:50:07,267 - INFO - CT-AK: 0.0032150205761317663\n",
      "2024-11-16 00:50:07,267 - INFO - CT-5Z: 0.004154040404040549\n",
      "2024-11-16 00:50:07,268 - INFO - BI-PK: -0.10482680881781326\n",
      "2024-11-16 00:50:07,268 - INFO - BI-AK: 0.06087851136160327\n",
      "2024-11-16 00:50:07,269 - INFO - BI-5Z: 0.08743522178304786\n",
      "2024-11-16 00:50:07,270 - INFO - PK-AK: 0.03495698883376275\n",
      "2024-11-16 00:50:07,270 - INFO - PK-5Z: 0.25716947250280586\n",
      "2024-11-16 00:50:07,270 - INFO - AK-5Z: -0.07538919046855563\n",
      "2024-11-16 00:50:17,678 - INFO - \n",
      "Synergy scores (bliss):\n",
      "2024-11-16 00:50:17,679 - INFO - PI-PD: -0.14950090001636396\n",
      "2024-11-16 00:50:17,679 - INFO - PI-CT: 0.0037227949599084598\n",
      "2024-11-16 00:50:17,680 - INFO - PI-BI: 0.01748375944497682\n",
      "2024-11-16 00:50:17,681 - INFO - PI-PK: 0.0011451248596197061\n",
      "2024-11-16 00:50:17,681 - INFO - PI-AK: 0.07230638138374834\n",
      "2024-11-16 00:50:17,682 - INFO - PI-5Z: -0.049510921688905696\n",
      "2024-11-16 00:50:17,682 - INFO - PD-CT: 0.004117063492063533\n",
      "2024-11-16 00:50:17,682 - INFO - PD-BI: -0.01243391991979581\n",
      "2024-11-16 00:50:17,682 - INFO - PD-PK: 0.28657581453634073\n",
      "2024-11-16 00:50:17,683 - INFO - PD-AK: -0.12651480616179456\n",
      "2024-11-16 00:50:17,683 - INFO - PD-5Z: 0.00307817831182311\n",
      "2024-11-16 00:50:17,683 - INFO - CT-BI: 0.0037689933523267216\n",
      "2024-11-16 00:50:17,683 - INFO - CT-PK: 0.002823464912280804\n",
      "2024-11-16 00:50:17,683 - INFO - CT-AK: 0.003268348623853279\n",
      "2024-11-16 00:50:17,684 - INFO - CT-5Z: 0.004153686396677125\n",
      "2024-11-16 00:50:17,684 - INFO - BI-PK: -0.0904854298186647\n",
      "2024-11-16 00:50:17,684 - INFO - BI-AK: 0.04955197707491288\n",
      "2024-11-16 00:50:17,684 - INFO - BI-5Z: 0.08112557801031306\n",
      "2024-11-16 00:50:17,684 - INFO - PK-AK: 0.04491590214067276\n",
      "2024-11-16 00:50:17,685 - INFO - PK-5Z: 0.2781831265599095\n",
      "2024-11-16 00:50:17,685 - INFO - AK-5Z: -0.07709893347433006\n",
      "2024-11-16 00:50:28,171 - INFO - \n",
      "Synergy scores (bliss):\n",
      "2024-11-16 00:50:28,172 - INFO - PI-PD: -0.16564799094510463\n",
      "2024-11-16 00:50:28,172 - INFO - PI-CT: 0.0036769005847954173\n",
      "2024-11-16 00:50:28,173 - INFO - PI-BI: 0.016971777269260135\n",
      "2024-11-16 00:50:28,173 - INFO - PI-PK: -0.00915822754718787\n",
      "2024-11-16 00:50:28,174 - INFO - PI-AK: 0.08099724620192461\n",
      "2024-11-16 00:50:28,174 - INFO - PI-5Z: -0.05252062721443718\n",
      "2024-11-16 00:50:28,175 - INFO - PD-CT: 0.004093862007168547\n",
      "2024-11-16 00:50:28,175 - INFO - PD-BI: -0.008921364724309822\n",
      "2024-11-16 00:50:28,175 - INFO - PD-PK: 0.24404625461921037\n",
      "2024-11-16 00:50:28,175 - INFO - PD-AK: -0.11759971810309133\n",
      "2024-11-16 00:50:28,175 - INFO - PD-5Z: 0.003089707175221501\n",
      "2024-11-16 00:50:28,176 - INFO - CT-BI: 0.003713768115942151\n",
      "2024-11-16 00:50:28,176 - INFO - CT-PK: 0.0028935185185186008\n",
      "2024-11-16 00:50:28,176 - INFO - CT-AK: 0.0032150205761317663\n",
      "2024-11-16 00:50:28,176 - INFO - CT-5Z: 0.004153563941299843\n",
      "2024-11-16 00:50:28,176 - INFO - BI-PK: -0.10523586246092642\n",
      "2024-11-16 00:50:28,177 - INFO - BI-AK: 0.053698185521292685\n",
      "2024-11-16 00:50:28,177 - INFO - BI-5Z: 0.0910582444626743\n",
      "2024-11-16 00:50:28,177 - INFO - PK-AK: 0.03892959245157235\n",
      "2024-11-16 00:50:28,177 - INFO - PK-5Z: 0.25645729183465027\n",
      "2024-11-16 00:50:28,177 - INFO - AK-5Z: -0.07059694736442146\n",
      "2024-11-16 00:50:38,640 - INFO - \n",
      "Synergy scores (bliss):\n",
      "2024-11-16 00:50:38,641 - INFO - PI-PD: -0.17775827698114044\n",
      "2024-11-16 00:50:38,642 - INFO - PI-CT: 0.0036589008363202558\n",
      "2024-11-16 00:50:38,643 - INFO - PI-BI: 0.017524234717842813\n",
      "2024-11-16 00:50:38,643 - INFO - PI-PK: -0.012455227914387357\n",
      "2024-11-16 00:50:38,644 - INFO - PI-AK: 0.08325410691583157\n",
      "2024-11-16 00:50:38,644 - INFO - PI-5Z: -0.05443824948006548\n",
      "2024-11-16 00:50:38,645 - INFO - PD-CT: 0.004092668488160367\n",
      "2024-11-16 00:50:38,646 - INFO - PD-BI: -0.013081515531018328\n",
      "2024-11-16 00:50:38,646 - INFO - PD-PK: 0.26493037671172026\n",
      "2024-11-16 00:50:38,647 - INFO - PD-AK: -0.13447730107611655\n",
      "2024-11-16 00:50:38,647 - INFO - PD-5Z: 0.0030316062875263006\n",
      "2024-11-16 00:50:38,648 - INFO - CT-BI: 0.0036564009661836927\n",
      "2024-11-16 00:50:38,648 - INFO - CT-PK: 0.002846244131455511\n",
      "2024-11-16 00:50:38,649 - INFO - CT-AK: 0.0031905136268344236\n",
      "2024-11-16 00:50:38,649 - INFO - CT-5Z: 0.004153806584362263\n",
      "2024-11-16 00:50:38,650 - INFO - BI-PK: -0.08975384155285615\n",
      "2024-11-16 00:50:38,650 - INFO - BI-AK: 0.057609835019597044\n",
      "2024-11-16 00:50:38,651 - INFO - BI-5Z: 0.10356727500447327\n",
      "2024-11-16 00:50:38,652 - INFO - PK-AK: 0.04518948069971185\n",
      "2024-11-16 00:50:38,652 - INFO - PK-5Z: 0.2667221557376209\n",
      "2024-11-16 00:50:38,653 - INFO - AK-5Z: -0.06832446602005893\n",
      "2024-11-16 00:50:48,989 - INFO - \n",
      "Synergy scores (bliss):\n",
      "2024-11-16 00:50:48,989 - INFO - PI-PD: -0.14172475867504897\n",
      "2024-11-16 00:50:48,990 - INFO - PI-CT: 0.0024790919952210055\n",
      "2024-11-16 00:50:48,990 - INFO - PI-BI: 0.00585313468866111\n",
      "2024-11-16 00:50:48,990 - INFO - PI-PK: -0.014388449856774788\n",
      "2024-11-16 00:50:48,990 - INFO - PI-AK: 0.07452826610532681\n",
      "2024-11-16 00:50:48,991 - INFO - PI-5Z: -0.05773652532630025\n",
      "2024-11-16 00:50:48,991 - INFO - PD-CT: 0.0027452891487979025\n",
      "2024-11-16 00:50:48,991 - INFO - PD-BI: -0.016288714517870062\n",
      "2024-11-16 00:50:48,991 - INFO - PD-PK: 0.2571429999500173\n",
      "2024-11-16 00:50:48,992 - INFO - PD-AK: -0.13173128293985992\n",
      "2024-11-16 00:50:48,992 - INFO - PD-5Z: 0.0015539372540365193\n",
      "2024-11-16 00:50:48,992 - INFO - CT-BI: 0.0024844348659003312\n",
      "2024-11-16 00:50:48,992 - INFO - CT-PK: 0.0019197530864197843\n",
      "2024-11-16 00:50:48,992 - INFO - CT-AK: 0.002169067215363474\n",
      "2024-11-16 00:50:48,992 - INFO - CT-5Z: 0.002773410202655424\n",
      "2024-11-16 00:50:48,993 - INFO - BI-PK: -0.10108194009056082\n",
      "2024-11-16 00:50:48,993 - INFO - BI-AK: 0.04851133461047241\n",
      "2024-11-16 00:50:48,993 - INFO - BI-5Z: 0.08814180763391899\n",
      "2024-11-16 00:50:48,993 - INFO - PK-AK: 0.033544799558991256\n",
      "2024-11-16 00:50:48,993 - INFO - PK-5Z: 0.26510374670752024\n",
      "2024-11-16 00:50:48,994 - INFO - AK-5Z: -0.07750876406090723\n",
      "2024-11-16 00:50:59,333 - INFO - \n",
      "Synergy scores (bliss):\n",
      "2024-11-16 00:50:59,334 - INFO - PI-PD: -0.15442395583452773\n",
      "2024-11-16 00:50:59,335 - INFO - PI-CT: 0.0012395459976104473\n",
      "2024-11-16 00:50:59,335 - INFO - PI-BI: 0.014506016266632171\n",
      "2024-11-16 00:50:59,336 - INFO - PI-PK: -0.00585169158143195\n",
      "2024-11-16 00:50:59,336 - INFO - PI-AK: 0.07179140050397881\n",
      "2024-11-16 00:50:59,336 - INFO - PI-5Z: -0.05167758617509244\n",
      "2024-11-16 00:50:59,337 - INFO - PD-CT: 0.00136801760777161\n",
      "2024-11-16 00:50:59,337 - INFO - PD-BI: -0.00682032092402729\n",
      "2024-11-16 00:50:59,338 - INFO - PD-PK: 0.26185567439690793\n",
      "2024-11-16 00:50:59,338 - INFO - PD-AK: -0.12356953168888218\n",
      "2024-11-16 00:50:59,339 - INFO - PD-5Z: 0.0015060744305742668\n",
      "2024-11-16 00:50:59,339 - INFO - CT-BI: 0.0012328904991947276\n",
      "2024-11-16 00:50:59,339 - INFO - CT-PK: 0.0009548611111109828\n",
      "2024-11-16 00:50:59,340 - INFO - CT-AK: 0.0010578920041536266\n",
      "2024-11-16 00:50:59,342 - INFO - CT-5Z: 0.00138676520557246\n",
      "2024-11-16 00:50:59,342 - INFO - BI-PK: -0.10261796185240724\n",
      "2024-11-16 00:50:59,343 - INFO - BI-AK: 0.0522640851606041\n",
      "2024-11-16 00:50:59,343 - INFO - BI-5Z: 0.096856579355582\n",
      "2024-11-16 00:50:59,343 - INFO - PK-AK: 0.0470981749250573\n",
      "2024-11-16 00:50:59,344 - INFO - PK-5Z: 0.27267072009693616\n",
      "2024-11-16 00:50:59,344 - INFO - AK-5Z: -0.06954536902073993\n",
      "2024-11-16 00:51:09,823 - INFO - \n",
      "Synergy scores (bliss):\n",
      "2024-11-16 00:51:09,824 - INFO - PI-PD: -0.14907753371578125\n",
      "2024-11-16 00:51:09,825 - INFO - PI-CT: 0.0024980709876543106\n",
      "2024-11-16 00:51:09,826 - INFO - PI-BI: 0.014159985610031733\n",
      "2024-11-16 00:51:09,826 - INFO - PI-PK: -0.01053794857793755\n",
      "2024-11-16 00:51:09,827 - INFO - PI-AK: 0.07229158252072387\n",
      "2024-11-16 00:51:09,827 - INFO - PI-5Z: -0.056647897070350894\n",
      "2024-11-16 00:51:09,828 - INFO - PD-CT: 0.0027323082010581867\n",
      "2024-11-16 00:51:09,828 - INFO - PD-BI: -0.012583342106186612\n",
      "2024-11-16 00:51:09,829 - INFO - PD-PK: 0.2595851608187134\n",
      "2024-11-16 00:51:09,829 - INFO - PD-AK: -0.10732943789136451\n",
      "2024-11-16 00:51:09,829 - INFO - PD-5Z: 0.0015179490005878815\n",
      "2024-11-16 00:51:09,829 - INFO - CT-BI: 0.002560386473429932\n",
      "2024-11-16 00:51:09,830 - INFO - CT-PK: 0.0019615009746588585\n",
      "2024-11-16 00:51:09,830 - INFO - CT-AK: 0.0021661569826707527\n",
      "2024-11-16 00:51:09,830 - INFO - CT-5Z: 0.002773491083676305\n",
      "2024-11-16 00:51:09,830 - INFO - BI-PK: -0.1211152882205514\n",
      "2024-11-16 00:51:09,831 - INFO - BI-AK: 0.05165285627914795\n",
      "2024-11-16 00:51:09,831 - INFO - BI-5Z: 0.06116478797638225\n",
      "2024-11-16 00:51:09,831 - INFO - PK-AK: 0.02495737730326497\n",
      "2024-11-16 00:51:09,831 - INFO - PK-5Z: 0.2697921391821039\n",
      "2024-11-16 00:51:09,831 - INFO - AK-5Z: -0.07930037843890736\n",
      "2024-11-16 00:51:20,271 - INFO - \n",
      "Synergy scores (bliss):\n",
      "2024-11-16 00:51:20,272 - INFO - PI-PD: -0.1635486775724132\n",
      "2024-11-16 00:51:20,272 - INFO - PI-CT: 0.0037371134020619534\n",
      "2024-11-16 00:51:20,273 - INFO - PI-BI: 0.01679522137556655\n",
      "2024-11-16 00:51:20,274 - INFO - PI-PK: -0.012148580198494963\n",
      "2024-11-16 00:51:20,275 - INFO - PI-AK: 0.07131540029699768\n",
      "2024-11-16 00:51:20,275 - INFO - PI-5Z: -0.04917774403509223\n",
      "2024-11-16 00:51:20,276 - INFO - PD-CT: 0.0040874756335284035\n",
      "2024-11-16 00:51:20,276 - INFO - PD-BI: -0.012541824510124422\n",
      "2024-11-16 00:51:20,276 - INFO - PD-PK: 0.25367231141669744\n",
      "2024-11-16 00:51:20,277 - INFO - PD-AK: -0.1267592351473027\n",
      "2024-11-16 00:51:20,277 - INFO - PD-5Z: 0.0030277597285395252\n",
      "2024-11-16 00:51:20,278 - INFO - CT-BI: 0.003777173913043552\n",
      "2024-11-16 00:51:20,278 - INFO - CT-PK: 0.0029109589041096395\n",
      "2024-11-16 00:51:20,278 - INFO - CT-AK: 0.0032450674974040528\n",
      "2024-11-16 00:51:20,279 - INFO - CT-5Z: 0.004153806584362263\n",
      "2024-11-16 00:51:20,279 - INFO - BI-PK: -0.10650348341810834\n",
      "2024-11-16 00:51:20,279 - INFO - BI-AK: 0.05499247378603067\n",
      "2024-11-16 00:51:20,280 - INFO - BI-5Z: 0.07930085882984461\n",
      "2024-11-16 00:51:20,280 - INFO - PK-AK: 0.03377715187982766\n",
      "2024-11-16 00:51:20,281 - INFO - PK-5Z: 0.27836889616419214\n",
      "2024-11-16 00:51:20,281 - INFO - AK-5Z: -0.07816683164007854\n"
     ]
    },
    {
     "data": {
      "image/png": "[encoded data removed]",
      "text/plain": [
       "<Figure size 800x600 with 1 Axes>"
      ]
     },
     "metadata": {},
     "output_type": "display_data"
    }
   ],
   "source": [
    "sampling_with_ci(boolean_models=best_boolean_models_calibrated,observed_synergy_scores=observed_synergy_scores, model_outputs=model_outputs, \n",
    "                 perturbations=perturbations,synergy_method='bliss', repeat_time=15, sub_ratio=0.8, boot_n=1000, confidence_level= 0.95, \n",
    "                 plot=True, plot_discrete=False, save_result=False, with_seeds=True, seeds=42)"
   ]
  }
 ],
 "metadata": {
  "kernelspec": {
   "display_name": "Python 3 (ipykernel)",
   "language": "python",
   "name": "python3"
  },
  "language_info": {
   "codemirror_mode": {
    "name": "ipython",
    "version": 3
   },
   "file_extension": ".py",
   "mimetype": "text/x-python",
   "name": "python",
   "nbconvert_exporter": "python",
   "pygments_lexer": "ipython3",
   "version": "3.10.12"
  }
 },
 "nbformat": 4,
 "nbformat_minor": 5
}
