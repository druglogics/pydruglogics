{
 "cells": [
  {
   "cell_type": "markdown",
   "id": "fe6bffb7-a7dd-470b-91c0-0cd53abba721",
   "metadata": {},
   "source": [
    "# Tutorial for PyDruglogics\n"
   ]
  },
  {
   "cell_type": "markdown",
   "id": "6a468c93-2d56-4519-830b-87a8e561dee5",
   "metadata": {},
   "source": [
    "This tutorial demonstrates the use of PyDruglogics for optimizing of Boolean Models and predict drug synergy effects.\n",
    "The PyDruglogics pipeline implementation on based on: [Å. Flobak, J. Zobolas (2023): Fine tuning a logical model of cancer cells to predict drug synergies: combining manual curation and automated parameterization](https://www.frontiersin.org/journals/systems-biology/articles/10.3389/fsysb.2023.1252961/full).\n",
    "\n",
    "More information about the package on [GitHub](https://github.com/druglogics/pydruglogics).\n",
    "\n",
    "### Core Features\n",
    "- Construct Boolean Model from `.sif` file\n",
    "- Optimize Boolean Model\n",
    "- Generate perturbed models\n",
    "- Evaluate drug synergies\n"
   ]
  },
  {
   "cell_type": "markdown",
   "id": "87847983-f04e-4525-8060-49906ad7fdfa",
   "metadata": {},
   "source": [
    "## Initialization, loading files"
   ]
  },
  {
   "cell_type": "markdown",
   "id": "9c4cc708-e284-4aa9-8080-d3f594391f4e",
   "metadata": {},
   "source": [
    "The parameters and the initialization of the pipeline are summarized in this section. These are the neccesary components for constructing, training, and applying predictive models effectively."
   ]
  },
  {
   "cell_type": "code",
   "execution_count": 39,
   "id": "0e18a2c6-f896-4fe4-b08d-64335963a2a1",
   "metadata": {},
   "outputs": [],
   "source": [
    "from pydruglogics.model.BooleanModel import BooleanModel\n",
    "from pydruglogics.model.ModelPredictions import ModelPredictions\n",
    "from pydruglogics.model.InteractionModel import InteractionModel\n",
    "from pydruglogics.input.ModelOutputs import ModelOutputs\n",
    "from pydruglogics.input.TrainingData import TrainingData\n",
    "from pydruglogics.input.Perturbations import Perturbation"
   ]
  },
  {
   "cell_type": "markdown",
   "id": "0efb70d9-9122-4889-9796-c6a0418d593b",
   "metadata": {},
   "source": [
    "#### Model Outputs\n",
    "Defines the network nodes and their respective weights used to calculate a global output response for the Boolean Model. \\\n",
    "**Initialization:**\n",
    "1. **From a File**: Load target states from a file that specifies node-state pairs.\\\n",
    "2. **From a Dictionary**: Define directly using a dictionary where each key-value pair represents a node and its integer weight."
   ]
  },
  {
   "cell_type": "code",
   "execution_count": 17,
   "id": "8c7cf343-02b2-4ad7-80e8-14b5c995fc70",
   "metadata": {},
   "outputs": [
    {
     "name": "stdout",
     "output_type": "stream",
     "text": [
      "2024-11-14 10:31:27,083 - INFO - Model outputs are initialized from dictionary.\n"
     ]
    }
   ],
   "source": [
    "model_outputs_dict = {\n",
    "        \"RSK_f\": 1.0,\n",
    "        \"MYC\": 1.0,\n",
    "        \"TCF7_f\": 1.0,\n",
    "        \"CASP8\": -1.0,\n",
    "        \"CASP9\": -1.0,\n",
    "        \"FOXO_f\": -1.0\n",
    "    }\n",
    "model_outputs = ModelOutputs(input_dictionary=model_outputs_dict)"
   ]
  },
  {
   "cell_type": "code",
   "execution_count": 18,
   "id": "05540493-7aa3-4051-8614-3e12c7b8bc15",
   "metadata": {},
   "outputs": [
    {
     "name": "stdout",
     "output_type": "stream",
     "text": [
      "Model output: RSK_f, weight: 1.0\n",
      "Model output: MYC, weight: 1.0\n",
      "Model output: TCF7_f, weight: 1.0\n",
      "Model output: CASP8, weight: -1.0\n",
      "Model output: CASP9, weight: -1.0\n",
      "Model output: FOXO_f, weight: -1.0\n"
     ]
    }
   ],
   "source": [
    "model_outputs.print()"
   ]
  },
  {
   "cell_type": "markdown",
   "id": "d88d10e7-9190-4206-96cc-0cb127629a8d",
   "metadata": {},
   "source": [
    "#### Training Data\n",
    "Inclues condition-response pairs (observations) and a weight number used to calculate the weighted average fitness of the Boolean Models.\\\n",
    "**Initialization:**"
   ]
  },
  {
   "cell_type": "markdown",
   "id": "1c2cc120-2d32-4073-87bb-cdfcc427d334",
   "metadata": {},
   "source": [
    "1. **From a File**: Load target states from a structured file."
   ]
  },
  {
   "cell_type": "code",
   "execution_count": 19,
   "id": "2a78dc9a-8d0e-4dc6-8258-d4c7d8255c6d",
   "metadata": {},
   "outputs": [
    {
     "name": "stdout",
     "output_type": "stream",
     "text": [
      "2024-11-14 10:31:28,925 - INFO - Training data loaded from file: ./ags_cascade_1.0/training.\n"
     ]
    }
   ],
   "source": [
    "training_data_file = './ags_cascade_1.0/training'\n",
    "training_data = TrainingData(input_file=training_data_file)"
   ]
  },
  {
   "cell_type": "markdown",
   "id": "841ee427-d93a-4d1a-8998-af2bedc8e5ac",
   "metadata": {},
   "source": [
    "2. **From a Dictionary**: Define directly using a dictionary."
   ]
  },
  {
   "cell_type": "code",
   "execution_count": 20,
   "id": "6bd8c296-a08f-42b8-8b58-d75fa6d85179",
   "metadata": {},
   "outputs": [],
   "source": [
    " observations = [([\"CASP3:0\", \"CASP8:0\",\"CASP9:0\",\"FOXO_f:0\",\"RSK_f:1\",\"CCND1:1\",\n",
    "                      \"MYC:1\",\"RAC_f:1\",\"JNK_f:0\",\"MAPK14:0\",\"AKT_f:1\",\"MMP_f:1\",\n",
    "                      \"PTEN:0\",\"ERK_f:1\",\"KRAS:1\",\"PIK3CA:1\",\"S6K_f:1\",\"GSK3_f:0\",\n",
    "                      \"TP53:0\",\"BAX:0\",\"BCL2:1\",\"CTNNB1:1\",\"TCF7_f:1\",\"NFKB_f:1\"], 1.0)]"
   ]
  },
  {
   "cell_type": "code",
   "execution_count": 21,
   "id": "6ccf4586-5946-4a1a-9d3f-7978b13b1fdb",
   "metadata": {},
   "outputs": [
    {
     "name": "stdout",
     "output_type": "stream",
     "text": [
      "2024-11-14 10:31:29,984 - INFO - Training data initialized from list.\n"
     ]
    }
   ],
   "source": [
    "training_data = TrainingData(observations=observations)"
   ]
  },
  {
   "cell_type": "code",
   "execution_count": 22,
   "id": "763da94b-803d-4967-a55f-bfa886d56a3e",
   "metadata": {},
   "outputs": [
    {
     "name": "stdout",
     "output_type": "stream",
     "text": [
      "Observation:\n",
      "Condition: -\n",
      "Response: CASP3:0, CASP8:0, CASP9:0, FOXO_f:0, RSK_f:1, CCND1:1, MYC:1, RAC_f:1, JNK_f:0, MAPK14:0, AKT_f:1, MMP_f:1, PTEN:0, ERK_f:1, KRAS:1, PIK3CA:1, S6K_f:1, GSK3_f:0, TP53:0, BAX:0, BCL2:1, CTNNB1:1, TCF7_f:1, NFKB_f:1\n",
      "Weight: 1.0\n",
      "\n"
     ]
    }
   ],
   "source": [
    "training_data.print()"
   ]
  },
  {
   "cell_type": "markdown",
   "id": "c1c0a36c-e7c2-45de-9281-95fe636655e4",
   "metadata": {},
   "source": [
    "#### Perturbations\n",
    "Defines the drugs and perturbations applied to the Boolean Models, affecting the nodes in the network.\n",
    "\n",
    "Initialization **From Dictionary**:\n",
    "1. **Define** a `drug_data` **and** `perturbation_data`: Provide a list of drugs with their name, targets, and effect (Options:  `inhibits` (default) or `activates`). Specify a list of perturbations, where each entry is a drug combination.\n",
    "2. **Define only** `drug_data`: If no `perturbation_data` is given, perturbations will be generated automatically by creating all possible single-drug and two-drug combinations from the drug panel."
   ]
  },
  {
   "cell_type": "code",
   "execution_count": 23,
   "id": "e7c09258-4d82-45a6-b01f-c8d8f61a5cbd",
   "metadata": {},
   "outputs": [],
   "source": [
    " drug_data = [\n",
    "        ['PI', 'PIK3CA', 'inhibits'],\n",
    "        ['PD', 'MEK_f'],\n",
    "        ['CT','GSK3_f'],\n",
    "        ['BI', 'MAPK14'],\n",
    "        ['PK', 'CTNNB1'],\n",
    "        ['AK', 'AKT_f'],\n",
    "        ['5Z', 'MAP3K7']\n",
    "    ]"
   ]
  },
  {
   "cell_type": "markdown",
   "id": "839c4ddc-9c92-4bbd-9993-0174ade55c53",
   "metadata": {},
   "source": [
    "**Note**: The `perturbation_data` is **optional**. If only the `drug_data` is given, all perturbations are calculated."
   ]
  },
  {
   "cell_type": "code",
   "execution_count": 24,
   "id": "1c4e617c-3585-44d8-b607-369621b26b11",
   "metadata": {},
   "outputs": [],
   "source": [
    "perturbation_data = [\n",
    "        ['PI'],\n",
    "        ['PD'],\n",
    "        ['CT'],\n",
    "        ['BI'],\n",
    "        ['PK'],\n",
    "        ['AK'],\n",
    "        ['5Z'],\n",
    "        ['PI', 'PD'],\n",
    "        ['PI', 'CT'],\n",
    "        ['PI', 'BI'],\n",
    "        ['PI', 'PK'],\n",
    "        ['PI', 'AK'],\n",
    "        ['PI', '5Z'],\n",
    "        ['PD', 'CT'],\n",
    "        ['PD', 'BI'],\n",
    "        ['PD', 'PK'],\n",
    "        ['PD', 'AK'],\n",
    "        ['PD', '5Z'],\n",
    "        ['CT', 'BI'],\n",
    "        ['CT', 'PK'],\n",
    "        ['CT', 'AK'],\n",
    "        ['CT', '5Z'],\n",
    "        ['BI', 'PK'],\n",
    "        ['BI', 'AK'],\n",
    "        ['BI', '5Z'],\n",
    "        ['PK', 'AK'],\n",
    "        ['PK', '5Z'],\n",
    "        ['AK', '5Z']]"
   ]
  },
  {
   "cell_type": "code",
   "execution_count": 25,
   "id": "1a613933-db52-44f6-a2e3-7aad1894b635",
   "metadata": {},
   "outputs": [
    {
     "name": "stdout",
     "output_type": "stream",
     "text": [
      "2024-11-14 10:31:32,195 - INFO - Drug panel data initialized from list.\n",
      "2024-11-14 10:31:32,197 - INFO - Drug perturbations initialized.\n"
     ]
    }
   ],
   "source": [
    "perturbations = Perturbation(drug_data=drug_data, perturbation_data=perturbation_data)"
   ]
  },
  {
   "cell_type": "code",
   "execution_count": 26,
   "id": "fa1061c4-3cec-4298-891a-8a26cf9c632c",
   "metadata": {},
   "outputs": [
    {
     "name": "stdout",
     "output_type": "stream",
     "text": [
      "[PI (targets: PIK3CA)]\n",
      "[PD (targets: MEK_f)]\n",
      "[CT (targets: GSK3_f)]\n",
      "[BI (targets: MAPK14)]\n",
      "[PK (targets: CTNNB1)]\n",
      "[AK (targets: AKT_f)]\n",
      "[5Z (targets: MAP3K7)]\n",
      "[PI (targets: PIK3CA), PD (targets: MEK_f)]\n",
      "[PI (targets: PIK3CA), CT (targets: GSK3_f)]\n",
      "[PI (targets: PIK3CA), BI (targets: MAPK14)]\n",
      "[PI (targets: PIK3CA), PK (targets: CTNNB1)]\n",
      "[PI (targets: PIK3CA), AK (targets: AKT_f)]\n",
      "[PI (targets: PIK3CA), 5Z (targets: MAP3K7)]\n",
      "[PD (targets: MEK_f), CT (targets: GSK3_f)]\n",
      "[PD (targets: MEK_f), BI (targets: MAPK14)]\n",
      "[PD (targets: MEK_f), PK (targets: CTNNB1)]\n",
      "[PD (targets: MEK_f), AK (targets: AKT_f)]\n",
      "[PD (targets: MEK_f), 5Z (targets: MAP3K7)]\n",
      "[CT (targets: GSK3_f), BI (targets: MAPK14)]\n",
      "[CT (targets: GSK3_f), PK (targets: CTNNB1)]\n",
      "[CT (targets: GSK3_f), AK (targets: AKT_f)]\n",
      "[CT (targets: GSK3_f), 5Z (targets: MAP3K7)]\n",
      "[BI (targets: MAPK14), PK (targets: CTNNB1)]\n",
      "[BI (targets: MAPK14), AK (targets: AKT_f)]\n",
      "[BI (targets: MAPK14), 5Z (targets: MAP3K7)]\n",
      "[PK (targets: CTNNB1), AK (targets: AKT_f)]\n",
      "[PK (targets: CTNNB1), 5Z (targets: MAP3K7)]\n",
      "[AK (targets: AKT_f), 5Z (targets: MAP3K7)]\n"
     ]
    }
   ],
   "source": [
    "perturbations.print()"
   ]
  },
  {
   "cell_type": "markdown",
   "id": "b64a7782-fadc-40dd-8e07-ca472453ba1b",
   "metadata": {},
   "source": [
    "### Initialize Boolean Model\n",
    "A `BooleanModel` defines the network and logical rules for node interactions, used for generating predictions and simulations.\\\n",
    "There are **two ways** for initialization:"
   ]
  },
  {
   "cell_type": "markdown",
   "id": "d5413a26-8fd6-4d64-a21b-1541e3ff7247",
   "metadata": {},
   "source": [
    "#### Initialize Boolean Model from `.sif` file"
   ]
  },
  {
   "cell_type": "markdown",
   "id": "fbd69b30-b1d3-4fbe-a5a4-476db123f392",
   "metadata": {},
   "source": [
    "##### Creating an `InteractionModel`, that can be initialized:\n",
    "  - `interaction_file` (required): The path to the `.sif` file.\n",
    "  - `model_name`: name of the model, by default the `.sif` file name will be set.\n",
    "  - `remove_self_regulated_interactions`: Remove self regulated interactions. The default is `False`.\n",
    "  - `remove_inputs`: Trim inputs from the model. The deafult is `False`.\n",
    "  - `remove_outputs`: Trim ouputs from the model. The default is `False`.\n",
    "##### Creating a `BooleanModel`, that can be initialized:\n",
    "  - `model` (required): Interaction Model\n",
    "  - `model_name`: The name of the model, by default the `.sif` file name will be set\n",
    "  - `mutation_type`: There are 3 options: `topology`, `mixed`, `balanced`. The default is `balanced`.\n",
    "  - `attractor_tool`: There are 2 options: `mpbn` or `pyboolnet` The default is `mpbn`. More infotmation [here](https://mpbn.readthedocs.io/) about MPBN (Most Permissive Boolean Networks) and more information [here](https://pyboolnet.readthedocs.io/en/master/) about PyBoolNet.\n",
    "  - `attractor_type`:There are 2 options: `stable_states` or `trapspaces`. The default is `stable_states`.\n"
   ]
  },
  {
   "cell_type": "code",
   "execution_count": 27,
   "id": "2276328d-465e-40d3-a006-50a04a24a8dc",
   "metadata": {},
   "outputs": [
    {
     "name": "stdout",
     "output_type": "stream",
     "text": [
      "2024-11-14 10:31:33,798 - INFO - Interactions loaded successfully\n",
      "Target: Antisurvival, activating regulators: CASP3, FOXO_f\n",
      "Target: CASP3, activating regulators: CASP9, CASP8\n",
      "Target: FOXO_f, inhibitory regulators: NLK, AKT_f\n",
      "Target: Prosurvival, activating regulators: MYC, CCND1\n",
      "Target: CCND1, activating regulators: RSK_f, TCF7_f\n",
      "Target: MYC, activating regulators: TCF7_f\n",
      "Target: RAC_f, activating regulators: DVL_f, mTORC2_c\n",
      "Target: mTORC2_c, activating regulators: TSC_f, inhibitory regulators: S6K_f\n",
      "Target: DVL_f, activating regulators: FZD_f\n",
      "Target: MAP3K4, activating regulators: RAC_f\n",
      "Target: MAP3K11, activating regulators: RAC_f\n",
      "Target: MAP2K4, activating regulators: MAP3K7, MAP3K4, GRAP2, MAP3K11\n",
      "Target: MAP3K7, activating regulators: TAB_f\n",
      "Target: GRAP2, inhibitory regulators: MAPK14\n",
      "Target: MAP2K7, activating regulators: GRAP2, MAP3K7\n",
      "Target: JNK_f, activating regulators: MAP2K7, MAP2K4, inhibitory regulators: DUSP1\n",
      "Target: DUSP1, activating regulators: MAPK14, MSK_f\n",
      "Target: MAPK14, activating regulators: MAP2K4, MAP2K3, inhibitory regulators: DUSP1\n",
      "Target: MAP2K3, activating regulators: MAP3K5, MAP3K7\n",
      "Target: MAP3K5, inhibitory regulators: AKT_f\n",
      "Target: AKT_f, activating regulators: PDPK1, mTORC2_c\n",
      "Target: TAB_f, inhibitory regulators: MAPK14\n",
      "Target: MSK_f, activating regulators: MAPK14, ERK_f\n",
      "Target: RTPK_f, activating regulators: MMP_f, RTPK_g, inhibitory regulators: MAPK14, MEK_f\n",
      "Target: RTPK_g, activating regulators: FOXO_f\n",
      "Target: MEK_f, activating regulators: MAP3K8, RAF_f, inhibitory regulators: ERK_f\n",
      "Target: SHC1, activating regulators: RTPK_f, inhibitory regulators: PTEN\n",
      "Target: PTEN, activating regulators: PTEN_g, inhibitory regulators: GSK3_f\n",
      "Target: GRB2, activating regulators: SHC1\n",
      "Target: SOS1, activating regulators: GRB2, inhibitory regulators: ERK_f\n",
      "Target: ERK_f, activating regulators: MEK_f, inhibitory regulators: DUSP6\n",
      "Target: KRAS, activating regulators: SOS1, PTPN11\n",
      "Target: PTPN11, activating regulators: GAB_f\n",
      "Target: RAF_f, activating regulators: KRAS, inhibitory regulators: RHEB, ERK_f, AKT_f\n",
      "Target: RHEB, inhibitory regulators: TSC_f\n",
      "Target: MAP3K8, activating regulators: IKBKB\n",
      "Target: DUSP6, activating regulators: ERK_f, mTORC1_c\n",
      "Target: mTORC1_c, activating regulators: RSK_f, RHEB, inhibitory regulators: AKT1S1\n",
      "Target: GAB_f, activating regulators: GRB2, inhibitory regulators: ERK_f\n",
      "Target: RSK_f, activating regulators: PDPK1, ERK_f\n",
      "Target: PDPK1, activating regulators: PIK3CA, inhibitory regulators: PTEN\n",
      "Target: PIK3CA, activating regulators: GAB_f, IRS1, KRAS\n",
      "Target: IRS1, inhibitory regulators: ERK_f, S6K_f, IKBKB\n",
      "Target: S6K_f, activating regulators: PDPK1, mTORC1_c\n",
      "Target: IKBKB, activating regulators: MAP3K7, inhibitory regulators: TP53\n",
      "Target: PTEN_g, activating regulators: EGR1\n",
      "Target: GSK3_f, inhibitory regulators: MAPK14, AKT_f, ERK_f, S6K_f, LRP_f, RSK_f, DVL_f\n",
      "Target: TSC_f, activating regulators: GSK3_f, inhibitory regulators: RSK_f, ERK_f, IKBKB, AKT_f\n",
      "Target: TP53, activating regulators: MAPK14, inhibitory regulators: MDM2\n",
      "Target: AKT1S1, inhibitory regulators: AKT_f\n",
      "Target: MDM2, activating regulators: MDM2_g, AKT_f, inhibitory regulators: S6K_f\n",
      "Target: MDM2_g, activating regulators: TP53, NFKB_f\n",
      "Target: BAX, activating regulators: TP53\n",
      "Target: CYCS, activating regulators: BAX, inhibitory regulators: BCL2\n",
      "Target: BCL2, inhibitory regulators: BAD\n",
      "Target: BAD, inhibitory regulators: RSK_f, AKT_f\n",
      "Target: NLK, activating regulators: MAP3K7\n",
      "Target: CASP9, activating regulators: CYCS\n",
      "Target: CASP8, inhibitory regulators: CFLAR\n",
      "Target: CFLAR, activating regulators: AKT_f, inhibitory regulators: ITCH\n",
      "Target: ITCH, activating regulators: JNK_f\n",
      "Target: FZD_f, inhibitory regulators: SFRP1\n",
      "Target: SFRP1, activating regulators: SFRP1_g\n",
      "Target: LRP_f, activating regulators: MAPK14, JNK_f, ERK_f, FZD_f, inhibitory regulators: DKK_f\n",
      "Target: DKK_f, activating regulators: DKK_g\n",
      "Target: AXIN1, inhibitory regulators: LRP_f\n",
      "Target: CK1_f, inhibitory regulators: LRP_f\n",
      "Target: BTRC, activating regulators: GSK3_f, AXIN1, CK1_f\n",
      "Target: CTNNB1, activating regulators: CHUK, inhibitory regulators: BTRC\n",
      "Target: CHUK, activating regulators: AKT_f\n",
      "Target: TCF7_f, activating regulators: CTNNB1, inhibitory regulators: NLK\n",
      "Target: EGR1, inhibitory regulators: TCF7_f\n",
      "Target: DKK_g, activating regulators: TCF7_f, inhibitory regulators: MYC\n",
      "Target: SFRP1_g, inhibitory regulators: MYC\n",
      "Target: NFKB_f, activating regulators: CHUK, MSK_f, IKBKB\n",
      "Target: LEF, activating regulators: CTNNB1\n",
      "Target: MMP_f, activating regulators: LEF\n",
      "\n"
     ]
    }
   ],
   "source": [
    "network_sif = './ags_cascade_1.0/network.sif'\n",
    "model = InteractionModel(interactions_file=network_sif)\n",
    "model.print()"
   ]
  },
  {
   "cell_type": "code",
   "execution_count": 28,
   "id": "91f47c2e-cca7-4986-afaf-175c986e7824",
   "metadata": {},
   "outputs": [
    {
     "name": "stdout",
     "output_type": "stream",
     "text": [
      "2024-11-14 10:31:34,136 - INFO - Boolean Model from Interaction Model is created.\n"
     ]
    }
   ],
   "source": [
    "boolean_model_sif = BooleanModel(model=model, model_name='test1',\n",
    "                                     mutation_type='balanced', attractor_tool='mpbn', attractor_type='trapspaces')"
   ]
  },
  {
   "cell_type": "code",
   "execution_count": 29,
   "id": "09c328ac-495d-445b-9edc-190e13cfe112",
   "metadata": {},
   "outputs": [
    {
     "name": "stdout",
     "output_type": "stream",
     "text": [
      "Antisurvival *= (CASP3 or FOXO_f)\n",
      "CASP3 *= (CASP9 or CASP8)\n",
      "FOXO_f *= not (NLK or AKT_f)\n",
      "Prosurvival *= (MYC or CCND1)\n",
      "CCND1 *= (RSK_f or TCF7_f)\n",
      "MYC *= (TCF7_f)\n",
      "RAC_f *= (DVL_f or mTORC2_c)\n",
      "mTORC2_c *= (TSC_f) and not (S6K_f)\n",
      "DVL_f *= (FZD_f)\n",
      "MAP3K4 *= (RAC_f)\n",
      "MAP3K11 *= (RAC_f)\n",
      "MAP2K4 *= (MAP3K7 or MAP3K4 or GRAP2 or MAP3K11)\n",
      "MAP3K7 *= (TAB_f)\n",
      "GRAP2 *= not (MAPK14)\n",
      "MAP2K7 *= (GRAP2 or MAP3K7)\n",
      "JNK_f *= (MAP2K7 or MAP2K4) and not (DUSP1)\n",
      "DUSP1 *= (MAPK14 or MSK_f)\n",
      "MAPK14 *= (MAP2K4 or MAP2K3) and not (DUSP1)\n",
      "MAP2K3 *= (MAP3K5 or MAP3K7)\n",
      "MAP3K5 *= not (AKT_f)\n",
      "AKT_f *= (PDPK1 or mTORC2_c)\n",
      "TAB_f *= not (MAPK14)\n",
      "MSK_f *= (MAPK14 or ERK_f)\n",
      "RTPK_f *= (MMP_f or RTPK_g) and not (MAPK14 or MEK_f)\n",
      "RTPK_g *= (FOXO_f)\n",
      "MEK_f *= (MAP3K8 or RAF_f) and not (ERK_f)\n",
      "SHC1 *= (RTPK_f) and not (PTEN)\n",
      "PTEN *= (PTEN_g) and not (GSK3_f)\n",
      "GRB2 *= (SHC1)\n",
      "SOS1 *= (GRB2) and not (ERK_f)\n",
      "ERK_f *= (MEK_f) and not (DUSP6)\n",
      "KRAS *= (SOS1 or PTPN11)\n",
      "PTPN11 *= (GAB_f)\n",
      "RAF_f *= (KRAS) and not (RHEB or ERK_f or AKT_f)\n",
      "RHEB *= not (TSC_f)\n",
      "MAP3K8 *= (IKBKB)\n",
      "DUSP6 *= (ERK_f or mTORC1_c)\n",
      "mTORC1_c *= (RSK_f or RHEB) and not (AKT1S1)\n",
      "GAB_f *= (GRB2) and not (ERK_f)\n",
      "RSK_f *= (PDPK1 or ERK_f)\n",
      "PDPK1 *= (PIK3CA) and not (PTEN)\n",
      "PIK3CA *= (GAB_f or IRS1 or KRAS)\n",
      "IRS1 *= not (ERK_f or S6K_f or IKBKB)\n",
      "S6K_f *= (PDPK1 or mTORC1_c)\n",
      "IKBKB *= (MAP3K7) and not (TP53)\n",
      "PTEN_g *= (EGR1)\n",
      "GSK3_f *= not (MAPK14 or AKT_f or ERK_f or S6K_f or LRP_f or RSK_f or DVL_f)\n",
      "TSC_f *= (GSK3_f) and not (RSK_f or ERK_f or IKBKB or AKT_f)\n",
      "TP53 *= (MAPK14) and not (MDM2)\n",
      "AKT1S1 *= not (AKT_f)\n",
      "MDM2 *= (MDM2_g or AKT_f) and not (S6K_f)\n",
      "MDM2_g *= (TP53 or NFKB_f)\n",
      "BAX *= (TP53)\n",
      "CYCS *= (BAX) and not (BCL2)\n",
      "BCL2 *= not (BAD)\n",
      "BAD *= not (RSK_f or AKT_f)\n",
      "NLK *= (MAP3K7)\n",
      "CASP9 *= (CYCS)\n",
      "CASP8 *= not (CFLAR)\n",
      "CFLAR *= (AKT_f) and not (ITCH)\n",
      "ITCH *= (JNK_f)\n",
      "FZD_f *= not (SFRP1)\n",
      "SFRP1 *= (SFRP1_g)\n",
      "LRP_f *= (MAPK14 or JNK_f or ERK_f or FZD_f) and not (DKK_f)\n",
      "DKK_f *= (DKK_g)\n",
      "AXIN1 *= not (LRP_f)\n",
      "CK1_f *= not (LRP_f)\n",
      "BTRC *= (GSK3_f or AXIN1 or CK1_f)\n",
      "CTNNB1 *= (CHUK) and not (BTRC)\n",
      "CHUK *= (AKT_f)\n",
      "TCF7_f *= (CTNNB1) and not (NLK)\n",
      "EGR1 *= not (TCF7_f)\n",
      "DKK_g *= (TCF7_f) and not (MYC)\n",
      "SFRP1_g *= not (MYC)\n",
      "NFKB_f *= (CHUK or MSK_f or IKBKB)\n",
      "LEF *= (CTNNB1)\n",
      "MMP_f *= (LEF)\n"
     ]
    }
   ],
   "source": [
    "boolean_model_sif.print()"
   ]
  },
  {
   "cell_type": "markdown",
   "id": "4998672f-eeac-46fc-9ed1-483145c30725",
   "metadata": {},
   "source": [
    "#### Initialize Boolean Model from `.bnet` file"
   ]
  },
  {
   "cell_type": "markdown",
   "id": "8a6df39c-2506-4f9e-ae62-ad8042aa4c7a",
   "metadata": {},
   "source": [
    "See more about the BoolNet format: [CoLoMoTo formats](http://colomoto.org/biolqm/doc/format-bnet.html) and [PyBoolNet Docs](https://pyboolnet.readthedocs.io/en/master/quickstart.html)\n",
    "\n",
    "**Creating a `BooleanModel`, that can be initialized:**\n",
    "  - `file` (required): The path to the `.bnet` file.\n",
    "  - `model_name`: The name of the model.\n",
    "  - `mutation_type`: There are 3 options: `topology`, `mixed`, `balanced`. The default is balanced\n",
    "  - `attractor_tool`: There are 2 options: `mpbn` or `pyboolnet` The default is `mpbn`\n",
    "  - `attractor_type`:There are 2 options: `stable_states` or `trapspaces`. The default is `stable_states`."
   ]
  },
  {
   "cell_type": "code",
   "execution_count": 31,
   "id": "2755cb78-3ded-4c7c-991a-1fefbc29d7de",
   "metadata": {},
   "outputs": [
    {
     "name": "stdout",
     "output_type": "stream",
     "text": [
      "2024-11-14 10:31:41,464 - INFO - Boolean Model from .bnet file is created.\n"
     ]
    }
   ],
   "source": [
    "equations_bnet = './ags_cascade_1.0/network.bnet'\n",
    "boolean_model_bnet = BooleanModel(file=equations_bnet, model_name='test2',\n",
    "                                     mutation_type='balanced', attractor_tool='mpbn', attractor_type='stable_states')"
   ]
  },
  {
   "cell_type": "markdown",
   "id": "bb9c8cc4-92a4-46eb-80c7-e6c2618bbc03",
   "metadata": {},
   "source": [
    "## Run Train and Predict with `executor`"
   ]
  },
  {
   "cell_type": "markdown",
   "id": "58d3a396-9a5a-4d89-8fa0-75cd82ca7e28",
   "metadata": {},
   "source": [
    "**Required Parameters:**\n",
    "- `BooleanModel`,\n",
    "- `ModelOutputs`,\n",
    "- `Perturbations`\n",
    "- Genetic Algorithm Arguments (`ga_args`)\n",
    "- Evolution Arguments (`ev_args`)\n",
    "- Observed Synergy Scores (`observed_synergy_scores`)\n",
    "\n",
    "**Optional Parameters:**\n",
    "- `Training Data`"
   ]
  },
  {
   "cell_type": "markdown",
   "id": "aedecfb1-1e31-474f-8ed5-16e4d69399ca",
   "metadata": {},
   "source": [
    "### Initialize Train and Predict\n",
    "\n",
    "To run training and prediction, have to set up `train_params` and `predict_params`, which define how the executor handles model training and simulations. Below, you can see how to initialize these parameters.\n",
    "\n"
   ]
  },
  {
   "cell_type": "markdown",
   "id": "1eac0dd9-e91d-401d-a01c-ece5eb760c51",
   "metadata": {},
   "source": [
    "#### 1. `train_params`\n",
    "This dictionary holds the configuration and input data necessary for training Boolean Models.\\\n",
    "Below is a detailed overview of its parameters:\n",
    "\n",
    "- `boolean_model`: The initial `BooleanModel` instance that serves as the starting point for training.\n",
    "\n",
    "\n",
    "- `model_outputs`: An instance of `ModelOutputs`.\n",
    "\n",
    "- `training_data` (optional): An instance of `TrainingData`.\n",
    "\n",
    "- `ga_args`: A dictionary of arguments and configurations for the genetic algorithm.\n",
    "\n",
    "- `ev_args`: A dictionary of arguments for the evolutionary strategy settings. It runs multiple times the genetic algorithm.\n",
    "\n",
    "- `save_best_models`: Whether to save the models with the best fitness score to disk. By defult, `False`\n",
    "  \n",
    "\n",
    "- `save_path` (optional): The path where the best models will be saved if `save_best_models` is `True`.(e.g., `'./models'`)."
   ]
  },
  {
   "cell_type": "markdown",
   "id": "cd032748-6cc1-4eac-98b0-6d2737b7852c",
   "metadata": {},
   "source": [
    "##### Arguments for the Genetic Algorithm (`ga_args`)\n",
    "The Evolution pipeline uses the `PyGAD` Genetic Algoritm . For more information about the `PyGAD.GA` initialization click [here](https://pygad.readthedocs.io/en/latest/pygad.html#init) ."
   ]
  },
  {
   "cell_type": "code",
   "execution_count": 32,
   "id": "ed2aa5e6-cba6-4858-a73b-12d9c084d01a",
   "metadata": {},
   "outputs": [],
   "source": [
    "ga_args = {\n",
    "        'num_generations': 20,\n",
    "        'num_parents_mating': 3,\n",
    "        'mutation_num_genes': 1,\n",
    "        'fitness_batch_size': 20,\n",
    "        'crossover_type': 'single_point',\n",
    "        'mutation_type': 'random',\n",
    "        'keep_elitism': 6,\n",
    "        # 'stop_criteria': 'reach_95'\n",
    "}"
   ]
  },
  {
   "cell_type": "markdown",
   "id": "85edfc01-f9c2-412c-9137-a97bc4320525",
   "metadata": {},
   "source": [
    "##### Arguments for the Evolution (`ev_args`)\n",
    "- `num_best_solutions`: Number of the best solutions per Evolution run. \n",
    "- `num_of_runs`: Number of running the Evolution\n",
    "- `num_of_cores`: Maximum number of cores for calculations\n",
    "- `num_of_init_mutation`: Number of mutated genes in the initial population."
   ]
  },
  {
   "cell_type": "code",
   "execution_count": 33,
   "id": "d8ce1cde-5db0-43bf-b684-ca82ed2aeadc",
   "metadata": {},
   "outputs": [],
   "source": [
    "ev_args = {\n",
    "        'num_best_solutions': 3,\n",
    "        'num_of_runs': 50,\n",
    "        'num_of_cores': 4,\n",
    "        'num_of_init_mutation': 20\n",
    "}"
   ]
  },
  {
   "cell_type": "markdown",
   "id": "2344c717-bcec-48a7-bbef-8cccf2ce9219",
   "metadata": {},
   "source": [
    "##### Init `train_params`"
   ]
  },
  {
   "cell_type": "code",
   "execution_count": 34,
   "id": "ddd4d0ad-46d3-499c-8802-376b502646bc",
   "metadata": {},
   "outputs": [],
   "source": [
    "train_params = {\n",
    "        'boolean_model': boolean_model_bnet,\n",
    "        'model_outputs': model_outputs,\n",
    "        'training_data': training_data,\n",
    "        'ga_args': ga_args,\n",
    "        'ev_args': ev_args,\n",
    "        'save_best_models': False,\n",
    "        # 'save_path': './models'\n",
    "}"
   ]
  },
  {
   "cell_type": "markdown",
   "id": "0ec19f25-a187-4b70-bb90-8b3b09971354",
   "metadata": {},
   "source": [
    "#### 2. `predict_params`\n",
    "This dictionary holds the necessary configurations for the `predict` function, which simulates perturbed models and predicts drug synergies.\\\n",
    "Below is a detailed overview of its parameters:\n",
    "\n",
    "- `perturbations`: An instance of `Perturbation`.\n",
    "\n",
    "- `model_outputs`: An instance of `ModelOutputs`.\n",
    "\n",
    "- `observed_synergy_scores`: A list of observed synergy scores used to plot and evaluate the predictive accuracy of the models.\n",
    "\n",
    "- `synergy_method`: The method used to calculate synergy scores. Options: `'bliss'` (Bliss Independence) or `'hsa'` (Highest Single Agent). By default, `'hsa'`\n",
    "\n",
    "- `save_predictions` (optional):  Whether to save the predictions to disk after the simulations. By default, `False`.\n",
    "\n",
    "- `save_path` (optional): Specifies the path to save the predictions if `save_predictions` is `True`. (e.g., `'./predictions'`).\n",
    "\n",
    "- `model_directory`: Path to a directory containing pre-trained models to be loaded if `best_boolean_models` is not provided.(e.g., `'./models/models_2024_11_06_1130'`).\n",
    "\n",
    "- `attractor_tool`: Specifies the tool used for attractor computation if the models are loaded from `model_directory` (e.g. `'mpbn'`).\n",
    "\n",
    "\n",
    "- `attractor_type`: Specifies the tool used for attractor computation if the models are loaded from `model_directory` (e.g. `'stable_states'`).\n",
    "\n",
    "- `cores`: Number of CPU cores to use for parallel processing.(e.g. `4` for using four CPU cores)."
   ]
  },
  {
   "cell_type": "markdown",
   "id": "1637050b-2de8-48de-82dc-e8e820501697",
   "metadata": {},
   "source": [
    "#####   Observed Synergy Scores\n",
    "List of observed synergy scores corresponding to the perturbations applied, used to evaluate model predictions. \\\n",
    "**Initialization**: From a list containing observed synergy scores."
   ]
  },
  {
   "cell_type": "code",
   "execution_count": 35,
   "id": "a27ed3ef-7f9d-41a5-be73-604d4c68e0fb",
   "metadata": {},
   "outputs": [],
   "source": [
    "observed_synergy_scores = [\"PI-PD\", \"PI-5Z\", \"PD-AK\", \"AK-5Z\"]"
   ]
  },
  {
   "cell_type": "markdown",
   "id": "0ac656dc-7cf6-4e7d-bbad-ffc6581c404d",
   "metadata": {},
   "source": [
    "##### Init `predict_param`"
   ]
  },
  {
   "cell_type": "code",
   "execution_count": 36,
   "id": "a31c4488-0dec-4fbc-9689-8ca01401852a",
   "metadata": {},
   "outputs": [],
   "source": [
    "predict_params = {\n",
    "        'perturbations': perturbations,\n",
    "        'model_outputs': model_outputs,\n",
    "        'observed_synergy_scores': observed_synergy_scores,\n",
    "        'synergy_method': 'hsa',\n",
    "        'save_predictions': False,\n",
    "        # 'save_path': './predictions',\n",
    "        # 'model_directory': './models/example_models',\n",
    "        # 'attractor_tool': 'mpbn',\n",
    "        # 'attractor_type':  'stable_states'\n",
    "    }"
   ]
  },
  {
   "cell_type": "markdown",
   "id": "d886b76d-acab-456a-8cea-434218da3dc4",
   "metadata": {},
   "source": [
    "### Run Train and Predict"
   ]
  },
  {
   "cell_type": "code",
   "execution_count": 37,
   "id": "71da568b-f943-475b-a57c-4c4b3fb36f24",
   "metadata": {},
   "outputs": [],
   "source": [
    "from pydruglogics.execution.Executor import execute, train, predict"
   ]
  },
  {
   "cell_type": "code",
   "execution_count": 38,
   "id": "9d9781ae-c8e3-4886-9702-4d01c9ebea81",
   "metadata": {},
   "outputs": [
    {
     "name": "stdout",
     "output_type": "stream",
     "text": [
      "2024-11-14 10:31:53,307 - INFO - Train started...\n",
      "2024-11-14 10:31:59,639 - INFO - Training finished.\n",
      "2024-11-14 10:31:59,640 - INFO - Train completed in 6.33 seconds.\n",
      "2024-11-14 10:31:59,640 - INFO - Predict started...\n",
      "2024-11-14 10:32:13,634 - INFO - \n",
      "Synergy scores (hsa):\n",
      "2024-11-14 10:32:13,635 - INFO - PI-PD: -1.3149509803921566\n",
      "2024-11-14 10:32:13,635 - INFO - PI-CT: 0\n",
      "2024-11-14 10:32:13,636 - INFO - PI-BI: -0.007352941176470562\n",
      "2024-11-14 10:32:13,636 - INFO - PI-PK: -0.001626016260162566\n",
      "2024-11-14 10:32:13,637 - INFO - PI-AK: -0.013333333333333641\n",
      "2024-11-14 10:32:13,637 - INFO - PI-5Z: -0.3088235294117645\n",
      "2024-11-14 10:32:13,638 - INFO - PD-CT: 0\n",
      "2024-11-14 10:32:13,638 - INFO - PD-BI: 0.013333333333333641\n",
      "2024-11-14 10:32:13,638 - INFO - PD-PK: 2.2666666666666666\n",
      "2024-11-14 10:32:13,638 - INFO - PD-AK: -0.5695238095238098\n",
      "2024-11-14 10:32:13,639 - INFO - PD-5Z: 0\n",
      "2024-11-14 10:32:13,639 - INFO - CT-BI: 0\n",
      "2024-11-14 10:32:13,639 - INFO - CT-PK: 0\n",
      "2024-11-14 10:32:13,639 - INFO - CT-AK: 0\n",
      "2024-11-14 10:32:13,639 - INFO - CT-5Z: 0\n",
      "2024-11-14 10:32:13,640 - INFO - BI-PK: -0.3268292682926829\n",
      "2024-11-14 10:32:13,640 - INFO - BI-AK: 0.11333333333333329\n",
      "2024-11-14 10:32:13,640 - INFO - BI-5Z: 0.16000000000000014\n",
      "2024-11-14 10:32:13,640 - INFO - PK-AK: -0.19333333333333325\n",
      "2024-11-14 10:32:13,641 - INFO - PK-5Z: 2.2666666666666666\n",
      "2024-11-14 10:32:13,641 - INFO - AK-5Z: -0.7066666666666668\n",
      "2024-11-14 10:32:13,662 - INFO - Predicted Data with Observed Synergies for Model 1:\n",
      "2024-11-14 10:32:13,663 - INFO -    perturbation  synergy_score  observed\n",
      "0         PI-PD       1.314951         1\n",
      "1         AK-5Z       0.706667         1\n",
      "2         PD-AK       0.569524         1\n",
      "3         BI-PK       0.326829         0\n",
      "4         PI-5Z       0.308824         1\n",
      "5         PK-AK       0.193333         0\n",
      "6         PI-AK       0.013333         0\n",
      "7         PI-BI       0.007353         0\n",
      "8         PI-PK       0.001626         0\n",
      "9         PI-CT      -0.000000         0\n",
      "10        CT-BI      -0.000000         0\n",
      "11        PD-5Z      -0.000000         0\n",
      "12        PD-CT      -0.000000         0\n",
      "13        CT-5Z      -0.000000         0\n",
      "14        CT-AK      -0.000000         0\n",
      "15        CT-PK      -0.000000         0\n",
      "16        PD-BI      -0.013333         0\n",
      "17        BI-AK      -0.113333         0\n",
      "18        BI-5Z      -0.160000         0\n",
      "19        PD-PK      -2.266667         0\n",
      "20        PK-5Z      -2.266667         0\n"
     ]
    },
    {
     "data": {
      "image/png": "[encoded data removed]",
      "text/plain": [
       "<Figure size 1200x500 with 2 Axes>"
      ]
     },
     "metadata": {},
     "output_type": "display_data"
    },
    {
     "name": "stdout",
     "output_type": "stream",
     "text": [
      "2024-11-14 10:32:13,828 - INFO - Predict completed in 14.19 seconds.\n",
      "2024-11-14 10:32:13,829 - INFO - Total runtime for training and prediction: 20.52 seconds\n"
     ]
    }
   ],
   "source": [
    "execute(train_params=train_params, predict_params=predict_params)"
   ]
  },
  {
   "cell_type": "markdown",
   "id": "cfd426c0-3b37-424d-b8b4-3deac4667f36",
   "metadata": {},
   "source": [
    "### Run Train"
   ]
  },
  {
   "cell_type": "code",
   "execution_count": 58,
   "id": "791cbb2e-2c6c-4670-a2cb-a50b39c8e7e8",
   "metadata": {},
   "outputs": [
    {
     "name": "stdout",
     "output_type": "stream",
     "text": [
      "2024-11-13 22:34:58,408 - INFO - Train started...\n",
      "2024-11-13 22:35:04,725 - INFO - Training finished.\n",
      "2024-11-13 22:35:04,726 - INFO - Train completed in 6.32 seconds.\n"
     ]
    }
   ],
   "source": [
    "execute(train_params=train_params)"
   ]
  },
  {
   "cell_type": "markdown",
   "id": "ce8153bc-dd74-44aa-8671-c5b049b0e248",
   "metadata": {},
   "source": [
    "### Run Predict"
   ]
  },
  {
   "cell_type": "markdown",
   "id": "e8e684cc-78f5-4bc0-818a-7e27cac711b7",
   "metadata": {},
   "source": [
    "**Note:** If the Evolution process has not been previously executed, it is necessary to load the Boolean Models from a `.bnet` file. In this case `attractor_tool` and `attracto_type` must be provided."
   ]
  },
  {
   "cell_type": "code",
   "execution_count": 59,
   "id": "375f2dba-c21d-4ff7-837c-4d41322da153",
   "metadata": {},
   "outputs": [],
   "source": [
    "predict_params = {\n",
    "        'perturbations': perturbations,\n",
    "        'model_outputs': model_outputs,\n",
    "        'observed_synergy_scores': observed_synergy_scores,\n",
    "        'synergy_method': 'bliss',\n",
    "        'save_predictions': True,\n",
    "        'save_path': './predictions',\n",
    "        'model_directory': './pydruglogics/models/example_models',\n",
    "        'attractor_tool': 'mpbn',\n",
    "        'attractor_type':  'stable_states'\n",
    "    }"
   ]
  },
  {
   "cell_type": "code",
   "execution_count": 61,
   "id": "7647b0f9-3bd6-4b53-b325-eff3a6f5384d",
   "metadata": {},
   "outputs": [
    {
     "name": "stdout",
     "output_type": "stream",
     "text": [
      "2024-11-13 22:35:46,458 - INFO - Predict started...\n",
      "2024-11-13 22:35:46,459 - INFO - Loading models from directory: ./pydruglogics/models/example_models\n",
      "2024-11-13 22:35:46,462 - INFO - Boolean Model from .bnet file is created.\n",
      "2024-11-13 22:35:46,486 - INFO - Loaded model from ./pydruglogics/models/example_models/e8_s1.bnet\n",
      "2024-11-13 22:35:46,487 - INFO - Boolean Model from .bnet file is created.\n",
      "2024-11-13 22:35:46,501 - INFO - Loaded model from ./pydruglogics/models/example_models/e31_s3.bnet\n",
      "2024-11-13 22:35:46,503 - INFO - Boolean Model from .bnet file is created.\n",
      "2024-11-13 22:35:46,515 - INFO - Loaded model from ./pydruglogics/models/example_models/e4_s3.bnet\n",
      "2024-11-13 22:35:46,517 - INFO - Boolean Model from .bnet file is created.\n",
      "2024-11-13 22:35:46,531 - INFO - Loaded model from ./pydruglogics/models/example_models/e18_s2.bnet\n",
      "2024-11-13 22:35:46,532 - INFO - Boolean Model from .bnet file is created.\n",
      "2024-11-13 22:35:46,545 - INFO - Loaded model from ./pydruglogics/models/example_models/e11_s1.bnet\n",
      "2024-11-13 22:35:46,546 - INFO - Boolean Model from .bnet file is created.\n",
      "2024-11-13 22:35:46,558 - INFO - Loaded model from ./pydruglogics/models/example_models/e44_s1.bnet\n",
      "2024-11-13 22:35:46,559 - INFO - Boolean Model from .bnet file is created.\n",
      "2024-11-13 22:35:46,571 - INFO - Loaded model from ./pydruglogics/models/example_models/e31_s2.bnet\n",
      "2024-11-13 22:35:46,572 - INFO - Boolean Model from .bnet file is created.\n",
      "2024-11-13 22:35:46,589 - INFO - Loaded model from ./pydruglogics/models/example_models/e14_s2.bnet\n",
      "2024-11-13 22:35:46,590 - INFO - Boolean Model from .bnet file is created.\n",
      "2024-11-13 22:35:46,607 - INFO - Loaded model from ./pydruglogics/models/example_models/e40_s1.bnet\n",
      "2024-11-13 22:35:46,607 - INFO - Boolean Model from .bnet file is created.\n",
      "2024-11-13 22:35:46,623 - INFO - Loaded model from ./pydruglogics/models/example_models/e3_s3.bnet\n",
      "2024-11-13 22:35:46,624 - INFO - Boolean Model from .bnet file is created.\n",
      "2024-11-13 22:35:46,638 - INFO - Loaded model from ./pydruglogics/models/example_models/e2_s2.bnet\n",
      "2024-11-13 22:35:46,639 - INFO - Boolean Model from .bnet file is created.\n",
      "2024-11-13 22:35:46,651 - INFO - Loaded model from ./pydruglogics/models/example_models/e45_s1.bnet\n",
      "2024-11-13 22:35:46,652 - INFO - Boolean Model from .bnet file is created.\n",
      "2024-11-13 22:35:46,664 - INFO - Loaded model from ./pydruglogics/models/example_models/e18_s3.bnet\n",
      "2024-11-13 22:35:46,665 - INFO - Boolean Model from .bnet file is created.\n",
      "2024-11-13 22:35:46,678 - INFO - Loaded model from ./pydruglogics/models/example_models/e37_s2.bnet\n",
      "2024-11-13 22:35:46,679 - INFO - Boolean Model from .bnet file is created.\n",
      "2024-11-13 22:35:46,691 - INFO - Loaded model from ./pydruglogics/models/example_models/e4_s1.bnet\n",
      "2024-11-13 22:35:46,692 - INFO - Boolean Model from .bnet file is created.\n",
      "2024-11-13 22:35:46,704 - INFO - Loaded model from ./pydruglogics/models/example_models/e41_s1.bnet\n",
      "2024-11-13 22:35:46,705 - INFO - Boolean Model from .bnet file is created.\n",
      "2024-11-13 22:35:46,717 - INFO - Loaded model from ./pydruglogics/models/example_models/e14_s3.bnet\n",
      "2024-11-13 22:35:46,718 - INFO - Boolean Model from .bnet file is created.\n",
      "2024-11-13 22:35:46,730 - INFO - Loaded model from ./pydruglogics/models/example_models/e13_s3.bnet\n",
      "2024-11-13 22:35:46,731 - INFO - Boolean Model from .bnet file is created.\n",
      "2024-11-13 22:35:46,746 - INFO - Loaded model from ./pydruglogics/models/example_models/e17_s3.bnet\n",
      "2024-11-13 22:35:46,748 - INFO - Boolean Model from .bnet file is created.\n",
      "2024-11-13 22:35:46,774 - INFO - Loaded model from ./pydruglogics/models/example_models/e24_s3.bnet\n",
      "2024-11-13 22:35:46,775 - INFO - Boolean Model from .bnet file is created.\n",
      "2024-11-13 22:35:46,796 - INFO - Loaded model from ./pydruglogics/models/example_models/e6_s2.bnet\n",
      "2024-11-13 22:35:46,796 - INFO - Boolean Model from .bnet file is created.\n",
      "2024-11-13 22:35:46,809 - INFO - Loaded model from ./pydruglogics/models/example_models/e38_s3.bnet\n",
      "2024-11-13 22:35:46,810 - INFO - Boolean Model from .bnet file is created.\n",
      "2024-11-13 22:35:46,823 - INFO - Loaded model from ./pydruglogics/models/example_models/e12_s3.bnet\n",
      "2024-11-13 22:35:46,824 - INFO - Boolean Model from .bnet file is created.\n",
      "2024-11-13 22:35:46,836 - INFO - Loaded model from ./pydruglogics/models/example_models/e49_s3.bnet\n",
      "2024-11-13 22:35:46,837 - INFO - Boolean Model from .bnet file is created.\n",
      "2024-11-13 22:35:46,849 - INFO - Loaded model from ./pydruglogics/models/example_models/e33_s1.bnet\n",
      "2024-11-13 22:35:46,850 - INFO - Boolean Model from .bnet file is created.\n",
      "2024-11-13 22:35:46,863 - INFO - Loaded model from ./pydruglogics/models/example_models/e23_s2.bnet\n",
      "2024-11-13 22:35:46,864 - INFO - Boolean Model from .bnet file is created.\n",
      "2024-11-13 22:35:46,876 - INFO - Loaded model from ./pydruglogics/models/example_models/e2_s1.bnet\n",
      "2024-11-13 22:35:46,877 - INFO - Boolean Model from .bnet file is created.\n",
      "2024-11-13 22:35:46,889 - INFO - Loaded model from ./pydruglogics/models/example_models/e1_s2.bnet\n",
      "2024-11-13 22:35:46,890 - INFO - Boolean Model from .bnet file is created.\n",
      "2024-11-13 22:35:46,903 - INFO - Loaded model from ./pydruglogics/models/example_models/e48_s1.bnet\n",
      "2024-11-13 22:35:46,904 - INFO - Boolean Model from .bnet file is created.\n",
      "2024-11-13 22:35:46,921 - INFO - Loaded model from ./pydruglogics/models/example_models/e15_s2.bnet\n",
      "2024-11-13 22:35:46,922 - INFO - Boolean Model from .bnet file is created.\n",
      "2024-11-13 22:35:46,937 - INFO - Loaded model from ./pydruglogics/models/example_models/e17_s2.bnet\n",
      "2024-11-13 22:35:46,938 - INFO - Boolean Model from .bnet file is created.\n",
      "2024-11-13 22:35:46,951 - INFO - Loaded model from ./pydruglogics/models/example_models/e30_s2.bnet\n",
      "2024-11-13 22:35:46,952 - INFO - Boolean Model from .bnet file is created.\n",
      "2024-11-13 22:35:46,964 - INFO - Loaded model from ./pydruglogics/models/example_models/e23_s3.bnet\n",
      "2024-11-13 22:35:46,965 - INFO - Boolean Model from .bnet file is created.\n",
      "2024-11-13 22:35:46,977 - INFO - Loaded model from ./pydruglogics/models/example_models/e47_s1.bnet\n",
      "2024-11-13 22:35:46,978 - INFO - Boolean Model from .bnet file is created.\n",
      "2024-11-13 22:35:46,990 - INFO - Loaded model from ./pydruglogics/models/example_models/e20_s2.bnet\n",
      "2024-11-13 22:35:46,991 - INFO - Boolean Model from .bnet file is created.\n",
      "2024-11-13 22:35:47,003 - INFO - Loaded model from ./pydruglogics/models/example_models/e26_s1.bnet\n",
      "2024-11-13 22:35:47,004 - INFO - Boolean Model from .bnet file is created.\n",
      "2024-11-13 22:35:47,016 - INFO - Loaded model from ./pydruglogics/models/example_models/e16_s2.bnet\n",
      "2024-11-13 22:35:47,017 - INFO - Boolean Model from .bnet file is created.\n",
      "2024-11-13 22:35:47,030 - INFO - Loaded model from ./pydruglogics/models/example_models/e28_s2.bnet\n",
      "2024-11-13 22:35:47,030 - INFO - Boolean Model from .bnet file is created.\n",
      "2024-11-13 22:35:47,043 - INFO - Loaded model from ./pydruglogics/models/example_models/e22_s1.bnet\n",
      "2024-11-13 22:35:47,043 - INFO - Boolean Model from .bnet file is created.\n",
      "2024-11-13 22:35:47,056 - INFO - Loaded model from ./pydruglogics/models/example_models/e28_s1.bnet\n",
      "2024-11-13 22:35:47,056 - INFO - Boolean Model from .bnet file is created.\n",
      "2024-11-13 22:35:47,069 - INFO - Loaded model from ./pydruglogics/models/example_models/e3_s2.bnet\n",
      "2024-11-13 22:35:47,070 - INFO - Boolean Model from .bnet file is created.\n",
      "2024-11-13 22:35:47,082 - INFO - Loaded model from ./pydruglogics/models/example_models/e46_s1.bnet\n",
      "2024-11-13 22:35:47,083 - INFO - Boolean Model from .bnet file is created.\n",
      "2024-11-13 22:35:47,095 - INFO - Loaded model from ./pydruglogics/models/example_models/e16_s1.bnet\n",
      "2024-11-13 22:35:47,096 - INFO - Boolean Model from .bnet file is created.\n",
      "2024-11-13 22:35:47,109 - INFO - Loaded model from ./pydruglogics/models/example_models/e7_s2.bnet\n",
      "2024-11-13 22:35:47,109 - INFO - Boolean Model from .bnet file is created.\n",
      "2024-11-13 22:35:47,121 - INFO - Loaded model from ./pydruglogics/models/example_models/e23_s1.bnet\n",
      "2024-11-13 22:35:47,122 - INFO - Boolean Model from .bnet file is created.\n",
      "2024-11-13 22:35:47,135 - INFO - Loaded model from ./pydruglogics/models/example_models/e21_s2.bnet\n",
      "2024-11-13 22:35:47,136 - INFO - Boolean Model from .bnet file is created.\n",
      "2024-11-13 22:35:47,148 - INFO - Loaded model from ./pydruglogics/models/example_models/e19_s1.bnet\n",
      "2024-11-13 22:35:47,149 - INFO - Boolean Model from .bnet file is created.\n",
      "2024-11-13 22:35:47,161 - INFO - Loaded model from ./pydruglogics/models/example_models/e10_s2.bnet\n",
      "2024-11-13 22:35:47,162 - INFO - Boolean Model from .bnet file is created.\n",
      "2024-11-13 22:35:47,174 - INFO - Loaded model from ./pydruglogics/models/example_models/e36_s2.bnet\n",
      "2024-11-13 22:35:47,175 - INFO - Boolean Model from .bnet file is created.\n",
      "2024-11-13 22:35:47,187 - INFO - Loaded model from ./pydruglogics/models/example_models/e49_s1.bnet\n",
      "2024-11-13 22:35:47,188 - INFO - Boolean Model from .bnet file is created.\n",
      "2024-11-13 22:35:47,200 - INFO - Loaded model from ./pydruglogics/models/example_models/e28_s3.bnet\n",
      "2024-11-13 22:35:47,201 - INFO - Boolean Model from .bnet file is created.\n",
      "2024-11-13 22:35:47,213 - INFO - Loaded model from ./pydruglogics/models/example_models/e43_s3.bnet\n",
      "2024-11-13 22:35:47,214 - INFO - Boolean Model from .bnet file is created.\n",
      "2024-11-13 22:35:47,227 - INFO - Loaded model from ./pydruglogics/models/example_models/e27_s1.bnet\n",
      "2024-11-13 22:35:47,228 - INFO - Boolean Model from .bnet file is created.\n",
      "2024-11-13 22:35:47,240 - INFO - Loaded model from ./pydruglogics/models/example_models/e40_s3.bnet\n",
      "2024-11-13 22:35:47,241 - INFO - Boolean Model from .bnet file is created.\n",
      "2024-11-13 22:35:47,253 - INFO - Loaded model from ./pydruglogics/models/example_models/e25_s2.bnet\n",
      "2024-11-13 22:35:47,254 - INFO - Boolean Model from .bnet file is created.\n",
      "2024-11-13 22:35:47,266 - INFO - Loaded model from ./pydruglogics/models/example_models/e19_s3.bnet\n",
      "2024-11-13 22:35:47,267 - INFO - Boolean Model from .bnet file is created.\n",
      "2024-11-13 22:35:47,279 - INFO - Loaded model from ./pydruglogics/models/example_models/e42_s1.bnet\n",
      "2024-11-13 22:35:47,280 - INFO - Boolean Model from .bnet file is created.\n",
      "2024-11-13 22:35:47,292 - INFO - Loaded model from ./pydruglogics/models/example_models/e5_s2.bnet\n",
      "2024-11-13 22:35:47,293 - INFO - Boolean Model from .bnet file is created.\n",
      "2024-11-13 22:35:47,305 - INFO - Loaded model from ./pydruglogics/models/example_models/e45_s3.bnet\n",
      "2024-11-13 22:35:47,305 - INFO - Boolean Model from .bnet file is created.\n",
      "2024-11-13 22:35:47,317 - INFO - Loaded model from ./pydruglogics/models/example_models/e34_s1.bnet\n",
      "2024-11-13 22:35:47,318 - INFO - Boolean Model from .bnet file is created.\n",
      "2024-11-13 22:35:47,330 - INFO - Loaded model from ./pydruglogics/models/example_models/e50_s2.bnet\n",
      "2024-11-13 22:35:47,331 - INFO - Boolean Model from .bnet file is created.\n",
      "2024-11-13 22:35:47,342 - INFO - Loaded model from ./pydruglogics/models/example_models/e48_s2.bnet\n",
      "2024-11-13 22:35:47,343 - INFO - Boolean Model from .bnet file is created.\n",
      "2024-11-13 22:35:47,355 - INFO - Loaded model from ./pydruglogics/models/example_models/e8_s2.bnet\n",
      "2024-11-13 22:35:47,356 - INFO - Boolean Model from .bnet file is created.\n",
      "2024-11-13 22:35:47,368 - INFO - Loaded model from ./pydruglogics/models/example_models/e7_s1.bnet\n",
      "2024-11-13 22:35:47,369 - INFO - Boolean Model from .bnet file is created.\n",
      "2024-11-13 22:35:47,380 - INFO - Loaded model from ./pydruglogics/models/example_models/e27_s3.bnet\n",
      "2024-11-13 22:35:47,381 - INFO - Boolean Model from .bnet file is created.\n",
      "2024-11-13 22:35:47,395 - INFO - Loaded model from ./pydruglogics/models/example_models/e40_s2.bnet\n",
      "2024-11-13 22:35:47,396 - INFO - Boolean Model from .bnet file is created.\n",
      "2024-11-13 22:35:47,421 - INFO - Loaded model from ./pydruglogics/models/example_models/e21_s1.bnet\n",
      "2024-11-13 22:35:47,422 - INFO - Boolean Model from .bnet file is created.\n",
      "2024-11-13 22:35:47,435 - INFO - Loaded model from ./pydruglogics/models/example_models/e29_s3.bnet\n",
      "2024-11-13 22:35:47,437 - INFO - Boolean Model from .bnet file is created.\n",
      "2024-11-13 22:35:47,454 - INFO - Loaded model from ./pydruglogics/models/example_models/e21_s3.bnet\n",
      "2024-11-13 22:35:47,455 - INFO - Boolean Model from .bnet file is created.\n",
      "2024-11-13 22:35:47,469 - INFO - Loaded model from ./pydruglogics/models/example_models/e35_s3.bnet\n",
      "2024-11-13 22:35:47,470 - INFO - Boolean Model from .bnet file is created.\n",
      "2024-11-13 22:35:47,484 - INFO - Loaded model from ./pydruglogics/models/example_models/e39_s2.bnet\n",
      "2024-11-13 22:35:47,485 - INFO - Boolean Model from .bnet file is created.\n",
      "2024-11-13 22:35:47,499 - INFO - Loaded model from ./pydruglogics/models/example_models/e33_s2.bnet\n",
      "2024-11-13 22:35:47,500 - INFO - Boolean Model from .bnet file is created.\n",
      "2024-11-13 22:35:47,513 - INFO - Loaded model from ./pydruglogics/models/example_models/e26_s2.bnet\n",
      "2024-11-13 22:35:47,514 - INFO - Boolean Model from .bnet file is created.\n",
      "2024-11-13 22:35:47,526 - INFO - Loaded model from ./pydruglogics/models/example_models/e46_s2.bnet\n",
      "2024-11-13 22:35:47,527 - INFO - Boolean Model from .bnet file is created.\n",
      "2024-11-13 22:35:47,540 - INFO - Loaded model from ./pydruglogics/models/example_models/e43_s1.bnet\n",
      "2024-11-13 22:35:47,541 - INFO - Boolean Model from .bnet file is created.\n",
      "2024-11-13 22:35:47,554 - INFO - Loaded model from ./pydruglogics/models/example_models/e9_s3.bnet\n",
      "2024-11-13 22:35:47,555 - INFO - Boolean Model from .bnet file is created.\n",
      "2024-11-13 22:35:47,568 - INFO - Loaded model from ./pydruglogics/models/example_models/e38_s1.bnet\n",
      "2024-11-13 22:35:47,569 - INFO - Boolean Model from .bnet file is created.\n",
      "2024-11-13 22:35:47,582 - INFO - Loaded model from ./pydruglogics/models/example_models/e2_s3.bnet\n",
      "2024-11-13 22:35:47,583 - INFO - Boolean Model from .bnet file is created.\n",
      "2024-11-13 22:35:47,595 - INFO - Loaded model from ./pydruglogics/models/example_models/e41_s3.bnet\n",
      "2024-11-13 22:35:47,596 - INFO - Boolean Model from .bnet file is created.\n",
      "2024-11-13 22:35:47,608 - INFO - Loaded model from ./pydruglogics/models/example_models/e42_s2.bnet\n",
      "2024-11-13 22:35:47,610 - INFO - Boolean Model from .bnet file is created.\n",
      "2024-11-13 22:35:47,624 - INFO - Loaded model from ./pydruglogics/models/example_models/e12_s2.bnet\n",
      "2024-11-13 22:35:47,625 - INFO - Boolean Model from .bnet file is created.\n",
      "2024-11-13 22:35:47,639 - INFO - Loaded model from ./pydruglogics/models/example_models/e26_s3.bnet\n",
      "2024-11-13 22:35:47,640 - INFO - Boolean Model from .bnet file is created.\n",
      "2024-11-13 22:35:47,652 - INFO - Loaded model from ./pydruglogics/models/example_models/e11_s2.bnet\n",
      "2024-11-13 22:35:47,653 - INFO - Boolean Model from .bnet file is created.\n",
      "2024-11-13 22:35:47,669 - INFO - Loaded model from ./pydruglogics/models/example_models/e3_s1.bnet\n",
      "2024-11-13 22:35:47,669 - INFO - Boolean Model from .bnet file is created.\n",
      "2024-11-13 22:35:47,682 - INFO - Loaded model from ./pydruglogics/models/example_models/e29_s1.bnet\n",
      "2024-11-13 22:35:47,683 - INFO - Boolean Model from .bnet file is created.\n",
      "2024-11-13 22:35:47,703 - INFO - Loaded model from ./pydruglogics/models/example_models/e16_s3.bnet\n",
      "2024-11-13 22:35:47,705 - INFO - Boolean Model from .bnet file is created.\n",
      "2024-11-13 22:35:47,720 - INFO - Loaded model from ./pydruglogics/models/example_models/e31_s1.bnet\n",
      "2024-11-13 22:35:47,721 - INFO - Boolean Model from .bnet file is created.\n",
      "2024-11-13 22:35:47,733 - INFO - Loaded model from ./pydruglogics/models/example_models/e45_s2.bnet\n",
      "2024-11-13 22:35:47,734 - INFO - Boolean Model from .bnet file is created.\n",
      "2024-11-13 22:35:47,746 - INFO - Loaded model from ./pydruglogics/models/example_models/e35_s1.bnet\n",
      "2024-11-13 22:35:47,747 - INFO - Boolean Model from .bnet file is created.\n",
      "2024-11-13 22:35:47,759 - INFO - Loaded model from ./pydruglogics/models/example_models/e34_s2.bnet\n",
      "2024-11-13 22:35:47,760 - INFO - Boolean Model from .bnet file is created.\n",
      "2024-11-13 22:35:47,773 - INFO - Loaded model from ./pydruglogics/models/example_models/e13_s1.bnet\n",
      "2024-11-13 22:35:47,774 - INFO - Boolean Model from .bnet file is created.\n",
      "2024-11-13 22:35:47,787 - INFO - Loaded model from ./pydruglogics/models/example_models/e29_s2.bnet\n",
      "2024-11-13 22:35:47,788 - INFO - Boolean Model from .bnet file is created.\n",
      "2024-11-13 22:35:47,800 - INFO - Loaded model from ./pydruglogics/models/example_models/e36_s3.bnet\n",
      "2024-11-13 22:35:47,801 - INFO - Boolean Model from .bnet file is created.\n",
      "2024-11-13 22:35:47,814 - INFO - Loaded model from ./pydruglogics/models/example_models/e17_s1.bnet\n",
      "2024-11-13 22:35:47,815 - INFO - Boolean Model from .bnet file is created.\n",
      "2024-11-13 22:35:47,827 - INFO - Loaded model from ./pydruglogics/models/example_models/e7_s3.bnet\n",
      "2024-11-13 22:35:47,828 - INFO - Boolean Model from .bnet file is created.\n",
      "2024-11-13 22:35:47,840 - INFO - Loaded model from ./pydruglogics/models/example_models/e47_s2.bnet\n",
      "2024-11-13 22:35:47,841 - INFO - Boolean Model from .bnet file is created.\n",
      "2024-11-13 22:35:47,853 - INFO - Loaded model from ./pydruglogics/models/example_models/e49_s2.bnet\n",
      "2024-11-13 22:35:47,854 - INFO - Boolean Model from .bnet file is created.\n",
      "2024-11-13 22:35:47,866 - INFO - Loaded model from ./pydruglogics/models/example_models/e13_s2.bnet\n",
      "2024-11-13 22:35:47,867 - INFO - Boolean Model from .bnet file is created.\n",
      "2024-11-13 22:35:47,880 - INFO - Loaded model from ./pydruglogics/models/example_models/e46_s3.bnet\n",
      "2024-11-13 22:35:47,881 - INFO - Boolean Model from .bnet file is created.\n",
      "2024-11-13 22:35:47,898 - INFO - Loaded model from ./pydruglogics/models/example_models/e32_s3.bnet\n",
      "2024-11-13 22:35:47,899 - INFO - Boolean Model from .bnet file is created.\n",
      "2024-11-13 22:35:47,912 - INFO - Loaded model from ./pydruglogics/models/example_models/e22_s3.bnet\n",
      "2024-11-13 22:35:47,913 - INFO - Boolean Model from .bnet file is created.\n",
      "2024-11-13 22:35:47,927 - INFO - Loaded model from ./pydruglogics/models/example_models/e12_s1.bnet\n",
      "2024-11-13 22:35:47,928 - INFO - Boolean Model from .bnet file is created.\n",
      "2024-11-13 22:35:47,940 - INFO - Loaded model from ./pydruglogics/models/example_models/e33_s3.bnet\n",
      "2024-11-13 22:35:47,941 - INFO - Boolean Model from .bnet file is created.\n",
      "2024-11-13 22:35:47,953 - INFO - Loaded model from ./pydruglogics/models/example_models/e44_s3.bnet\n",
      "2024-11-13 22:35:47,954 - INFO - Boolean Model from .bnet file is created.\n",
      "2024-11-13 22:35:47,968 - INFO - Loaded model from ./pydruglogics/models/example_models/e25_s3.bnet\n",
      "2024-11-13 22:35:47,968 - INFO - Boolean Model from .bnet file is created.\n",
      "2024-11-13 22:35:47,981 - INFO - Loaded model from ./pydruglogics/models/example_models/e20_s3.bnet\n",
      "2024-11-13 22:35:47,982 - INFO - Boolean Model from .bnet file is created.\n",
      "2024-11-13 22:35:47,994 - INFO - Loaded model from ./pydruglogics/models/example_models/e18_s1.bnet\n",
      "2024-11-13 22:35:47,995 - INFO - Boolean Model from .bnet file is created.\n",
      "2024-11-13 22:35:48,007 - INFO - Loaded model from ./pydruglogics/models/example_models/e44_s2.bnet\n",
      "2024-11-13 22:35:48,008 - INFO - Boolean Model from .bnet file is created.\n",
      "2024-11-13 22:35:48,021 - INFO - Loaded model from ./pydruglogics/models/example_models/e48_s3.bnet\n",
      "2024-11-13 22:35:48,021 - INFO - Boolean Model from .bnet file is created.\n",
      "2024-11-13 22:35:48,034 - INFO - Loaded model from ./pydruglogics/models/example_models/e6_s1.bnet\n",
      "2024-11-13 22:35:48,035 - INFO - Boolean Model from .bnet file is created.\n",
      "2024-11-13 22:35:48,047 - INFO - Loaded model from ./pydruglogics/models/example_models/e5_s3.bnet\n",
      "2024-11-13 22:35:48,048 - INFO - Boolean Model from .bnet file is created.\n",
      "2024-11-13 22:35:48,060 - INFO - Loaded model from ./pydruglogics/models/example_models/e6_s3.bnet\n",
      "2024-11-13 22:35:48,061 - INFO - Boolean Model from .bnet file is created.\n",
      "2024-11-13 22:35:48,075 - INFO - Loaded model from ./pydruglogics/models/example_models/e20_s1.bnet\n",
      "2024-11-13 22:35:48,076 - INFO - Boolean Model from .bnet file is created.\n",
      "2024-11-13 22:35:48,091 - INFO - Loaded model from ./pydruglogics/models/example_models/e8_s3.bnet\n",
      "2024-11-13 22:35:48,092 - INFO - Boolean Model from .bnet file is created.\n",
      "2024-11-13 22:35:48,104 - INFO - Loaded model from ./pydruglogics/models/example_models/e32_s2.bnet\n",
      "2024-11-13 22:35:48,105 - INFO - Boolean Model from .bnet file is created.\n",
      "2024-11-13 22:35:48,117 - INFO - Loaded model from ./pydruglogics/models/example_models/e10_s3.bnet\n",
      "2024-11-13 22:35:48,118 - INFO - Boolean Model from .bnet file is created.\n",
      "2024-11-13 22:35:48,134 - INFO - Loaded model from ./pydruglogics/models/example_models/e15_s3.bnet\n",
      "2024-11-13 22:35:48,135 - INFO - Boolean Model from .bnet file is created.\n",
      "2024-11-13 22:35:48,147 - INFO - Loaded model from ./pydruglogics/models/example_models/e19_s2.bnet\n",
      "2024-11-13 22:35:48,148 - INFO - Boolean Model from .bnet file is created.\n",
      "2024-11-13 22:35:48,160 - INFO - Loaded model from ./pydruglogics/models/example_models/e39_s1.bnet\n",
      "2024-11-13 22:35:48,161 - INFO - Boolean Model from .bnet file is created.\n",
      "2024-11-13 22:35:48,176 - INFO - Loaded model from ./pydruglogics/models/example_models/e50_s3.bnet\n",
      "2024-11-13 22:35:48,177 - INFO - Boolean Model from .bnet file is created.\n",
      "2024-11-13 22:35:48,190 - INFO - Loaded model from ./pydruglogics/models/example_models/e25_s1.bnet\n",
      "2024-11-13 22:35:48,190 - INFO - Boolean Model from .bnet file is created.\n",
      "2024-11-13 22:35:48,203 - INFO - Loaded model from ./pydruglogics/models/example_models/e50_s1.bnet\n",
      "2024-11-13 22:35:48,204 - INFO - Boolean Model from .bnet file is created.\n",
      "2024-11-13 22:35:48,216 - INFO - Loaded model from ./pydruglogics/models/example_models/e4_s2.bnet\n",
      "2024-11-13 22:35:48,217 - INFO - Boolean Model from .bnet file is created.\n",
      "2024-11-13 22:35:48,229 - INFO - Loaded model from ./pydruglogics/models/example_models/e32_s1.bnet\n",
      "2024-11-13 22:35:48,230 - INFO - Boolean Model from .bnet file is created.\n",
      "2024-11-13 22:35:48,243 - INFO - Loaded model from ./pydruglogics/models/example_models/e38_s2.bnet\n",
      "2024-11-13 22:35:48,243 - INFO - Boolean Model from .bnet file is created.\n",
      "2024-11-13 22:35:48,256 - INFO - Loaded model from ./pydruglogics/models/example_models/e30_s3.bnet\n",
      "2024-11-13 22:35:48,257 - INFO - Boolean Model from .bnet file is created.\n",
      "2024-11-13 22:35:48,270 - INFO - Loaded model from ./pydruglogics/models/example_models/e42_s3.bnet\n",
      "2024-11-13 22:35:48,271 - INFO - Boolean Model from .bnet file is created.\n",
      "2024-11-13 22:35:48,283 - INFO - Loaded model from ./pydruglogics/models/example_models/e37_s3.bnet\n",
      "2024-11-13 22:35:48,284 - INFO - Boolean Model from .bnet file is created.\n",
      "2024-11-13 22:35:48,297 - INFO - Loaded model from ./pydruglogics/models/example_models/e37_s1.bnet\n",
      "2024-11-13 22:35:48,298 - INFO - Boolean Model from .bnet file is created.\n",
      "2024-11-13 22:35:48,311 - INFO - Loaded model from ./pydruglogics/models/example_models/e27_s2.bnet\n",
      "2024-11-13 22:35:48,312 - INFO - Boolean Model from .bnet file is created.\n",
      "2024-11-13 22:35:48,325 - INFO - Loaded model from ./pydruglogics/models/example_models/e15_s1.bnet\n",
      "2024-11-13 22:35:48,325 - INFO - Boolean Model from .bnet file is created.\n",
      "2024-11-13 22:35:48,338 - INFO - Loaded model from ./pydruglogics/models/example_models/e9_s1.bnet\n",
      "2024-11-13 22:35:48,339 - INFO - Boolean Model from .bnet file is created.\n",
      "2024-11-13 22:35:48,351 - INFO - Loaded model from ./pydruglogics/models/example_models/e41_s2.bnet\n",
      "2024-11-13 22:35:48,352 - INFO - Boolean Model from .bnet file is created.\n",
      "2024-11-13 22:35:48,364 - INFO - Loaded model from ./pydruglogics/models/example_models/e5_s1.bnet\n",
      "2024-11-13 22:35:48,365 - INFO - Boolean Model from .bnet file is created.\n",
      "2024-11-13 22:35:48,378 - INFO - Loaded model from ./pydruglogics/models/example_models/e1_s3.bnet\n",
      "2024-11-13 22:35:48,379 - INFO - Boolean Model from .bnet file is created.\n",
      "2024-11-13 22:35:48,391 - INFO - Loaded model from ./pydruglogics/models/example_models/e43_s2.bnet\n",
      "2024-11-13 22:35:48,392 - INFO - Boolean Model from .bnet file is created.\n",
      "2024-11-13 22:35:48,406 - INFO - Loaded model from ./pydruglogics/models/example_models/e36_s1.bnet\n",
      "2024-11-13 22:35:48,408 - INFO - Boolean Model from .bnet file is created.\n",
      "2024-11-13 22:35:48,432 - INFO - Loaded model from ./pydruglogics/models/example_models/e9_s2.bnet\n",
      "2024-11-13 22:35:48,433 - INFO - Boolean Model from .bnet file is created.\n",
      "2024-11-13 22:35:48,454 - INFO - Loaded model from ./pydruglogics/models/example_models/e24_s2.bnet\n",
      "2024-11-13 22:35:48,455 - INFO - Boolean Model from .bnet file is created.\n",
      "2024-11-13 22:35:48,469 - INFO - Loaded model from ./pydruglogics/models/example_models/e47_s3.bnet\n",
      "2024-11-13 22:35:48,470 - INFO - Boolean Model from .bnet file is created.\n",
      "2024-11-13 22:35:48,483 - INFO - Loaded model from ./pydruglogics/models/example_models/e30_s1.bnet\n",
      "2024-11-13 22:35:48,484 - INFO - Boolean Model from .bnet file is created.\n",
      "2024-11-13 22:35:48,496 - INFO - Loaded model from ./pydruglogics/models/example_models/e34_s3.bnet\n",
      "2024-11-13 22:35:48,497 - INFO - Boolean Model from .bnet file is created.\n",
      "2024-11-13 22:35:48,509 - INFO - Loaded model from ./pydruglogics/models/example_models/e14_s1.bnet\n",
      "2024-11-13 22:35:48,511 - INFO - Boolean Model from .bnet file is created.\n",
      "2024-11-13 22:35:48,525 - INFO - Loaded model from ./pydruglogics/models/example_models/e35_s2.bnet\n",
      "2024-11-13 22:35:48,526 - INFO - Boolean Model from .bnet file is created.\n",
      "2024-11-13 22:35:48,541 - INFO - Loaded model from ./pydruglogics/models/example_models/e39_s3.bnet\n",
      "2024-11-13 22:35:48,542 - INFO - Boolean Model from .bnet file is created.\n",
      "2024-11-13 22:35:48,554 - INFO - Loaded model from ./pydruglogics/models/example_models/e24_s1.bnet\n",
      "2024-11-13 22:35:48,555 - INFO - Boolean Model from .bnet file is created.\n",
      "2024-11-13 22:35:48,569 - INFO - Loaded model from ./pydruglogics/models/example_models/e11_s3.bnet\n",
      "2024-11-13 22:35:48,570 - INFO - Boolean Model from .bnet file is created.\n",
      "2024-11-13 22:35:48,582 - INFO - Loaded model from ./pydruglogics/models/example_models/e22_s2.bnet\n",
      "2024-11-13 22:35:48,583 - INFO - Boolean Model from .bnet file is created.\n",
      "2024-11-13 22:35:48,595 - INFO - Loaded model from ./pydruglogics/models/example_models/e10_s1.bnet\n",
      "2024-11-13 22:35:48,596 - INFO - Boolean Model from .bnet file is created.\n",
      "2024-11-13 22:35:48,616 - INFO - Loaded model from ./pydruglogics/models/example_models/e1_s1.bnet\n",
      "2024-11-13 22:36:02,975 - INFO - \n",
      "Synergy scores (bliss):\n",
      "2024-11-13 22:36:02,976 - INFO - PI-PD: -0.1580120888736708\n",
      "2024-11-13 22:36:02,977 - INFO - PI-CT: 0.002975517890772106\n",
      "2024-11-13 22:36:02,977 - INFO - PI-BI: 0.01302189111677321\n",
      "2024-11-13 22:36:02,978 - INFO - PI-PK: -0.004479748223085389\n",
      "2024-11-13 22:36:02,979 - INFO - PI-AK: 0.07575392975581308\n",
      "2024-11-13 22:36:02,979 - INFO - PI-5Z: -0.05391281836667905\n",
      "2024-11-13 22:36:02,980 - INFO - PD-CT: 0.0032831790123456495\n",
      "2024-11-13 22:36:02,980 - INFO - PD-BI: -0.012746052960793341\n",
      "2024-11-13 22:36:02,981 - INFO - PD-PK: 0.2626793194129503\n",
      "2024-11-13 22:36:02,982 - INFO - PD-AK: -0.12597022176497474\n",
      "2024-11-13 22:36:02,983 - INFO - PD-5Z: 0.0024319844535892754\n",
      "2024-11-13 22:36:02,983 - INFO - CT-BI: 0.002989969135802406\n",
      "2024-11-13 22:36:02,984 - INFO - CT-PK: 0.0022765700483091678\n",
      "2024-11-13 22:36:02,984 - INFO - CT-AK: 0.0025884773662551153\n",
      "2024-11-13 22:36:02,984 - INFO - CT-5Z: 0.0033251028806583482\n",
      "2024-11-13 22:36:02,984 - INFO - BI-PK: -0.09410015767579172\n",
      "2024-11-13 22:36:02,984 - INFO - BI-AK: 0.051596079103795156\n",
      "2024-11-13 22:36:02,985 - INFO - BI-5Z: 0.08794010059442137\n",
      "2024-11-13 22:36:02,985 - INFO - PK-AK: 0.04178279963574527\n",
      "2024-11-13 22:36:02,985 - INFO - PK-5Z: 0.26999738497323045\n",
      "2024-11-13 22:36:02,985 - INFO - AK-5Z: -0.07740359701265043\n",
      "2024-11-13 22:36:03,001 - INFO - Predicted Data with Observed Synergies for Model 1:\n",
      "2024-11-13 22:36:03,002 - INFO -    perturbation  synergy_score  observed\n",
      "0         PI-PD       0.158012         1\n",
      "1         PD-AK       0.125970         1\n",
      "2         BI-PK       0.094100         0\n",
      "3         AK-5Z       0.077404         1\n",
      "4         PI-5Z       0.053913         1\n",
      "5         PD-BI       0.012746         0\n",
      "6         PI-PK       0.004480         0\n",
      "7         CT-PK      -0.002277         0\n",
      "8         PD-5Z      -0.002432         0\n",
      "9         CT-AK      -0.002588         0\n",
      "10        PI-CT      -0.002976         0\n",
      "11        CT-BI      -0.002990         0\n",
      "12        PD-CT      -0.003283         0\n",
      "13        CT-5Z      -0.003325         0\n",
      "14        PI-BI      -0.013022         0\n",
      "15        PK-AK      -0.041783         0\n",
      "16        BI-AK      -0.051596         0\n",
      "17        PI-AK      -0.075754         0\n",
      "18        BI-5Z      -0.087940         0\n",
      "19        PD-PK      -0.262679         0\n",
      "20        PK-5Z      -0.269997         0\n"
     ]
    },
    {
     "data": {
      "image/png": "[encoded data removed]",
      "text/plain": [
       "<Figure size 1200x500 with 2 Axes>"
      ]
     },
     "metadata": {},
     "output_type": "display_data"
    },
    {
     "name": "stdout",
     "output_type": "stream",
     "text": [
      "2024-11-13 22:36:03,166 - INFO - Predictions saved to ./predictions/predictions_2024_11_13_2236\n",
      "2024-11-13 22:36:03,170 - INFO - Predict completed in 16.71 seconds.\n"
     ]
    }
   ],
   "source": [
    "execute(predict_params=predict_params)"
   ]
  },
  {
   "cell_type": "markdown",
   "id": "235d99a9-a99a-487d-a499-d6423d4c4056",
   "metadata": {},
   "source": [
    "## Run Statistics"
   ]
  },
  {
   "cell_type": "markdown",
   "id": "d2ee2af3-b484-4f88-b022-e5d3b807b5b7",
   "metadata": {},
   "source": [
    "#### Train Boolean Models"
   ]
  },
  {
   "cell_type": "markdown",
   "id": "f12a9dc5-845f-45ef-96e4-e2f0d87c8fc6",
   "metadata": {},
   "source": [
    "Boolean Models calibrated to steady state response"
   ]
  },
  {
   "cell_type": "code",
   "execution_count": 25,
   "id": "e6824a60-4a33-400b-b282-fc7973735ea8",
   "metadata": {},
   "outputs": [
    {
     "name": "stdout",
     "output_type": "stream",
     "text": [
      "2024-11-13 23:45:33,092 - INFO - Train started...\n",
      "2024-11-13 23:45:39,501 - INFO - Training finished.\n",
      "2024-11-13 23:45:39,502 - INFO - Train completed in 6.41 seconds.\n"
     ]
    }
   ],
   "source": [
    "best_boolean_models_calibrated = train(boolean_model=boolean_model_bnet, model_outputs=model_outputs, training_data=training_data,\n",
    "                                ga_args=ga_args, ev_args=ev_args)"
   ]
  },
  {
   "cell_type": "markdown",
   "id": "93626d19-a38e-44ce-a2cf-88354d68d235",
   "metadata": {},
   "source": [
    "Boolean Models match to proliferation profile."
   ]
  },
  {
   "cell_type": "code",
   "execution_count": 26,
   "id": "7f38bfe6-fcad-4850-ad1b-b66e768e77d9",
   "metadata": {},
   "outputs": [
    {
     "name": "stdout",
     "output_type": "stream",
     "text": [
      "2024-11-13 23:46:07,853 - INFO - Train started...\n",
      "2024-11-13 23:46:07,854 - INFO - Training data initialized from list.\n",
      "2024-11-13 23:46:10,794 - INFO - Training finished.\n",
      "2024-11-13 23:46:10,795 - INFO - Train completed in 2.94 seconds.\n"
     ]
    }
   ],
   "source": [
    "best_boolean_models_random = train(boolean_model=boolean_model_bnet, model_outputs=model_outputs, ga_args=ga_args, ev_args=ev_args)"
   ]
  },
  {
   "cell_type": "markdown",
   "id": "425e5934-8b41-4d25-bc0d-c2aafb3849b4",
   "metadata": {},
   "source": [
    "### Compare Boolean Models trained by calibrated and random data"
   ]
  },
  {
   "cell_type": "markdown",
   "id": "374dd68c-de03-49c4-bb95-283205f3b8ee",
   "metadata": {},
   "source": [
    "The `compare_two_simulations` function compares the predictive performance of two sets of evolved Boolean models by plotting ROC and PR curves. \n",
    "#### Parameters:\n",
    "\n",
    "- `boolean_models1`: A list of the best Boolean models from the first run.\n",
    "- `boolean_models2`: A list of the best Boolean models from the second run.\n",
    "- `observed_synergy_scores`: A reference list of observed synergy scores used to evaluate the predictive performance of the models.\n",
    "- `model_outputs`: An instance of `ModelOutputs`. \n",
    "- `perturbations`: An instance of `Perturbation`.\n",
    "- `synergy_method` (optional): The method for assessing synergy. Options: `'hsa'` (Highest Single Agent) or  `'bliss'` (Bliss Independence). By default, `'hsa'`.\n",
    "- `label1` (optional): A custom label for the first set of evolution results shown in the plots. By default, `'Models 1'`.\n",
    "- `label2` (optional): A custom label for the second set of evolution results shown in the plots. By default,`'Models 2'`.\n",
    "- `normalized` (optional): Whether or not to normalize the synergy scores of the first set. By default, `True`."
   ]
  },
  {
   "cell_type": "code",
   "execution_count": 27,
   "id": "46ca9206-c10d-4070-9270-731604648501",
   "metadata": {},
   "outputs": [],
   "source": [
    "from pydruglogics.model.Statistics import compare_two_simulations"
   ]
  },
  {
   "cell_type": "code",
   "execution_count": 28,
   "id": "2ed42803-18b9-4b1d-b8ff-62be52c046b1",
   "metadata": {},
   "outputs": [
    {
     "name": "stdout",
     "output_type": "stream",
     "text": [
      "2024-11-13 23:46:50,412 - INFO - \n",
      "Synergy scores (hsa):\n",
      "2024-11-13 23:46:50,413 - INFO - PI-PD: -1.3149509803921566\n",
      "2024-11-13 23:46:50,414 - INFO - PI-CT: 0\n",
      "2024-11-13 23:46:50,415 - INFO - PI-BI: -0.007352941176470562\n",
      "2024-11-13 23:46:50,415 - INFO - PI-PK: -0.001626016260162566\n",
      "2024-11-13 23:46:50,416 - INFO - PI-AK: -0.013333333333333641\n",
      "2024-11-13 23:46:50,416 - INFO - PI-5Z: -0.3088235294117645\n",
      "2024-11-13 23:46:50,416 - INFO - PD-CT: 0\n",
      "2024-11-13 23:46:50,417 - INFO - PD-BI: 0.013333333333333641\n",
      "2024-11-13 23:46:50,417 - INFO - PD-PK: 2.2666666666666666\n",
      "2024-11-13 23:46:50,419 - INFO - PD-AK: -0.5695238095238098\n",
      "2024-11-13 23:46:50,419 - INFO - PD-5Z: 0\n",
      "2024-11-13 23:46:50,420 - INFO - CT-BI: 0\n",
      "2024-11-13 23:46:50,420 - INFO - CT-PK: 0\n",
      "2024-11-13 23:46:50,421 - INFO - CT-AK: 0\n",
      "2024-11-13 23:46:50,421 - INFO - CT-5Z: 0\n",
      "2024-11-13 23:46:50,422 - INFO - BI-PK: -0.3268292682926829\n",
      "2024-11-13 23:46:50,422 - INFO - BI-AK: 0.11333333333333329\n",
      "2024-11-13 23:46:50,423 - INFO - BI-5Z: 0.16000000000000014\n",
      "2024-11-13 23:46:50,424 - INFO - PK-AK: -0.19333333333333325\n",
      "2024-11-13 23:46:50,424 - INFO - PK-5Z: 2.2666666666666666\n",
      "2024-11-13 23:46:50,425 - INFO - AK-5Z: -0.7066666666666668\n",
      "2024-11-13 23:47:03,304 - INFO - \n",
      "Synergy scores (hsa):\n",
      "2024-11-13 23:47:03,305 - INFO - PI-PD: -1.0798319327731092\n",
      "2024-11-13 23:47:03,306 - INFO - PI-CT: 0\n",
      "2024-11-13 23:47:03,307 - INFO - PI-BI: 0.03127917833800198\n",
      "2024-11-13 23:47:03,307 - INFO - PI-PK: -0.7899159663865546\n",
      "2024-11-13 23:47:03,308 - INFO - PI-AK: -0.20073797201456767\n",
      "2024-11-13 23:47:03,308 - INFO - PI-5Z: -0.2016806722689075\n",
      "2024-11-13 23:47:03,309 - INFO - PD-CT: 0\n",
      "2024-11-13 23:47:03,309 - INFO - PD-BI: 0.08333333333333348\n",
      "2024-11-13 23:47:03,310 - INFO - PD-PK: 1.3180144351156282\n",
      "2024-11-13 23:47:03,311 - INFO - PD-AK: -0.2642560142560142\n",
      "2024-11-13 23:47:03,311 - INFO - PD-5Z: 0.0109909909909911\n",
      "2024-11-13 23:47:03,312 - INFO - CT-BI: 0\n",
      "2024-11-13 23:47:03,312 - INFO - CT-PK: 0\n",
      "2024-11-13 23:47:03,313 - INFO - CT-AK: 0\n",
      "2024-11-13 23:47:03,313 - INFO - CT-5Z: 0\n",
      "2024-11-13 23:47:03,314 - INFO - BI-PK: -1.3486522315510385\n",
      "2024-11-13 23:47:03,314 - INFO - BI-AK: 0.31081081081081097\n",
      "2024-11-13 23:47:03,315 - INFO - BI-5Z: 0.3166666666666669\n",
      "2024-11-13 23:47:03,315 - INFO - PK-AK: -0.6486486486486486\n",
      "2024-11-13 23:47:03,316 - INFO - PK-5Z: 1.2895514370131616\n",
      "2024-11-13 23:47:03,316 - INFO - AK-5Z: -0.2635135135135134\n",
      "2024-11-13 23:47:03,336 - INFO - Predicted Data with Observed Synergies for Calibrated (Non-Normalized):\n",
      "2024-11-13 23:47:03,336 - INFO -    perturbation  synergy_score  observed\n",
      "0         PI-PD       1.314951         1\n",
      "1         AK-5Z       0.706667         1\n",
      "2         PD-AK       0.569524         1\n",
      "3         BI-PK       0.326829         0\n",
      "4         PI-5Z       0.308824         1\n",
      "5         PK-AK       0.193333         0\n",
      "6         PI-AK       0.013333         0\n",
      "7         PI-BI       0.007353         0\n",
      "8         PI-PK       0.001626         0\n",
      "9         PI-CT      -0.000000         0\n",
      "10        CT-BI      -0.000000         0\n",
      "11        PD-5Z      -0.000000         0\n",
      "12        PD-CT      -0.000000         0\n",
      "13        CT-5Z      -0.000000         0\n",
      "14        CT-AK      -0.000000         0\n",
      "15        CT-PK      -0.000000         0\n",
      "16        PD-BI      -0.013333         0\n",
      "17        BI-AK      -0.113333         0\n",
      "18        BI-5Z      -0.160000         0\n",
      "19        PD-PK      -2.266667         0\n",
      "20        PK-5Z      -2.266667         0\n",
      "2024-11-13 23:47:03,340 - INFO - Predicted Data with Observed Synergies for Random:\n",
      "2024-11-13 23:47:03,343 - INFO -    perturbation  synergy_score  observed\n",
      "0         BI-PK       1.348652         0\n",
      "1         PI-PD       1.079832         1\n",
      "2         PI-PK       0.789916         0\n",
      "3         PK-AK       0.648649         0\n",
      "4         PD-AK       0.264256         1\n",
      "5         AK-5Z       0.263514         1\n",
      "6         PI-5Z       0.201681         1\n",
      "7         PI-AK       0.200738         0\n",
      "8         PI-CT      -0.000000         0\n",
      "9         CT-5Z      -0.000000         0\n",
      "10        CT-PK      -0.000000         0\n",
      "11        CT-BI      -0.000000         0\n",
      "12        PD-CT      -0.000000         0\n",
      "13        CT-AK      -0.000000         0\n",
      "14        PD-5Z      -0.010991         0\n",
      "15        PI-BI      -0.031279         0\n",
      "16        PD-BI      -0.083333         0\n",
      "17        BI-AK      -0.310811         0\n",
      "18        BI-5Z      -0.316667         0\n",
      "19        PK-5Z      -1.289551         0\n",
      "20        PD-PK      -1.318014         0\n"
     ]
    },
    {
     "data": {
      "image/png": "[encoded data removed]",
      "text/plain": [
       "<Figure size 1200x500 with 2 Axes>"
      ]
     },
     "metadata": {},
     "output_type": "display_data"
    }
   ],
   "source": [
    "compare_two_simulations(best_boolean_models_calibrated, best_boolean_models_random, observed_synergy_scores,\n",
    "                            model_outputs,perturbations, 'hsa','Calibrated (Non-Normalized)',\n",
    "                            'Random', False)\n",
    "    "
   ]
  },
  {
   "cell_type": "markdown",
   "id": "6b8a3ad5-030e-4300-a50f-3eb80ad60808",
   "metadata": {},
   "source": [
    "### Sampling"
   ]
  },
  {
   "cell_type": "markdown",
   "id": "3d4a4e95-08dc-479f-9660-6d05345fa6ac",
   "metadata": {},
   "source": [
    "The `sampling_with_ci` function performs sampling on a list of Boolean models, calculates confidence intervals, and plots a Precision-Recall (PR) curve to assess the predictive performance in identifying synergistic drug combinations.\n",
    "\n",
    "#### Parameters:\n",
    "\n",
    "- `boolean_models`: A list of `BooleanModel` instances used for the sampling.\n",
    "- `observed_synergy_scores`: A list of observed synergy scores.\n",
    "- `model_outputs`: An instance of `ModelOutputs`.\n",
    "- `perturbations`: An instance of `Perturbation`.\n",
    "- `synergy_method` (optional): The method for assessing synergy. Options: `'hsa'` (Highest Single Agent) or  `'bliss'` (Bliss Independence). By default, `'hsa'`.\n",
    "- `repeat_time` (optional): The number of times to repeat the sampling process. By defualt, `10`.\n",
    "- `sub_ratio` (optional): The proportion of models to sample in each iteration. By defualt, `0.8`.\n",
    "- `boot_n` (optional): The number of bootstrap iterations for calculating confidence intervals. By defualt, `1000`.\n",
    "- `confidence_level` (optional): The confidence level used for the interval calculations. By defualt, `0.9`.\n",
    "- `plot_discrete` (optional): Whether to plot discrete points instead of continuous line on the PR curve. By defualt, `False`.\n",
    "- `with_seeds` (optional): Whether to use a fixed seed for reproducibility. By defualt, `True`.\n",
    "- `seeds` (optional): The seed value to ensure reproducibility. By defualt, `42`.\n"
   ]
  },
  {
   "cell_type": "code",
   "execution_count": 70,
   "id": "440b2691-c733-4e08-bf25-b73f295ebed5",
   "metadata": {},
   "outputs": [],
   "source": [
    "from pydruglogics.model.Statistics import sampling_with_ci"
   ]
  },
  {
   "cell_type": "code",
   "execution_count": 72,
   "id": "32ede833-3763-4bc1-9230-92ce2ecb4cd7",
   "metadata": {},
   "outputs": [
    {
     "name": "stdout",
     "output_type": "stream",
     "text": [
      "2024-11-13 22:43:40,897 - INFO - \n",
      "Synergy scores (hsa):\n",
      "2024-11-13 22:43:40,897 - INFO - PI-PD: -1.2175700934579439\n",
      "2024-11-13 22:43:40,898 - INFO - PI-CT: 0\n",
      "2024-11-13 22:43:40,899 - INFO - PI-BI: -0.06542056074766345\n",
      "2024-11-13 22:43:40,899 - INFO - PI-PK: -0.017034313725490136\n",
      "2024-11-13 22:43:40,899 - INFO - PI-AK: 0\n",
      "2024-11-13 22:43:40,900 - INFO - PI-5Z: -0.30841121495327073\n",
      "2024-11-13 22:43:40,900 - INFO - PD-CT: 0\n",
      "2024-11-13 22:43:40,901 - INFO - PD-BI: 0.02083333333333348\n",
      "2024-11-13 22:43:40,901 - INFO - PD-PK: 2.3058823529411763\n",
      "2024-11-13 22:43:40,901 - INFO - PD-AK: -0.575\n",
      "2024-11-13 22:43:40,902 - INFO - PD-5Z: 0\n",
      "2024-11-13 22:43:40,902 - INFO - CT-BI: 0\n",
      "2024-11-13 22:43:40,902 - INFO - CT-PK: 0\n",
      "2024-11-13 22:43:40,902 - INFO - CT-AK: 0\n",
      "2024-11-13 22:43:40,902 - INFO - CT-5Z: 0\n",
      "2024-11-13 22:43:40,902 - INFO - BI-PK: -0.3191176470588235\n",
      "2024-11-13 22:43:40,903 - INFO - BI-AK: 0.05833333333333357\n",
      "2024-11-13 22:43:40,903 - INFO - BI-5Z: 0.1708333333333334\n",
      "2024-11-13 22:43:40,903 - INFO - PK-AK: -0.21911764705882353\n",
      "2024-11-13 22:43:40,903 - INFO - PK-5Z: 2.3058823529411763\n",
      "2024-11-13 22:43:40,903 - INFO - AK-5Z: -0.7333333333333332\n",
      "2024-11-13 22:43:51,859 - INFO - \n",
      "Synergy scores (hsa):\n",
      "2024-11-13 22:43:51,859 - INFO - PI-PD: -1.3206708715596331\n",
      "2024-11-13 22:43:51,860 - INFO - PI-CT: 0\n",
      "2024-11-13 22:43:51,860 - INFO - PI-BI: -0.009174311926605672\n",
      "2024-11-13 22:43:51,861 - INFO - PI-PK: -0.03948747815958065\n",
      "2024-11-13 22:43:51,861 - INFO - PI-AK: -0.016666666666666607\n",
      "2024-11-13 22:43:51,862 - INFO - PI-5Z: -0.3302752293577984\n",
      "2024-11-13 22:43:51,862 - INFO - PD-CT: 0\n",
      "2024-11-13 22:43:51,862 - INFO - PD-BI: 0.01666666666666705\n",
      "2024-11-13 22:43:51,862 - INFO - PD-PK: 2.1882352941176473\n",
      "2024-11-13 22:43:51,862 - INFO - PD-AK: -0.5723118279569892\n",
      "2024-11-13 22:43:51,863 - INFO - PD-5Z: 0\n",
      "2024-11-13 22:43:51,863 - INFO - CT-BI: 0\n",
      "2024-11-13 22:43:51,863 - INFO - CT-PK: 0\n",
      "2024-11-13 22:43:51,863 - INFO - CT-AK: 0\n",
      "2024-11-13 22:43:51,864 - INFO - CT-5Z: 0\n",
      "2024-11-13 22:43:51,864 - INFO - BI-PK: -0.39176470588235296\n",
      "2024-11-13 22:43:51,864 - INFO - BI-AK: 0.125\n",
      "2024-11-13 22:43:51,864 - INFO - BI-5Z: 0.19166666666666687\n",
      "2024-11-13 22:43:51,865 - INFO - PK-AK: -0.2450980392156863\n",
      "2024-11-13 22:43:51,865 - INFO - PK-5Z: 2.1882352941176473\n",
      "2024-11-13 22:43:51,865 - INFO - AK-5Z: -0.6666666666666667\n",
      "2024-11-13 22:44:03,168 - INFO - \n",
      "Synergy scores (hsa):\n",
      "2024-11-13 22:44:03,169 - INFO - PI-PD: -1.1872434017595306\n",
      "2024-11-13 22:44:03,170 - INFO - PI-CT: 0\n",
      "2024-11-13 22:44:03,171 - INFO - PI-BI: -0.045454545454545414\n",
      "2024-11-13 22:44:03,171 - INFO - PI-PK: -0.014705882352941124\n",
      "2024-11-13 22:44:03,172 - INFO - PI-AK: -0.016666666666666607\n",
      "2024-11-13 22:44:03,172 - INFO - PI-5Z: -0.29090909090909056\n",
      "2024-11-13 22:44:03,173 - INFO - PD-CT: 0\n",
      "2024-11-13 22:44:03,173 - INFO - PD-BI: 0.016666666666666607\n",
      "2024-11-13 22:44:03,173 - INFO - PD-PK: 2.235294117647059\n",
      "2024-11-13 22:44:03,174 - INFO - PD-AK: -0.5416666666666667\n",
      "2024-11-13 22:44:03,174 - INFO - PD-5Z: 0\n",
      "2024-11-13 22:44:03,174 - INFO - CT-BI: 0\n",
      "2024-11-13 22:44:03,174 - INFO - CT-PK: 0\n",
      "2024-11-13 22:44:03,174 - INFO - CT-AK: 0\n",
      "2024-11-13 22:44:03,174 - INFO - CT-5Z: 0\n",
      "2024-11-13 22:44:03,175 - INFO - BI-PK: -0.3647058823529411\n",
      "2024-11-13 22:44:03,175 - INFO - BI-AK: 0.10000000000000009\n",
      "2024-11-13 22:44:03,175 - INFO - BI-5Z: 0.18333333333333313\n",
      "2024-11-13 22:44:03,175 - INFO - PK-AK: -0.19803921568627447\n",
      "2024-11-13 22:44:03,175 - INFO - PK-5Z: 2.235294117647059\n",
      "2024-11-13 22:44:03,175 - INFO - AK-5Z: -0.675\n",
      "2024-11-13 22:44:14,582 - INFO - \n",
      "Synergy scores (hsa):\n",
      "2024-11-13 22:44:14,583 - INFO - PI-PD: -1.4353448275862069\n",
      "2024-11-13 22:44:14,584 - INFO - PI-CT: 0\n",
      "2024-11-13 22:44:14,585 - INFO - PI-BI: -0.0185185185185186\n",
      "2024-11-13 22:44:14,586 - INFO - PI-PK: -0.04089506172839508\n",
      "2024-11-13 22:44:14,587 - INFO - PI-AK: -0.016666666666666607\n",
      "2024-11-13 22:44:14,587 - INFO - PI-5Z: -0.2685185185185186\n",
      "2024-11-13 22:44:14,588 - INFO - PD-CT: 0\n",
      "2024-11-13 22:44:14,588 - INFO - PD-BI: 0.01666666666666705\n",
      "2024-11-13 22:44:14,589 - INFO - PD-PK: 2.271604938271605\n",
      "2024-11-13 22:44:14,589 - INFO - PD-AK: -0.6071428571428572\n",
      "2024-11-13 22:44:14,590 - INFO - PD-5Z: 0\n",
      "2024-11-13 22:44:14,590 - INFO - CT-BI: 0\n",
      "2024-11-13 22:44:14,591 - INFO - CT-PK: 0\n",
      "2024-11-13 22:44:14,591 - INFO - CT-AK: 0\n",
      "2024-11-13 22:44:14,591 - INFO - CT-5Z: 0\n",
      "2024-11-13 22:44:14,591 - INFO - BI-PK: -0.3221450617283951\n",
      "2024-11-13 22:44:14,592 - INFO - BI-AK: 0.10000000000000009\n",
      "2024-11-13 22:44:14,592 - INFO - BI-5Z: 0.19166666666666687\n",
      "2024-11-13 22:44:14,592 - INFO - PK-AK: -0.20339506172839505\n",
      "2024-11-13 22:44:14,592 - INFO - PK-5Z: 2.271604938271605\n",
      "2024-11-13 22:44:14,593 - INFO - AK-5Z: -0.6916666666666667\n",
      "2024-11-13 22:44:25,722 - INFO - \n",
      "Synergy scores (hsa):\n",
      "2024-11-13 22:44:25,723 - INFO - PI-PD: -1.0075100133511345\n",
      "2024-11-13 22:44:25,724 - INFO - PI-CT: 0\n",
      "2024-11-13 22:44:25,725 - INFO - PI-BI: -0.01869158878504651\n",
      "2024-11-13 22:44:25,725 - INFO - PI-PK: 0.02000490918016684\n",
      "2024-11-13 22:44:25,726 - INFO - PI-AK: 0\n",
      "2024-11-13 22:44:25,726 - INFO - PI-5Z: -0.3177570093457942\n",
      "2024-11-13 22:44:25,726 - INFO - PD-CT: 0\n",
      "2024-11-13 22:44:25,727 - INFO - PD-BI: 0.008333333333333304\n",
      "2024-11-13 22:44:25,727 - INFO - PD-PK: 2.2261904761904763\n",
      "2024-11-13 22:44:25,727 - INFO - PD-AK: -0.6259259259259258\n",
      "2024-11-13 22:44:25,728 - INFO - PD-5Z: 0\n",
      "2024-11-13 22:44:25,728 - INFO - CT-BI: 0\n",
      "2024-11-13 22:44:25,728 - INFO - CT-PK: 0\n",
      "2024-11-13 22:44:25,729 - INFO - CT-AK: 0\n",
      "2024-11-13 22:44:25,729 - INFO - CT-5Z: 0\n",
      "2024-11-13 22:44:25,729 - INFO - BI-PK: -0.37174766813942073\n",
      "2024-11-13 22:44:25,730 - INFO - BI-AK: 0.125\n",
      "2024-11-13 22:44:25,730 - INFO - BI-5Z: 0.1499999999999999\n",
      "2024-11-13 22:44:25,731 - INFO - PK-AK: -0.2154761904761905\n",
      "2024-11-13 22:44:25,731 - INFO - PK-5Z: 2.2261904761904763\n",
      "2024-11-13 22:44:25,732 - INFO - AK-5Z: -0.7\n",
      "2024-11-13 22:44:36,698 - INFO - \n",
      "Synergy scores (hsa):\n",
      "2024-11-13 22:44:36,699 - INFO - PI-PD: -1.4508540122462132\n",
      "2024-11-13 22:44:36,700 - INFO - PI-CT: 0\n",
      "2024-11-13 22:44:36,700 - INFO - PI-BI: -0.014018691588784993\n",
      "2024-11-13 22:44:36,700 - INFO - PI-PK: 0.004117647058823448\n",
      "2024-11-13 22:44:36,701 - INFO - PI-AK: -0.016666666666666607\n",
      "2024-11-13 22:44:36,701 - INFO - PI-5Z: -0.33644859813084116\n",
      "2024-11-13 22:44:36,701 - INFO - PD-CT: 0\n",
      "2024-11-13 22:44:36,702 - INFO - PD-BI: 0.012500000000000178\n",
      "2024-11-13 22:44:36,702 - INFO - PD-PK: 2.2941176470588234\n",
      "2024-11-13 22:44:36,702 - INFO - PD-AK: -0.48690476190476173\n",
      "2024-11-13 22:44:36,703 - INFO - PD-5Z: 0\n",
      "2024-11-13 22:44:36,703 - INFO - CT-BI: 0\n",
      "2024-11-13 22:44:36,703 - INFO - CT-PK: 0\n",
      "2024-11-13 22:44:36,703 - INFO - CT-AK: 0\n",
      "2024-11-13 22:44:36,703 - INFO - CT-5Z: 0\n",
      "2024-11-13 22:44:36,704 - INFO - BI-PK: -0.28588235294117653\n",
      "2024-11-13 22:44:36,704 - INFO - BI-AK: 0.08333333333333348\n",
      "2024-11-13 22:44:36,704 - INFO - BI-5Z: 0.1625000000000001\n",
      "2024-11-13 22:44:36,704 - INFO - PK-AK: -0.13921568627450986\n",
      "2024-11-13 22:44:36,704 - INFO - PK-5Z: 2.2941176470588234\n",
      "2024-11-13 22:44:36,704 - INFO - AK-5Z: -0.6999999999999997\n",
      "2024-11-13 22:44:47,517 - INFO - \n",
      "Synergy scores (hsa):\n",
      "2024-11-13 22:44:47,518 - INFO - PI-PD: -1.572903014416776\n",
      "2024-11-13 22:44:47,518 - INFO - PI-CT: 0\n",
      "2024-11-13 22:44:47,519 - INFO - PI-BI: -0.009174311926605672\n",
      "2024-11-13 22:44:47,520 - INFO - PI-PK: -0.02767441860465114\n",
      "2024-11-13 22:44:47,520 - INFO - PI-AK: -0.016666666666666607\n",
      "2024-11-13 22:44:47,520 - INFO - PI-5Z: -0.3302752293577984\n",
      "2024-11-13 22:44:47,521 - INFO - PD-CT: 0\n",
      "2024-11-13 22:44:47,521 - INFO - PD-BI: 0.008333333333333304\n",
      "2024-11-13 22:44:47,521 - INFO - PD-PK: 2.302325581395349\n",
      "2024-11-13 22:44:47,521 - INFO - PD-AK: -0.6705128205128204\n",
      "2024-11-13 22:44:47,521 - INFO - PD-5Z: 0\n",
      "2024-11-13 22:44:47,522 - INFO - CT-BI: 0\n",
      "2024-11-13 22:44:47,522 - INFO - CT-PK: 0\n",
      "2024-11-13 22:44:47,522 - INFO - CT-AK: 0\n",
      "2024-11-13 22:44:47,522 - INFO - CT-5Z: 0\n",
      "2024-11-13 22:44:47,522 - INFO - BI-PK: -0.31383603476626737\n",
      "2024-11-13 22:44:47,523 - INFO - BI-AK: 0.10000000000000009\n",
      "2024-11-13 22:44:47,523 - INFO - BI-5Z: 0.17499999999999982\n",
      "2024-11-13 22:44:47,523 - INFO - PK-AK: -0.18934108527131788\n",
      "2024-11-13 22:44:47,523 - INFO - PK-5Z: 2.302325581395349\n",
      "2024-11-13 22:44:47,524 - INFO - AK-5Z: -0.7249999999999999\n",
      "2024-11-13 22:44:58,480 - INFO - \n",
      "Synergy scores (hsa):\n",
      "2024-11-13 22:44:58,481 - INFO - PI-PD: -1.3996753246753246\n",
      "2024-11-13 22:44:58,481 - INFO - PI-CT: 0\n",
      "2024-11-13 22:44:58,482 - INFO - PI-BI: -0.013636363636363669\n",
      "2024-11-13 22:44:58,482 - INFO - PI-PK: 0.016280451574569255\n",
      "2024-11-13 22:44:58,483 - INFO - PI-AK: 0\n",
      "2024-11-13 22:44:58,483 - INFO - PI-5Z: -0.3090909090909091\n",
      "2024-11-13 22:44:58,483 - INFO - PD-CT: 0\n",
      "2024-11-13 22:44:58,484 - INFO - PD-BI: -0.00416666666666643\n",
      "2024-11-13 22:44:58,484 - INFO - PD-PK: 2.3294117647058825\n",
      "2024-11-13 22:44:58,484 - INFO - PD-AK: -0.6379629629629628\n",
      "2024-11-13 22:44:58,484 - INFO - PD-5Z: 0\n",
      "2024-11-13 22:44:58,484 - INFO - CT-BI: 0\n",
      "2024-11-13 22:44:58,484 - INFO - CT-PK: 0\n",
      "2024-11-13 22:44:58,485 - INFO - CT-AK: 0\n",
      "2024-11-13 22:44:58,485 - INFO - CT-5Z: 0\n",
      "2024-11-13 22:44:58,485 - INFO - BI-PK: -0.2905882352941176\n",
      "2024-11-13 22:44:58,485 - INFO - BI-AK: 0.1166666666666667\n",
      "2024-11-13 22:44:58,485 - INFO - BI-5Z: 0.1625000000000001\n",
      "2024-11-13 22:44:58,485 - INFO - PK-AK: -0.15392156862745088\n",
      "2024-11-13 22:44:58,486 - INFO - PK-5Z: 2.3294117647058825\n",
      "2024-11-13 22:44:58,486 - INFO - AK-5Z: -0.7083333333333333\n",
      "2024-11-13 22:45:10,105 - INFO - \n",
      "Synergy scores (hsa):\n",
      "2024-11-13 22:45:10,106 - INFO - PI-PD: -1.3463963963963963\n",
      "2024-11-13 22:45:10,106 - INFO - PI-CT: 0\n",
      "2024-11-13 22:45:10,107 - INFO - PI-BI: -0.02702702702702675\n",
      "2024-11-13 22:45:10,108 - INFO - PI-PK: -0.05246386707636275\n",
      "2024-11-13 22:45:10,108 - INFO - PI-AK: -0.016666666666666607\n",
      "2024-11-13 22:45:10,109 - INFO - PI-5Z: -0.34234234234234195\n",
      "2024-11-13 22:45:10,109 - INFO - PD-CT: 0\n",
      "2024-11-13 22:45:10,109 - INFO - PD-BI: 0.008333333333333748\n",
      "2024-11-13 22:45:10,109 - INFO - PD-PK: 2.264367816091954\n",
      "2024-11-13 22:45:10,109 - INFO - PD-AK: -0.6071428571428572\n",
      "2024-11-13 22:45:10,109 - INFO - PD-5Z: 0\n",
      "2024-11-13 22:45:10,110 - INFO - CT-BI: 0\n",
      "2024-11-13 22:45:10,110 - INFO - CT-PK: 0\n",
      "2024-11-13 22:45:10,110 - INFO - CT-AK: 0\n",
      "2024-11-13 22:45:10,110 - INFO - CT-5Z: 0\n",
      "2024-11-13 22:45:10,110 - INFO - BI-PK: -0.32969158984864\n",
      "2024-11-13 22:45:10,110 - INFO - BI-AK: 0.10833333333333339\n",
      "2024-11-13 22:45:10,111 - INFO - BI-5Z: 0.19166666666666687\n",
      "2024-11-13 22:45:10,111 - INFO - PK-AK: -0.22729885057471266\n",
      "2024-11-13 22:45:10,111 - INFO - PK-5Z: 2.264367816091954\n",
      "2024-11-13 22:45:10,111 - INFO - AK-5Z: -0.7\n",
      "2024-11-13 22:45:22,371 - INFO - \n",
      "Synergy scores (hsa):\n",
      "2024-11-13 22:45:22,372 - INFO - PI-PD: -1.1695601851851851\n",
      "2024-11-13 22:45:22,373 - INFO - PI-CT: 0\n",
      "2024-11-13 22:45:22,374 - INFO - PI-BI: 0\n",
      "2024-11-13 22:45:22,375 - INFO - PI-PK: -0.019670518809933646\n",
      "2024-11-13 22:45:22,375 - INFO - PI-AK: -0.016666666666666607\n",
      "2024-11-13 22:45:22,376 - INFO - PI-5Z: -0.3148148148148149\n",
      "2024-11-13 22:45:22,377 - INFO - PD-CT: 0\n",
      "2024-11-13 22:45:22,377 - INFO - PD-BI: 0.02499999999999991\n",
      "2024-11-13 22:45:22,378 - INFO - PD-PK: 2.2048192771084336\n",
      "2024-11-13 22:45:22,378 - INFO - PD-AK: -0.5389784946236558\n",
      "2024-11-13 22:45:22,379 - INFO - PD-5Z: 0\n",
      "2024-11-13 22:45:22,379 - INFO - CT-BI: 0\n",
      "2024-11-13 22:45:22,379 - INFO - CT-PK: 0\n",
      "2024-11-13 22:45:22,380 - INFO - CT-AK: 0\n",
      "2024-11-13 22:45:22,381 - INFO - CT-5Z: 0\n",
      "2024-11-13 22:45:22,381 - INFO - BI-PK: -0.3972215392180969\n",
      "2024-11-13 22:45:22,382 - INFO - BI-AK: 0.14166666666666683\n",
      "2024-11-13 22:45:22,382 - INFO - BI-5Z: 0.17499999999999982\n",
      "2024-11-13 22:45:22,383 - INFO - PK-AK: -0.24518072289156623\n",
      "2024-11-13 22:45:22,383 - INFO - PK-5Z: 2.2048192771084336\n",
      "2024-11-13 22:45:22,384 - INFO - AK-5Z: -0.6666666666666665\n",
      "2024-11-13 22:45:33,605 - INFO - \n",
      "Synergy scores (hsa):\n",
      "2024-11-13 22:45:33,605 - INFO - PI-PD: -1.2370301335818576\n",
      "2024-11-13 22:45:33,606 - INFO - PI-CT: 0\n",
      "2024-11-13 22:45:33,606 - INFO - PI-BI: -0.018018018018017834\n",
      "2024-11-13 22:45:33,607 - INFO - PI-PK: 0.01626559714795006\n",
      "2024-11-13 22:45:33,607 - INFO - PI-AK: -0.016666666666666607\n",
      "2024-11-13 22:45:33,607 - INFO - PI-5Z: -0.3243243243243241\n",
      "2024-11-13 22:45:33,607 - INFO - PD-CT: 0\n",
      "2024-11-13 22:45:33,607 - INFO - PD-BI: 0.02083333333333348\n",
      "2024-11-13 22:45:33,607 - INFO - PD-PK: 2.2613636363636362\n",
      "2024-11-13 22:45:33,608 - INFO - PD-AK: -0.5773809523809523\n",
      "2024-11-13 22:45:33,608 - INFO - PD-5Z: 0\n",
      "2024-11-13 22:45:33,608 - INFO - CT-BI: 0\n",
      "2024-11-13 22:45:33,608 - INFO - CT-PK: 0\n",
      "2024-11-13 22:45:33,608 - INFO - CT-AK: 0\n",
      "2024-11-13 22:45:33,608 - INFO - CT-5Z: 0\n",
      "2024-11-13 22:45:33,609 - INFO - BI-PK: -0.3268716577540107\n",
      "2024-11-13 22:45:33,609 - INFO - BI-AK: 0.09166666666666679\n",
      "2024-11-13 22:45:33,609 - INFO - BI-5Z: 0.1625000000000001\n",
      "2024-11-13 22:45:33,609 - INFO - PK-AK: -0.171969696969697\n",
      "2024-11-13 22:45:33,609 - INFO - PK-5Z: 2.2613636363636362\n",
      "2024-11-13 22:45:33,609 - INFO - AK-5Z: -0.7\n",
      "2024-11-13 22:45:45,207 - INFO - \n",
      "Synergy scores (hsa):\n",
      "2024-11-13 22:45:45,208 - INFO - PI-PD: -1.3259897828863343\n",
      "2024-11-13 22:45:45,208 - INFO - PI-CT: 0\n",
      "2024-11-13 22:45:45,208 - INFO - PI-BI: 0.004629629629629761\n",
      "2024-11-13 22:45:45,209 - INFO - PI-PK: -0.03231292517006801\n",
      "2024-11-13 22:45:45,209 - INFO - PI-AK: -0.016666666666666607\n",
      "2024-11-13 22:45:45,209 - INFO - PI-5Z: -0.2777777777777777\n",
      "2024-11-13 22:45:45,209 - INFO - PD-CT: 0\n",
      "2024-11-13 22:45:45,209 - INFO - PD-BI: 0.012500000000000178\n",
      "2024-11-13 22:45:45,210 - INFO - PD-PK: 2.2738095238095237\n",
      "2024-11-13 22:45:45,210 - INFO - PD-AK: -0.5778735632183909\n",
      "2024-11-13 22:45:45,210 - INFO - PD-5Z: 0\n",
      "2024-11-13 22:45:45,210 - INFO - CT-BI: 0\n",
      "2024-11-13 22:45:45,210 - INFO - CT-PK: 0\n",
      "2024-11-13 22:45:45,210 - INFO - CT-AK: 0\n",
      "2024-11-13 22:45:45,211 - INFO - CT-5Z: 0\n",
      "2024-11-13 22:45:45,211 - INFO - BI-PK: -0.34235209235209235\n",
      "2024-11-13 22:45:45,212 - INFO - BI-AK: 0.125\n",
      "2024-11-13 22:45:45,212 - INFO - BI-5Z: 0.1625000000000001\n",
      "2024-11-13 22:45:45,212 - INFO - PK-AK: -0.22619047619047616\n",
      "2024-11-13 22:45:45,213 - INFO - PK-5Z: 2.2738095238095237\n",
      "2024-11-13 22:45:45,213 - INFO - AK-5Z: -0.7083333333333333\n",
      "2024-11-13 22:45:56,724 - INFO - \n",
      "Synergy scores (hsa):\n",
      "2024-11-13 22:45:56,726 - INFO - PI-PD: -1.242003367003367\n",
      "2024-11-13 22:45:56,726 - INFO - PI-CT: 0\n",
      "2024-11-13 22:45:56,727 - INFO - PI-BI: -0.02777777777777768\n",
      "2024-11-13 22:45:56,728 - INFO - PI-PK: -0.043333333333333335\n",
      "2024-11-13 22:45:56,728 - INFO - PI-AK: -0.01666666666666683\n",
      "2024-11-13 22:45:56,729 - INFO - PI-5Z: -0.3148148148148149\n",
      "2024-11-13 22:45:56,729 - INFO - PD-CT: 0\n",
      "2024-11-13 22:45:56,729 - INFO - PD-BI: 0.02499999999999991\n",
      "2024-11-13 22:45:56,730 - INFO - PD-PK: 2.1666666666666665\n",
      "2024-11-13 22:45:56,730 - INFO - PD-AK: -0.5375000000000001\n",
      "2024-11-13 22:45:56,731 - INFO - PD-5Z: 0\n",
      "2024-11-13 22:45:56,731 - INFO - CT-BI: 0\n",
      "2024-11-13 22:45:56,731 - INFO - CT-PK: 0\n",
      "2024-11-13 22:45:56,732 - INFO - CT-AK: 0\n",
      "2024-11-13 22:45:56,732 - INFO - CT-5Z: 0\n",
      "2024-11-13 22:45:56,732 - INFO - BI-PK: -0.4191919191919192\n",
      "2024-11-13 22:45:56,733 - INFO - BI-AK: 0.125\n",
      "2024-11-13 22:45:56,733 - INFO - BI-5Z: 0.18333333333333313\n",
      "2024-11-13 22:45:56,734 - INFO - PK-AK: -0.275\n",
      "2024-11-13 22:45:56,734 - INFO - PK-5Z: 2.1666666666666665\n",
      "2024-11-13 22:45:56,735 - INFO - AK-5Z: -0.6666666666666667\n",
      "2024-11-13 22:46:08,074 - INFO - \n",
      "Synergy scores (hsa):\n",
      "2024-11-13 22:46:08,075 - INFO - PI-PD: -1.1959155417099343\n",
      "2024-11-13 22:46:08,076 - INFO - PI-CT: 0\n",
      "2024-11-13 22:46:08,077 - INFO - PI-BI: -0.018691588785046953\n",
      "2024-11-13 22:46:08,077 - INFO - PI-PK: -0.014536340852130292\n",
      "2024-11-13 22:46:08,078 - INFO - PI-AK: -0.01666666666666705\n",
      "2024-11-13 22:46:08,078 - INFO - PI-5Z: -0.31775700934579465\n",
      "2024-11-13 22:46:08,079 - INFO - PD-CT: 0\n",
      "2024-11-13 22:46:08,079 - INFO - PD-BI: 0.02916666666666634\n",
      "2024-11-13 22:46:08,080 - INFO - PD-PK: 2.238095238095238\n",
      "2024-11-13 22:46:08,080 - INFO - PD-AK: -0.5150000000000001\n",
      "2024-11-13 22:46:08,081 - INFO - PD-5Z: 0\n",
      "2024-11-13 22:46:08,081 - INFO - CT-BI: 0\n",
      "2024-11-13 22:46:08,081 - INFO - CT-PK: 0\n",
      "2024-11-13 22:46:08,082 - INFO - CT-AK: 0\n",
      "2024-11-13 22:46:08,082 - INFO - CT-5Z: 0\n",
      "2024-11-13 22:46:08,083 - INFO - BI-PK: -0.3408521303258145\n",
      "2024-11-13 22:46:08,083 - INFO - BI-AK: 0.09999999999999964\n",
      "2024-11-13 22:46:08,084 - INFO - BI-5Z: 0.12083333333333313\n",
      "2024-11-13 22:46:08,085 - INFO - PK-AK: -0.20357142857142851\n",
      "2024-11-13 22:46:08,085 - INFO - PK-5Z: 2.238095238095238\n",
      "2024-11-13 22:46:08,088 - INFO - AK-5Z: -0.7250000000000001\n",
      "2024-11-13 22:46:20,523 - INFO - \n",
      "Synergy scores (hsa):\n",
      "2024-11-13 22:46:20,524 - INFO - PI-PD: -1.1042413381123057\n",
      "2024-11-13 22:46:20,524 - INFO - PI-CT: 0\n",
      "2024-11-13 22:46:20,524 - INFO - PI-BI: -0.023148148148147918\n",
      "2024-11-13 22:46:20,525 - INFO - PI-PK: 0.010681902869208781\n",
      "2024-11-13 22:46:20,526 - INFO - PI-AK: -0.016666666666666607\n",
      "2024-11-13 22:46:20,526 - INFO - PI-5Z: -0.2962962962962963\n",
      "2024-11-13 22:46:20,527 - INFO - PD-CT: 0\n",
      "2024-11-13 22:46:20,527 - INFO - PD-BI: 0.016666666666666607\n",
      "2024-11-13 22:46:20,528 - INFO - PD-PK: 2.216867469879518\n",
      "2024-11-13 22:46:20,528 - INFO - PD-AK: -0.4037634408602151\n",
      "2024-11-13 22:46:20,529 - INFO - PD-5Z: 0\n",
      "2024-11-13 22:46:20,529 - INFO - CT-BI: 0\n",
      "2024-11-13 22:46:20,529 - INFO - CT-PK: 0\n",
      "2024-11-13 22:46:20,530 - INFO - CT-AK: 0\n",
      "2024-11-13 22:46:20,530 - INFO - CT-5Z: 0\n",
      "2024-11-13 22:46:20,530 - INFO - BI-PK: -0.3851733464470125\n",
      "2024-11-13 22:46:20,531 - INFO - BI-AK: 0.10833333333333339\n",
      "2024-11-13 22:46:20,531 - INFO - BI-5Z: 0.1416666666666666\n",
      "2024-11-13 22:46:20,531 - INFO - PK-AK: -0.20813253012048194\n",
      "2024-11-13 22:46:20,532 - INFO - PK-5Z: 2.216867469879518\n",
      "2024-11-13 22:46:20,532 - INFO - AK-5Z: -0.675\n"
     ]
    },
    {
     "data": {
      "image/png": "[encoded data removed]",
      "text/plain": [
       "<Figure size 800x600 with 1 Axes>"
      ]
     },
     "metadata": {},
     "output_type": "display_data"
    }
   ],
   "source": [
    "sampling_with_ci(best_boolean_models_calibrated, observed_synergy_scores, model_outputs, perturbations,\n",
    "                     repeat_time=15, sub_ratio=0.8, boot_n=1000, confidence_level= 0.95, plot_discrete=False, with_seeds=True)"
   ]
  }
 ],
 "metadata": {
  "kernelspec": {
   "display_name": "Python 3 (ipykernel)",
   "language": "python",
   "name": "python3"
  },
  "language_info": {
   "codemirror_mode": {
    "name": "ipython",
    "version": 3
   },
   "file_extension": ".py",
   "mimetype": "text/x-python",
   "name": "python",
   "nbconvert_exporter": "python",
   "pygments_lexer": "ipython3",
   "version": "3.10.12"
  }
 },
 "nbformat": 4,
 "nbformat_minor": 5
}
